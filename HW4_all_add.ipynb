{
 "cells": [
  {
   "cell_type": "code",
   "execution_count": 4,
   "id": "df3e5e0c",
   "metadata": {},
   "outputs": [],
   "source": [
    "import torch\n",
    "from torch import nn, optim\n",
    "from torch.utils.data import DataLoader\n",
    "from datetime import datetime\n",
    "import os\n",
    "import wandb\n",
    "from pathlib import Path"
   ]
  },
  {
   "cell_type": "code",
   "execution_count": 5,
   "id": "f500840c",
   "metadata": {},
   "outputs": [
    {
     "name": "stdout",
     "output_type": "stream",
     "text": [
      "BASE_PATH: /home/work\n"
     ]
    }
   ],
   "source": [
    "BASE_PATH = str(Path.cwd().resolve().parent) # BASE_PATH: /Users/yhhan/git/link_dl\n",
    "import sys\n",
    "sys.path.append(BASE_PATH)\n",
    "print(f\"BASE_PATH: {BASE_PATH}\")"
   ]
  },
  {
   "cell_type": "code",
   "execution_count": 6,
   "id": "01b892d7",
   "metadata": {},
   "outputs": [],
   "source": [
    "CURRENT_FILE_PATH = os.getcwd()  # Use os.getcwd() in Jupyter\n",
    "CHECKPOINT_FILE_PATH = os.path.join(CURRENT_FILE_PATH, \"checkpoints\")"
   ]
  },
  {
   "cell_type": "code",
   "execution_count": 7,
   "id": "8e2f1afb",
   "metadata": {},
   "outputs": [],
   "source": [
    "if not os.path.isdir(CHECKPOINT_FILE_PATH):\n",
    "  os.makedirs(os.path.join(CURRENT_FILE_PATH, \"checkpoints\"))"
   ]
  },
  {
   "cell_type": "code",
   "execution_count": 8,
   "id": "dce0f4fc",
   "metadata": {},
   "outputs": [],
   "source": [
    "from f_arg_parser import get_parser\n",
    "from g_rnn_trainer import RegressionTrainer\n",
    "from p_cryptocurrency_dataset_dataloader import get_cryptocurrency_data, \\\n",
    "  CryptoCurrencyDataset"
   ]
  },
  {
   "cell_type": "code",
   "execution_count": 9,
   "id": "ffc16178",
   "metadata": {},
   "outputs": [],
   "source": [
    "def get_btc_krw_data(sequence_size=10, validation_size=100, test_size=10, is_regression=True):\n",
    "    \"\"\"\n",
    "    Load and preprocess BTC/KRW data for training, validation, and testing.\n",
    "    \n",
    "    Args:\n",
    "        sequence_size (int): Number of time steps in each input sequence.\n",
    "        validation_size (int): Number of samples in the validation set.\n",
    "        test_size (int): Number of samples in the test set.\n",
    "        is_regression (bool): If True, prepare data for regression tasks; if False, prepare for classification.\n",
    "\n",
    "    Returns:\n",
    "        tuple: DataLoaders for training, validation, and testing.\n",
    "    \"\"\"\n",
    "\n",
    "    # Load cryptocurrency data and split into train, validation, and test sets\n",
    "    X_train, X_validation, X_test, y_train, y_validation, y_test, y_train_date, y_validation_date, y_test_date = \\\n",
    "        get_cryptocurrency_data(\n",
    "            sequence_size=sequence_size,  # Time steps per sequence\n",
    "            validation_size=validation_size,  # Validation set size\n",
    "            test_size=test_size,  # Test set size\n",
    "            target_column='Close',  # Target column for prediction\n",
    "            y_normalizer=1.0e7,  # Normalize target values (scale down by this factor)\n",
    "            is_regression=is_regression  # Determine task type: regression or classification\n",
    "        )\n",
    "\n",
    "    # Print shapes for debugging (optional, uncomment if needed)\n",
    "    # print(X_train.shape, X_validation.shape, X_test.shape, y_train.shape, y_validation.shape, y_test.shape, \"!!! - 1\")\n",
    "\n",
    "    # Shape explanation (debugging comment retained for reference):\n",
    "    # - X_train.shape: [num_train_samples, sequence_size, num_features]\n",
    "    # - y_train.shape: [num_train_samples]\n",
    "\n",
    "    # Create datasets from the data\n",
    "    train_crypto_currency_dataset = CryptoCurrencyDataset(X=X_train, y=y_train)\n",
    "    validation_crypto_currency_dataset = CryptoCurrencyDataset(X=X_validation, y=y_validation)\n",
    "    test_crypto_currency_dataset = CryptoCurrencyDataset(X=X_test, y=y_test)\n",
    "\n",
    "    # Create DataLoaders for batching and shuffling\n",
    "    train_data_loader = DataLoader(\n",
    "        dataset=train_crypto_currency_dataset,\n",
    "        batch_size=wandb.config.batch_size,  # Use batch size from wandb config\n",
    "        shuffle=True  # Shuffle data for training\n",
    "    )\n",
    "    validation_data_loader = DataLoader(\n",
    "        dataset=validation_crypto_currency_dataset,\n",
    "        batch_size=wandb.config.batch_size,  # Validation set batch size\n",
    "        shuffle=True  # Shuffle for validation\n",
    "    )\n",
    "    test_data_loader = DataLoader(\n",
    "        dataset=test_crypto_currency_dataset,\n",
    "        batch_size=len(test_crypto_currency_dataset),  # Use full batch for testing\n",
    "        shuffle=True  # Shuffle for test data\n",
    "    )\n",
    "\n",
    "    # Return DataLoaders for training, validation, and testing\n",
    "    return train_data_loader, validation_data_loader, test_data_loader\n"
   ]
  },
  {
   "cell_type": "code",
   "execution_count": 10,
   "id": "6886b7fe",
   "metadata": {},
   "outputs": [],
   "source": [
    "def get_model():\n",
    "  class MyModel(nn.Module):\n",
    "    def __init__(self, n_input, n_output):\n",
    "      super().__init__()\n",
    "\n",
    "      self.lstm = nn.LSTM(input_size=n_input, hidden_size=128, num_layers=2, batch_first=True)\n",
    "      self.fcn = nn.Linear(in_features=128, out_features=n_output)\n",
    "\n",
    "    def forward(self, x):\n",
    "      x, hidden = self.lstm(x)\n",
    "      x = x[:, -1, :]  # x.shape: [32, 128]\n",
    "      x = self.fcn(x)\n",
    "      return x\n",
    "\n",
    "  my_model = MyModel(n_input=5, n_output=1)\n",
    "\n",
    "  return my_model"
   ]
  },
  {
   "cell_type": "code",
   "execution_count": 11,
   "id": "167672e2",
   "metadata": {},
   "outputs": [],
   "source": [
    "def main(args):\n",
    "  run_time_str = datetime.now().astimezone().strftime('%Y-%m-%d_%H-%M-%S')\n",
    "\n",
    "  config = {\n",
    "    'epochs': args.epochs,\n",
    "    'batch_size': args.batch_size,\n",
    "    'validation_intervals': args.validation_intervals,\n",
    "    'learning_rate': args.learning_rate,\n",
    "    'early_stop_patience': args.early_stop_patience,\n",
    "    'early_stop_delta': args.early_stop_delta,\n",
    "    'weight_decay': args.weight_decay\n",
    "  }\n",
    "\n",
    "  project_name = \"lstm_regression_btc_krw\"\n",
    "  wandb.init(\n",
    "    mode=\"online\" if args.wandb else \"disabled\",\n",
    "    project=project_name,\n",
    "    notes=\"btc_krw experiment with lstm\",\n",
    "    tags=[\"lstm\", \"regression\", \"btc_krw\"],\n",
    "    name=run_time_str,\n",
    "    config=config\n",
    "  )\n",
    "  print(args)\n",
    "  print(wandb.config)\n",
    "\n",
    "  train_data_loader, validation_data_loader, _ = get_btc_krw_data()\n",
    "  device = torch.device(\"cuda:0\" if torch.cuda.is_available() else \"cpu\")\n",
    "  print(f\"Training on device {device}.\")\n",
    "\n",
    "  model = get_model()\n",
    "  model.to(device)\n",
    "\n",
    "  optimizer = optim.Adam(model.parameters(), lr=wandb.config.learning_rate, weight_decay=wandb.config.weight_decay)\n",
    "\n",
    "  regression_trainer = RegressionTrainer(\n",
    "    project_name, model, optimizer, train_data_loader, validation_data_loader, None,\n",
    "    run_time_str, wandb, device, CHECKPOINT_FILE_PATH\n",
    "  )\n",
    "  regression_trainer.train_loop()\n",
    "\n",
    "  wandb.finish()"
   ]
  },
  {
   "cell_type": "code",
   "execution_count": 13,
   "id": "0e1f8145",
   "metadata": {},
   "outputs": [
    {
     "name": "stderr",
     "output_type": "stream",
     "text": [
      "usage: ipykernel_launcher.py [-h] [--wandb | --no-wandb] [-b BATCH_SIZE]\n",
      "                             [-e EPOCHS] [-r LEARNING_RATE] [-w WEIGHT_DECAY]\n",
      "                             [-v VALIDATION_INTERVALS]\n",
      "                             [-p EARLY_STOP_PATIENCE] [-d EARLY_STOP_DELTA]\n",
      "ipykernel_launcher.py: error: unrecognized arguments: -f /home/work/.local/share/jupyter/runtime/kernel-711e647d-345c-45d3-99e1-a4b2acd3a08c.json\n"
     ]
    },
    {
     "ename": "SystemExit",
     "evalue": "2",
     "output_type": "error",
     "traceback": [
      "An exception has occurred, use %tb to see the full traceback.\n",
      "\u001b[0;31mSystemExit\u001b[0m\u001b[0;31m:\u001b[0m 2\n"
     ]
    },
    {
     "name": "stderr",
     "output_type": "stream",
     "text": [
      "/usr/local/lib/python3.10/dist-packages/IPython/core/interactiveshell.py:3561: UserWarning: To exit: use 'exit', 'quit', or Ctrl-D.\n",
      "  warn(\"To exit: use 'exit', 'quit', or Ctrl-D.\", stacklevel=1)\n"
     ]
    }
   ],
   "source": [
    "if __name__ == \"__main__\":\n",
    "  parser = get_parser()\n",
    "  args = parser.parse_args()\n",
    "  main(args)\n",
    "\n",
    "  # python _01_code/_11_lstm_and_its_application/f_crypto_currency_regression_train_lstm.py --wandb\n",
    "  # python g_crypto_currency_regression_train_lstm.py --wandb"
   ]
  },
  {
   "cell_type": "code",
   "execution_count": null,
   "id": "7f545770",
   "metadata": {},
   "outputs": [],
   "source": []
  },
  {
   "cell_type": "code",
   "execution_count": null,
   "id": "63fcd46b",
   "metadata": {},
   "outputs": [],
   "source": []
  },
  {
   "cell_type": "code",
   "execution_count": 14,
   "id": "2c66330b",
   "metadata": {},
   "outputs": [],
   "source": [
    "import os\n",
    "os.environ[\"PATH\"] += r\";C:\\Users\\didsu\\AppData\\Local\\Programs\\MiKTeX\\miktex\\bin\\x64\""
   ]
  },
  {
   "cell_type": "code",
   "execution_count": 20,
   "id": "b8ac92c1",
   "metadata": {},
   "outputs": [
    {
     "name": "stdout",
     "output_type": "stream",
     "text": [
      "Defaulting to user installation because normal site-packages is not writeable\n",
      "Looking in indexes: https://pypi.org/simple, https://pypi.ngc.nvidia.com\n",
      "Collecting wandb\n",
      "  Downloading wandb-0.19.1-py3-none-manylinux_2_17_x86_64.manylinux2014_x86_64.whl.metadata (10 kB)\n",
      "Requirement already satisfied: click!=8.0.0,>=7.1 in /usr/local/lib/python3.10/dist-packages (from wandb) (8.1.7)\n",
      "Collecting docker-pycreds>=0.4.0 (from wandb)\n",
      "  Downloading docker_pycreds-0.4.0-py2.py3-none-any.whl.metadata (1.8 kB)\n",
      "Requirement already satisfied: gitpython!=3.1.29,>=1.0.0 in /usr/local/lib/python3.10/dist-packages (from wandb) (3.1.26)\n",
      "Requirement already satisfied: platformdirs in /usr/local/lib/python3.10/dist-packages (from wandb) (4.2.0)\n",
      "Requirement already satisfied: protobuf!=4.21.0,!=5.28.0,<6,>=3.19.0 in /usr/local/lib/python3.10/dist-packages (from wandb) (3.20.3)\n",
      "Requirement already satisfied: psutil>=5.0.0 in /usr/local/lib/python3.10/dist-packages (from wandb) (5.9.4)\n",
      "Requirement already satisfied: pydantic<3,>=2.6 in /usr/local/lib/python3.10/dist-packages (from wandb) (2.6.3)\n",
      "Requirement already satisfied: pyyaml in /usr/local/lib/python3.10/dist-packages (from wandb) (6.0.1)\n",
      "Requirement already satisfied: requests<3,>=2.0.0 in /usr/local/lib/python3.10/dist-packages (from wandb) (2.31.0)\n",
      "Collecting sentry-sdk>=2.0.0 (from wandb)\n",
      "  Downloading sentry_sdk-2.19.2-py2.py3-none-any.whl.metadata (9.9 kB)\n",
      "Collecting setproctitle (from wandb)\n",
      "  Downloading setproctitle-1.3.4-cp310-cp310-manylinux_2_5_x86_64.manylinux1_x86_64.manylinux_2_17_x86_64.manylinux2014_x86_64.whl.metadata (10 kB)\n",
      "Requirement already satisfied: setuptools in /usr/local/lib/python3.10/dist-packages (from wandb) (68.2.2)\n",
      "Requirement already satisfied: typing-extensions<5,>=4.4 in /usr/local/lib/python3.10/dist-packages (from wandb) (4.10.0)\n",
      "Requirement already satisfied: six>=1.4.0 in /usr/local/lib/python3.10/dist-packages (from docker-pycreds>=0.4.0->wandb) (1.16.0)\n",
      "Requirement already satisfied: gitdb<5,>=4.0.1 in /usr/local/lib/python3.10/dist-packages (from gitpython!=3.1.29,>=1.0.0->wandb) (4.0.5)\n",
      "Requirement already satisfied: annotated-types>=0.4.0 in /usr/local/lib/python3.10/dist-packages (from pydantic<3,>=2.6->wandb) (0.6.0)\n",
      "Requirement already satisfied: pydantic-core==2.16.3 in /usr/local/lib/python3.10/dist-packages (from pydantic<3,>=2.6->wandb) (2.16.3)\n",
      "Requirement already satisfied: charset-normalizer<4,>=2 in /usr/local/lib/python3.10/dist-packages (from requests<3,>=2.0.0->wandb) (3.3.2)\n",
      "Requirement already satisfied: idna<4,>=2.5 in /usr/local/lib/python3.10/dist-packages (from requests<3,>=2.0.0->wandb) (3.6)\n",
      "Requirement already satisfied: urllib3<3,>=1.21.1 in /usr/local/lib/python3.10/dist-packages (from requests<3,>=2.0.0->wandb) (1.26.18)\n",
      "Requirement already satisfied: certifi>=2017.4.17 in /usr/local/lib/python3.10/dist-packages (from requests<3,>=2.0.0->wandb) (2024.2.2)\n",
      "Requirement already satisfied: smmap<4,>=3.0.1 in /usr/local/lib/python3.10/dist-packages (from gitdb<5,>=4.0.1->gitpython!=3.1.29,>=1.0.0->wandb) (3.0.5)\n",
      "Downloading wandb-0.19.1-py3-none-manylinux_2_17_x86_64.manylinux2014_x86_64.whl (20.0 MB)\n",
      "\u001b[2K   \u001b[90m━━━━━━━━━━━━━━━━━━━━━━━━━━━━━━━━━━━━━━━━\u001b[0m \u001b[32m20.0/20.0 MB\u001b[0m \u001b[31m171.1 MB/s\u001b[0m eta \u001b[36m0:00:00\u001b[0ma \u001b[36m0:00:01\u001b[0m\n",
      "\u001b[?25hDownloading docker_pycreds-0.4.0-py2.py3-none-any.whl (9.0 kB)\n",
      "Downloading sentry_sdk-2.19.2-py2.py3-none-any.whl (322 kB)\n",
      "\u001b[2K   \u001b[90m━━━━━━━━━━━━━━━━━━━━━━━━━━━━━━━━━━━━━━━\u001b[0m \u001b[32m322.9/322.9 kB\u001b[0m \u001b[31m298.1 MB/s\u001b[0m eta \u001b[36m0:00:00\u001b[0m\n",
      "\u001b[?25hDownloading setproctitle-1.3.4-cp310-cp310-manylinux_2_5_x86_64.manylinux1_x86_64.manylinux_2_17_x86_64.manylinux2014_x86_64.whl (30 kB)\n",
      "\u001b[33mDEPRECATION: devscripts 2.22.1ubuntu1 has a non-standard version number. pip 24.1 will enforce this behaviour change. A possible replacement is to upgrade to a newer version of devscripts or contact the author to suggest that they release a version with a conforming version number. Discussion can be found at https://github.com/pypa/pip/issues/12063\u001b[0m\u001b[33m\n",
      "\u001b[0mInstalling collected packages: setproctitle, sentry-sdk, docker-pycreds, wandb\n",
      "Successfully installed docker-pycreds-0.4.0 sentry-sdk-2.19.2 setproctitle-1.3.4 wandb-0.19.1\n",
      "\n",
      "\u001b[1m[\u001b[0m\u001b[34;49mnotice\u001b[0m\u001b[1;39;49m]\u001b[0m\u001b[39;49m A new release of pip is available: \u001b[0m\u001b[31;49m24.0\u001b[0m\u001b[39;49m -> \u001b[0m\u001b[32;49m24.3.1\u001b[0m\n",
      "\u001b[1m[\u001b[0m\u001b[34;49mnotice\u001b[0m\u001b[1;39;49m]\u001b[0m\u001b[39;49m To update, run: \u001b[0m\u001b[32;49mpython3 -m pip install --upgrade pip\u001b[0m\n",
      "Note: you may need to restart the kernel to use updated packages.\n"
     ]
    }
   ],
   "source": [
    "pip install wandb"
   ]
  },
  {
   "cell_type": "code",
   "execution_count": 1,
   "id": "7f378e2c",
   "metadata": {},
   "outputs": [
    {
     "name": "stdout",
     "output_type": "stream",
     "text": [
      "0.19.1\n"
     ]
    }
   ],
   "source": [
    "import wandb\n",
    "print(wandb.__version__)"
   ]
  },
  {
   "cell_type": "code",
   "execution_count": 6,
   "id": "8e01068a",
   "metadata": {},
   "outputs": [
    {
     "name": "stdout",
     "output_type": "stream",
     "text": [
      "Defaulting to user installation because normal site-packages is not writeable\n",
      "Looking in indexes: https://pypi.org/simple, https://pypi.ngc.nvidia.com\n",
      "Requirement already satisfied: torch in /usr/local/lib/python3.10/dist-packages (2.3.0a0+40ec155e58.nv24.3)\n",
      "Requirement already satisfied: filelock in /usr/local/lib/python3.10/dist-packages (from torch) (3.11.0)\n",
      "Requirement already satisfied: typing-extensions>=4.8.0 in /usr/local/lib/python3.10/dist-packages (from torch) (4.10.0)\n",
      "Requirement already satisfied: sympy in /usr/local/lib/python3.10/dist-packages (from torch) (1.12)\n",
      "Requirement already satisfied: networkx in /usr/local/lib/python3.10/dist-packages (from torch) (2.6.3)\n",
      "Requirement already satisfied: jinja2 in /usr/local/lib/python3.10/dist-packages (from torch) (3.1.3)\n",
      "Requirement already satisfied: fsspec in /usr/local/lib/python3.10/dist-packages (from torch) (2023.10.0)\n",
      "Requirement already satisfied: MarkupSafe>=2.0 in /usr/local/lib/python3.10/dist-packages (from jinja2->torch) (2.0.1)\n",
      "Requirement already satisfied: mpmath>=0.19 in /usr/local/lib/python3.10/dist-packages (from sympy->torch) (1.3.0)\n",
      "\u001b[33mDEPRECATION: devscripts 2.22.1ubuntu1 has a non-standard version number. pip 24.1 will enforce this behaviour change. A possible replacement is to upgrade to a newer version of devscripts or contact the author to suggest that they release a version with a conforming version number. Discussion can be found at https://github.com/pypa/pip/issues/12063\u001b[0m\u001b[33m\n",
      "\u001b[0m\n",
      "\u001b[1m[\u001b[0m\u001b[34;49mnotice\u001b[0m\u001b[1;39;49m]\u001b[0m\u001b[39;49m A new release of pip is available: \u001b[0m\u001b[31;49m24.0\u001b[0m\u001b[39;49m -> \u001b[0m\u001b[32;49m24.3.1\u001b[0m\n",
      "\u001b[1m[\u001b[0m\u001b[34;49mnotice\u001b[0m\u001b[1;39;49m]\u001b[0m\u001b[39;49m To update, run: \u001b[0m\u001b[32;49mpython -m pip install --upgrade pip\u001b[0m\n"
     ]
    }
   ],
   "source": [
    "!pip install torch"
   ]
  },
  {
   "cell_type": "code",
   "execution_count": 8,
   "id": "f6081e33",
   "metadata": {},
   "outputs": [
    {
     "name": "stdout",
     "output_type": "stream",
     "text": [
      "2.3.0a0+40ec155e58.nv24.03\n"
     ]
    }
   ],
   "source": [
    "import torch\n",
    "print(torch.__version__)\n"
   ]
  },
  {
   "cell_type": "markdown",
   "id": "29f91b13",
   "metadata": {},
   "source": [
    "# 문제 1"
   ]
  },
  {
   "cell_type": "markdown",
   "id": "7f23f78d",
   "metadata": {},
   "source": [
    "### 문제 1-1 regression_train_lstm"
   ]
  },
  {
   "cell_type": "code",
   "execution_count": 9,
   "id": "a3f6a873",
   "metadata": {
    "scrolled": true
   },
   "outputs": [
    {
     "name": "stdout",
     "output_type": "stream",
     "text": [
      "Training on device cuda:0.\n",
      "[Epoch   1] T_loss: 1.16096, V_loss: 1.22297, Early stopping is stated! | T_time: 00:00:01, T_speed: 0.007\n",
      "[Epoch   2] T_loss: 0.04129, V_loss: 1.19979, V_loss decreased (1.22297 --> 1.19979). Saving model... | T_time: 00:00:01, T_speed: 0.002\n",
      "[Epoch   4] T_loss: 0.03043, V_loss: 0.76583, V_loss decreased (1.19979 --> 0.76583). Saving model... | T_time: 00:00:03, T_speed: 0.006\n",
      "[Epoch   6] T_loss: 0.02653, V_loss: 1.06239, Early stopping counter: 1 out of 5 | T_time: 00:00:05, T_speed: 0.040\n",
      "[Epoch   8] T_loss: 0.02258, V_loss: 0.53004, V_loss decreased (0.76583 --> 0.53004). Saving model... | T_time: 00:00:06, T_speed: 0.013\n",
      "[Epoch  10] T_loss: 0.01967, V_loss: 0.43532, V_loss decreased (0.53004 --> 0.43532). Saving model... | T_time: 00:00:08, T_speed: 0.030\n",
      "Final training time: 00:00:08\n"
     ]
    },
    {
     "data": {
      "text/html": [],
      "text/plain": [
       "<IPython.core.display.HTML object>"
      ]
     },
     "metadata": {},
     "output_type": "display_data"
    },
    {
     "data": {
      "text/html": [
       "<br>    <style><br>        .wandb-row {<br>            display: flex;<br>            flex-direction: row;<br>            flex-wrap: wrap;<br>            justify-content: flex-start;<br>            width: 100%;<br>        }<br>        .wandb-col {<br>            display: flex;<br>            flex-direction: column;<br>            flex-basis: 100%;<br>            flex: 1;<br>            padding: 10px;<br>        }<br>    </style><br><div class=\"wandb-row\"><div class=\"wandb-col\"><h3>Run history:</h3><br/><table class=\"wandb\"><tr><td>Epoch</td><td>▁▂▃▅▆█</td></tr><tr><td>Training loss</td><td>█▁▁▁▁▁</td></tr><tr><td>Training speed (epochs/sec.)</td><td>▂▁▂█▃▆</td></tr><tr><td>Validation loss</td><td>██▄▇▂▁</td></tr></table><br/></div><div class=\"wandb-col\"><h3>Run summary:</h3><br/><table class=\"wandb\"><tr><td>Epoch</td><td>10</td></tr><tr><td>Training loss</td><td>0.01967</td></tr><tr><td>Training speed (epochs/sec.)</td><td>0.0303</td></tr><tr><td>Validation loss</td><td>0.43532</td></tr></table><br/></div></div>"
      ],
      "text/plain": [
       "<IPython.core.display.HTML object>"
      ]
     },
     "metadata": {},
     "output_type": "display_data"
    },
    {
     "data": {
      "text/html": [
       " View run <strong style=\"color:#cdcd00\">2024-12-20_06-31-33</strong> at: <a href='https://wandb.ai/-ddj127-korea-university-of-technology-and-education/lstm_regression_btc_krw/runs/bcokzd5w' target=\"_blank\">https://wandb.ai/-ddj127-korea-university-of-technology-and-education/lstm_regression_btc_krw/runs/bcokzd5w</a><br> View project at: <a href='https://wandb.ai/-ddj127-korea-university-of-technology-and-education/lstm_regression_btc_krw' target=\"_blank\">https://wandb.ai/-ddj127-korea-university-of-technology-and-education/lstm_regression_btc_krw</a><br>Synced 5 W&B file(s), 0 media file(s), 0 artifact file(s) and 0 other file(s)"
      ],
      "text/plain": [
       "<IPython.core.display.HTML object>"
      ]
     },
     "metadata": {},
     "output_type": "display_data"
    },
    {
     "data": {
      "text/html": [
       "Find logs at: <code>./wandb/run-20241220_063230-bcokzd5w/logs</code>"
      ],
      "text/plain": [
       "<IPython.core.display.HTML object>"
      ]
     },
     "metadata": {},
     "output_type": "display_data"
    }
   ],
   "source": [
    "from torch import nn, optim\n",
    "from torch.utils.data import DataLoader\n",
    "from datetime import datetime\n",
    "import os\n",
    "import wandb\n",
    "from pathlib import Path\n",
    "import sys\n",
    "\n",
    "# 현재 작업 디렉토리 경로 설정\n",
    "BASE_PATH = str(Path(os.getcwd()).resolve())\n",
    "sys.path.append(BASE_PATH)\n",
    "\n",
    "CURRENT_FILE_PATH = Path(os.getcwd()).resolve()\n",
    "CHECKPOINT_FILE_PATH = CURRENT_FILE_PATH / \"checkpoints\"\n",
    "\n",
    "# 체크포인트 디렉토리가 없으면 생성\n",
    "CHECKPOINT_FILE_PATH.mkdir(parents=True, exist_ok=True)\n",
    "\n",
    "# 사용자 정의 모듈 가져오기 (환경에 따라 경로 확인 필요)\n",
    "from f_arg_parser import get_parser\n",
    "from g_rnn_trainer import RegressionTrainer\n",
    "from p_cryptocurrency_dataset_dataloader import get_cryptocurrency_data, CryptoCurrencyDataset\n",
    "\n",
    "\n",
    "def get_btc_krw_data(sequence_size=10, validation_size=100, test_size=10, is_regression=True):\n",
    "    \"\"\"\n",
    "    BTC/KRW 데이터셋 로드 및 DataLoader 준비 함수.\n",
    "\n",
    "    Args:\n",
    "        sequence_size (int): 입력 시퀀스 크기.\n",
    "        validation_size (int): 검증 데이터 크기.\n",
    "        test_size (int): 테스트 데이터 크기.\n",
    "        is_regression (bool): 회귀 여부.\n",
    "\n",
    "    Returns:\n",
    "        train_data_loader (DataLoader): 학습 데이터 로더.\n",
    "        validation_data_loader (DataLoader): 검증 데이터 로더.\n",
    "        test_data_loader (DataLoader): 테스트 데이터 로더.\n",
    "    \"\"\"\n",
    "    # 데이터셋 생성\n",
    "    X_train, X_validation, X_test, y_train, y_validation, y_test, _, _, _ = get_cryptocurrency_data(\n",
    "        sequence_size=sequence_size,\n",
    "        validation_size=validation_size,\n",
    "        test_size=test_size,\n",
    "        target_column='Close',\n",
    "        y_normalizer=1.0e7,\n",
    "        is_regression=is_regression\n",
    "    )\n",
    "\n",
    "    # DataLoader로 래핑\n",
    "    train_crypto_currency_dataset = CryptoCurrencyDataset(X=X_train, y=y_train)\n",
    "    validation_crypto_currency_dataset = CryptoCurrencyDataset(X=X_validation, y=y_validation)\n",
    "    test_crypto_currency_dataset = CryptoCurrencyDataset(X=X_test, y=y_test)\n",
    "\n",
    "    train_data_loader = DataLoader(\n",
    "        dataset=train_crypto_currency_dataset, batch_size=wandb.config.batch_size, shuffle=True\n",
    "    )\n",
    "    validation_data_loader = DataLoader(\n",
    "        dataset=validation_crypto_currency_dataset, batch_size=wandb.config.batch_size, shuffle=True\n",
    "    )\n",
    "    test_data_loader = DataLoader(\n",
    "        dataset=test_crypto_currency_dataset, batch_size=len(test_crypto_currency_dataset), shuffle=True\n",
    "    )\n",
    "\n",
    "    return train_data_loader, validation_data_loader, test_data_loader\n",
    "\n",
    "\n",
    "def get_model():\n",
    "    \"\"\"\n",
    "    LSTM 기반 회귀 모델 생성 함수.\n",
    "\n",
    "    Returns:\n",
    "        model (nn.Module): LSTM 모델 인스턴스.\n",
    "    \"\"\"\n",
    "    class MyModel(nn.Module):\n",
    "        def __init__(self, n_input, n_output):\n",
    "            super().__init__()\n",
    "            self.lstm = nn.LSTM(input_size=n_input, hidden_size=128, num_layers=2, batch_first=True)\n",
    "            self.fcn = nn.Linear(in_features=128, out_features=n_output)\n",
    "\n",
    "        def forward(self, x):\n",
    "            # LSTM을 통해 시퀀스 데이터 처리\n",
    "            x, _ = self.lstm(x)\n",
    "            # 마지막 타임스텝 출력 사용\n",
    "            x = x[:, -1, :]  # x.shape: [batch_size, hidden_size]\n",
    "            # FCN을 통해 결과 생성\n",
    "            x = self.fcn(x)\n",
    "            return x\n",
    "\n",
    "    return MyModel(n_input=5, n_output=1)\n",
    "\n",
    "\n",
    "def main(config):\n",
    "    \"\"\"\n",
    "    메인 학습 루프 함수.\n",
    "\n",
    "    Args:\n",
    "        config (dict): 학습 설정값 딕셔너리.\n",
    "    \"\"\"\n",
    "    # 실행 시간 생성\n",
    "    run_time_str = datetime.now().astimezone().strftime('%Y-%m-%d_%H-%M-%S')\n",
    "\n",
    "    # WandB 초기화\n",
    "    wandb.init(\n",
    "        mode=\"online\" if config[\"wandb\"] else \"disabled\",  # WandB 사용 여부\n",
    "        project=config[\"project_name\"],  # 프로젝트 이름\n",
    "        notes=\"btc_krw experiment with lstm\",  # WandB 설명\n",
    "        tags=[\"lstm\", \"regression\", \"btc_krw\"],  # 태그 추가\n",
    "        name=run_time_str,  # 실행 이름\n",
    "        config=config  # 설정 로깅\n",
    "    )\n",
    "\n",
    "    # 데이터 로드\n",
    "    train_data_loader, validation_data_loader, _ = get_btc_krw_data()\n",
    "\n",
    "    # 디바이스 설정 (GPU가 사용 가능하면 GPU 사용)\n",
    "    device = torch.device(\"cuda:0\" if torch.cuda.is_available() else \"cpu\")\n",
    "    print(f\"Training on device {device}.\")\n",
    "\n",
    "    # 모델 생성 및 디바이스 이동\n",
    "    model = get_model()\n",
    "    model.to(device)\n",
    "\n",
    "    # 옵티마이저 설정\n",
    "    optimizer = optim.Adam(model.parameters(), lr=config[\"learning_rate\"], weight_decay=config[\"weight_decay\"])\n",
    "\n",
    "    # RegressionTrainer 초기화\n",
    "    regression_trainer = RegressionTrainer(\n",
    "        config[\"project_name\"], model, optimizer, train_data_loader, validation_data_loader, None,\n",
    "        run_time_str, wandb, device, CHECKPOINT_FILE_PATH\n",
    "    )\n",
    "\n",
    "    # 학습 루프 실행\n",
    "    regression_trainer.train_loop()\n",
    "\n",
    "    # WandB 종료\n",
    "    wandb.finish()\n",
    "\n",
    "\n",
    "# 학습 설정값\n",
    "config = {\n",
    "    \"epochs\": 10,  # 학습 에포크 수\n",
    "    \"batch_size\": 32,  # 배치 크기\n",
    "    \"validation_intervals\": 2,  # 검증 주기\n",
    "    \"learning_rate\": 0.001,  # 학습률\n",
    "    \"early_stop_patience\": 5,  # 얼리 스톱 기준\n",
    "    \"early_stop_delta\": 0.001,  # 얼리 스톱 기준 변화량\n",
    "    \"weight_decay\": 0.0001,  # 가중치 감쇠\n",
    "    \"wandb\": True,  # WandB 사용 여부\n",
    "    \"project_name\": \"lstm_regression_btc_krw\"  # 프로젝트 이름\n",
    "}\n",
    "\n",
    "# 메인 실행\n",
    "main(config)\n"
   ]
  },
  {
   "cell_type": "markdown",
   "id": "f5306b3e",
   "metadata": {},
   "source": [
    "### 문제 1-2 regression_test_lstm"
   ]
  },
  {
   "cell_type": "code",
   "execution_count": 10,
   "id": "f387f2d1",
   "metadata": {},
   "outputs": [
    {
     "name": "stdout",
     "output_type": "stream",
     "text": [
      "MODEL FILE: /home/work/HW4/checkpoints/lstm_regression_btc_krw_checkpoint_latest.pt\n",
      "[TEST DATA]\n",
      " 0: 1,078.40 <--> 1,373.29 (Loss:        294.89)\n",
      " 1: 1,073.27 <--> 1,390.43 (Loss:        317.16)\n",
      " 2: 1,070.69 <--> 1,319.45 (Loss:        248.76)\n",
      " 3: 1,085.14 <--> 1,302.60 (Loss:        217.47)\n",
      " 4: 1,075.72 <--> 1,331.62 (Loss:        255.90)\n",
      " 5: 1,081.54 <--> 1,284.38 (Loss:        202.85)\n",
      " 6: 1,072.64 <--> 1,380.87 (Loss:        308.23)\n",
      " 7: 1,079.10 <--> 1,360.09 (Loss:        281.00)\n",
      " 8: 1,083.51 <--> 1,378.05 (Loss:        294.54)\n",
      " 9: 1,075.29 <--> 1,334.58 (Loss:        259.29)\n"
     ]
    },
    {
     "data": {
      "image/png": "[encoded data removed]",
      "text/plain": [
       "<Figure size 600x900 with 3 Axes>"
      ]
     },
     "metadata": {},
     "output_type": "display_data"
    }
   ],
   "source": [
    "import torch\n",
    "import wandb\n",
    "from matplotlib import pyplot as plt\n",
    "from datetime import datetime\n",
    "import os\n",
    "from pathlib import Path\n",
    "\n",
    "# 현재 디렉토리와 체크포인트 경로 설정\n",
    "CURRENT_FILE_PATH = Path.cwd()\n",
    "CHECKPOINT_FILE_PATH = CURRENT_FILE_PATH / \"checkpoints\"\n",
    "if not CHECKPOINT_FILE_PATH.exists():\n",
    "    os.makedirs(CHECKPOINT_FILE_PATH)  # 체크포인트 디렉토리 생성\n",
    "\n",
    "# 사용자 정의 데이터 및 모델 모듈 임포트\n",
    "from p_cryptocurrency_dataset_dataloader import get_cryptocurrency_data, CryptoCurrencyDataset\n",
    "from g_crypto_currency_regression_train_lstm import get_model, get_btc_krw_data\n",
    "\n",
    "\n",
    "def test(test_model):\n",
    "    \"\"\"\n",
    "    테스트 데이터셋에 대해 모델을 평가합니다.\n",
    "\n",
    "    Args:\n",
    "        test_model (torch.nn.Module): 학습된 모델.\n",
    "    \"\"\"\n",
    "    # 테스트 데이터 로더 가져오기\n",
    "    _, _, test_data_loader = get_btc_krw_data()\n",
    "\n",
    "    # 모델 평가 모드 설정\n",
    "    test_model.eval()\n",
    "\n",
    "    y_normalizer = 100  # 값 복원 스케일링을 위한 상수\n",
    "\n",
    "    print(\"[TEST DATA]\")\n",
    "    with torch.no_grad():  # 그래디언트 계산 비활성화\n",
    "        for test_batch in test_data_loader:\n",
    "            input_test, target_test = test_batch\n",
    "\n",
    "            # 모델 예측 수행\n",
    "            output_test = test_model(input_test)\n",
    "\n",
    "        # 각 샘플별 예측 결과와 실제 값 출력\n",
    "        for idx, (output, target) in enumerate(zip(output_test, target_test)):\n",
    "            print(\"{0:2}: {1:6,.2f} <--> {2:6,.2f} (Loss: {3:>13,.2f})\".format(\n",
    "                idx,\n",
    "                output.item() * y_normalizer,  # 예측 값\n",
    "                target.item() * y_normalizer,  # 실제 값\n",
    "                abs(output.squeeze(dim=-1).item() - target.item()) * y_normalizer  # 손실\n",
    "            ))\n",
    "\n",
    "\n",
    "def predict_all(test_model):\n",
    "    \"\"\"\n",
    "    학습, 검증, 테스트 데이터셋에 대해 예측값을 생성하고 시각화합니다.\n",
    "\n",
    "    Args:\n",
    "        test_model (torch.nn.Module): 학습된 모델.\n",
    "    \"\"\"\n",
    "    y_normalizer = 100  # 값 복원 스케일링을 위한 상수\n",
    "\n",
    "    # 데이터셋 가져오기\n",
    "    X_train, X_validation, X_test, y_train, y_validation, y_test, _, _, _ = \\\n",
    "        get_cryptocurrency_data(\n",
    "            sequence_size=10, validation_size=100, test_size=10,\n",
    "            target_column='Close', y_normalizer=1.0e7, is_regression=True\n",
    "        )\n",
    "\n",
    "    # 데이터셋 생성\n",
    "    dataset_list = [\n",
    "        CryptoCurrencyDataset(X_train, y_train),\n",
    "        CryptoCurrencyDataset(X_validation, y_validation),\n",
    "        CryptoCurrencyDataset(X_test, y_test)\n",
    "    ]\n",
    "    dataset_labels = [\"train\", \"validation\", \"test\"]\n",
    "    num = 0\n",
    "    fig, axs = plt.subplots(3, 1, figsize=(6, 9))\n",
    "\n",
    "    # 각 데이터셋별 예측값과 실제값 시각화\n",
    "    for i, dataset in enumerate(dataset_list):\n",
    "        X, TARGET_Y, PREDICTION_Y = [], [], []\n",
    "        for data in dataset:\n",
    "            input, target = data\n",
    "            prediction = test_model(input.unsqueeze(0)).squeeze(-1).squeeze(-1)\n",
    "\n",
    "            X.append(num)\n",
    "            TARGET_Y.append(target.item() * y_normalizer)  # 실제값 복원\n",
    "            PREDICTION_Y.append(prediction.item() * y_normalizer)  # 예측값 복원\n",
    "\n",
    "            num += 1\n",
    "\n",
    "        axs[i].plot(X, TARGET_Y, label='target')  # 실제 값\n",
    "        axs[i].plot(X, PREDICTION_Y, label='prediction')  # 예측 값\n",
    "        axs[i].set_title(dataset_labels[i])\n",
    "        axs[i].legend()\n",
    "\n",
    "    plt.tight_layout()\n",
    "    plt.show()  # 그래프 출력\n",
    "\n",
    "\n",
    "def main():\n",
    "    \"\"\"\n",
    "    모델 로드 후 테스트 및 시각화 루프를 실행합니다.\n",
    "    \"\"\"\n",
    "    # 테스트 설정값\n",
    "    config = {\n",
    "        'epochs': 10,\n",
    "        'batch_size': 32,\n",
    "        'validation_intervals': 2,\n",
    "        'learning_rate': 0.001,\n",
    "        'early_stop_patience': 3,\n",
    "        'early_stop_delta': 0.01,\n",
    "    }\n",
    "\n",
    "    # WandB 초기화 (테스트 모드로 실행)\n",
    "    project_name = \"lstm_regression_btc_krw\"\n",
    "    wandb.init(\n",
    "        mode=\"disabled\",\n",
    "        project=project_name,\n",
    "        notes=\"btc_krw experiment with lstm\",\n",
    "        tags=[\"lstm\", \"regression\", \"btc_krw\"],\n",
    "        name=datetime.now().strftime('%Y-%m-%d_%H-%M-%S'),\n",
    "        config=config\n",
    "    )\n",
    "\n",
    "    # 학습된 모델 생성\n",
    "    test_model = get_model()\n",
    "\n",
    "    # 저장된 체크포인트 로드\n",
    "    latest_file_path = CHECKPOINT_FILE_PATH / f\"{project_name}_checkpoint_latest.pt\"\n",
    "    print(f\"MODEL FILE: {latest_file_path}\")\n",
    "\n",
    "    # 모델 상태 로드\n",
    "    test_model.load_state_dict(torch.load(latest_file_path, map_location=torch.device('cpu')))\n",
    "\n",
    "    # 테스트 및 결과 시각화\n",
    "    test(test_model)\n",
    "    predict_all(test_model)\n",
    "\n",
    "\n",
    "# main 함수 직접 호출 (Jupyter 환경에 맞게 수정)\n",
    "main()\n"
   ]
  },
  {
   "cell_type": "markdown",
   "id": "1ef6e1a8",
   "metadata": {},
   "source": [
    "### 문제 1-3 classification_train_lstm"
   ]
  },
  {
   "cell_type": "code",
   "execution_count": 12,
   "id": "ce1cedc2",
   "metadata": {
    "scrolled": true
   },
   "outputs": [
    {
     "name": "stderr",
     "output_type": "stream",
     "text": [
      "/usr/local/lib/python3.10/dist-packages/pydantic/main.py:314: UserWarning: Pydantic serializer warnings:\n",
      "  Expected `list[str]` but got `tuple` - serialized value may not be as expected\n",
      "  return self.__pydantic_serializer__.to_python(\n"
     ]
    },
    {
     "data": {
      "text/html": [
       "Tracking run with wandb version 0.19.1"
      ],
      "text/plain": [
       "<IPython.core.display.HTML object>"
      ]
     },
     "metadata": {},
     "output_type": "display_data"
    },
    {
     "data": {
      "text/html": [
       "Run data is saved locally in <code>/home/work/HW4/wandb/run-20241220_070151-kx6m5yfl</code>"
      ],
      "text/plain": [
       "<IPython.core.display.HTML object>"
      ]
     },
     "metadata": {},
     "output_type": "display_data"
    },
    {
     "data": {
      "text/html": [
       "Syncing run <strong><a href='https://wandb.ai/-ddj127-korea-university-of-technology-and-education/lstm_classification_btc_krw/runs/kx6m5yfl' target=\"_blank\">2024-12-20_07-01-51</a></strong> to <a href='https://wandb.ai/-ddj127-korea-university-of-technology-and-education/lstm_classification_btc_krw' target=\"_blank\">Weights & Biases</a> (<a href='https://wandb.me/developer-guide' target=\"_blank\">docs</a>)<br>"
      ],
      "text/plain": [
       "<IPython.core.display.HTML object>"
      ]
     },
     "metadata": {},
     "output_type": "display_data"
    },
    {
     "data": {
      "text/html": [
       " View project at <a href='https://wandb.ai/-ddj127-korea-university-of-technology-and-education/lstm_classification_btc_krw' target=\"_blank\">https://wandb.ai/-ddj127-korea-university-of-technology-and-education/lstm_classification_btc_krw</a>"
      ],
      "text/plain": [
       "<IPython.core.display.HTML object>"
      ]
     },
     "metadata": {},
     "output_type": "display_data"
    },
    {
     "data": {
      "text/html": [
       " View run at <a href='https://wandb.ai/-ddj127-korea-university-of-technology-and-education/lstm_classification_btc_krw/runs/kx6m5yfl' target=\"_blank\">https://wandb.ai/-ddj127-korea-university-of-technology-and-education/lstm_classification_btc_krw/runs/kx6m5yfl</a>"
      ],
      "text/plain": [
       "<IPython.core.display.HTML object>"
      ]
     },
     "metadata": {},
     "output_type": "display_data"
    },
    {
     "name": "stdout",
     "output_type": "stream",
     "text": [
      "Training on device cuda:0.\n",
      "[Epoch   1] T_loss: 0.69232, T_accuracy: 52.7993 | V_loss: 0.69174, V_accuracy: 56.0000 | Early stopping is stated! | T_time: 00:00:00, T_speed: 0.000\n",
      "[Epoch   2] T_loss: 0.69189, T_accuracy: 52.7993 | V_loss: 0.68953, V_accuracy: 56.0000 | V_loss decreased (0.69174 --> 0.68953). Saving model... | T_time: 00:00:01, T_speed: 2.000\n",
      "[Epoch   4] T_loss: 0.69129, T_accuracy: 52.7993 | V_loss: 0.69262, V_accuracy: 55.0000 | Early stopping counter: 1 out of 10 | T_time: 00:00:02, T_speed: 2.000\n",
      "[Epoch   6] T_loss: 0.69106, T_accuracy: 52.8825 | V_loss: 0.69228, V_accuracy: 57.0000 | Early stopping counter: 2 out of 10 | T_time: 00:00:03, T_speed: 2.000\n",
      "[Epoch   8] T_loss: 0.69090, T_accuracy: 52.9933 | V_loss: 0.69335, V_accuracy: 49.0000 | Early stopping counter: 3 out of 10 | T_time: 00:00:04, T_speed: 2.000\n",
      "[Epoch  10] T_loss: 0.69084, T_accuracy: 53.0211 | V_loss: 0.69415, V_accuracy: 44.0000 | Early stopping counter: 4 out of 10 | T_time: 00:00:06, T_speed: 1.667\n",
      "[Epoch  12] T_loss: 0.69085, T_accuracy: 53.0765 | V_loss: 0.70041, V_accuracy: 44.0000 | Early stopping counter: 5 out of 10 | T_time: 00:00:07, T_speed: 1.714\n",
      "[Epoch  14] T_loss: 0.69082, T_accuracy: 53.1596 | V_loss: 0.69278, V_accuracy: 44.0000 | Early stopping counter: 6 out of 10 | T_time: 00:00:08, T_speed: 1.750\n",
      "[Epoch  16] T_loss: 0.69078, T_accuracy: 53.0765 | V_loss: 0.70000, V_accuracy: 44.0000 | Early stopping counter: 7 out of 10 | T_time: 00:00:10, T_speed: 1.600\n",
      "[Epoch  18] T_loss: 0.69079, T_accuracy: 53.1319 | V_loss: 0.70002, V_accuracy: 44.0000 | Early stopping counter: 8 out of 10 | T_time: 00:00:11, T_speed: 1.636\n",
      "[Epoch  20] T_loss: 0.69072, T_accuracy: 53.0211 | V_loss: 0.69813, V_accuracy: 44.0000 | Early stopping counter: 9 out of 10 | T_time: 00:00:13, T_speed: 1.538\n",
      "[Epoch  22] T_loss: 0.69077, T_accuracy: 52.9656 | V_loss: 0.70217, V_accuracy: 44.0000 | Early stopping counter: 10 out of 10 *** TRAIN EARLY STOPPED! *** | T_time: 00:00:14, T_speed: 1.571\n",
      "Final training time: 00:00:14\n"
     ]
    },
    {
     "data": {
      "text/html": [],
      "text/plain": [
       "<IPython.core.display.HTML object>"
      ]
     },
     "metadata": {},
     "output_type": "display_data"
    },
    {
     "data": {
      "text/html": [
       "<br>    <style><br>        .wandb-row {<br>            display: flex;<br>            flex-direction: row;<br>            flex-wrap: wrap;<br>            justify-content: flex-start;<br>            width: 100%;<br>        }<br>        .wandb-col {<br>            display: flex;<br>            flex-direction: column;<br>            flex-basis: 100%;<br>            flex: 1;<br>            padding: 10px;<br>        }<br>    </style><br><div class=\"wandb-row\"><div class=\"wandb-col\"><h3>Run history:</h3><br/><table class=\"wandb\"><tr><td>Epoch</td><td>▁▁▂▃▃▄▅▅▆▇▇█</td></tr><tr><td>Training accuracy (%)</td><td>▁▁▁▃▅▅▆█▆▇▅▄</td></tr><tr><td>Training loss</td><td>█▆▄▂▂▂▂▁▁▁▁▁</td></tr><tr><td>Training speed (epochs/sec.)</td><td>▁████▇▇▇▇▇▆▆</td></tr><tr><td>Validation accuracy (%)</td><td>▇▇▇█▄▁▁▁▁▁▁▁</td></tr><tr><td>Validation loss</td><td>▂▁▃▃▃▄▇▃▇▇▆█</td></tr></table><br/></div><div class=\"wandb-col\"><h3>Run summary:</h3><br/><table class=\"wandb\"><tr><td>Epoch</td><td>22</td></tr><tr><td>Training accuracy (%)</td><td>52.96563</td></tr><tr><td>Training loss</td><td>0.69077</td></tr><tr><td>Training speed (epochs/sec.)</td><td>1.57143</td></tr><tr><td>Validation accuracy (%)</td><td>44</td></tr><tr><td>Validation loss</td><td>0.70217</td></tr></table><br/></div></div>"
      ],
      "text/plain": [
       "<IPython.core.display.HTML object>"
      ]
     },
     "metadata": {},
     "output_type": "display_data"
    },
    {
     "data": {
      "text/html": [
       " View run <strong style=\"color:#cdcd00\">2024-12-20_07-01-51</strong> at: <a href='https://wandb.ai/-ddj127-korea-university-of-technology-and-education/lstm_classification_btc_krw/runs/kx6m5yfl' target=\"_blank\">https://wandb.ai/-ddj127-korea-university-of-technology-and-education/lstm_classification_btc_krw/runs/kx6m5yfl</a><br> View project at: <a href='https://wandb.ai/-ddj127-korea-university-of-technology-and-education/lstm_classification_btc_krw' target=\"_blank\">https://wandb.ai/-ddj127-korea-university-of-technology-and-education/lstm_classification_btc_krw</a><br>Synced 5 W&B file(s), 0 media file(s), 0 artifact file(s) and 0 other file(s)"
      ],
      "text/plain": [
       "<IPython.core.display.HTML object>"
      ]
     },
     "metadata": {},
     "output_type": "display_data"
    },
    {
     "data": {
      "text/html": [
       "Find logs at: <code>./wandb/run-20241220_070151-kx6m5yfl/logs</code>"
      ],
      "text/plain": [
       "<IPython.core.display.HTML object>"
      ]
     },
     "metadata": {},
     "output_type": "display_data"
    }
   ],
   "source": [
    "from torch import nn, optim\n",
    "from datetime import datetime\n",
    "import os\n",
    "import wandb\n",
    "from pathlib import Path\n",
    "import torch\n",
    "import sys\n",
    "\n",
    "# 현재 실행 중인 Jupyter Notebook 환경에서 작업 디렉토리를 기준으로 경로를 설정\n",
    "CURRENT_DIR = Path(os.getcwd()).resolve()\n",
    "BASE_PATH = CURRENT_DIR  # 스크립트가 원하는 디렉토리 내에서 실행된다고 가정\n",
    "sys.path.append(str(BASE_PATH))  # 필요한 모듈 탐색 경로에 BASE_PATH 추가\n",
    "\n",
    "# 체크포인트 저장 경로 설정 (없다면 생성)\n",
    "CHECKPOINT_FILE_PATH = CURRENT_DIR / \"checkpoints\"\n",
    "CHECKPOINT_FILE_PATH.mkdir(parents=True, exist_ok=True)\n",
    "\n",
    "# 필요한 모듈 임포트\n",
    "# c_trainer.py, f_arg_parser.py, g_crypto_currency_regression_train_lstm.py는\n",
    "# 같은 디렉토리(또는 설정한 BASE_PATH) 내에 존재한다고 가정\n",
    "from c_trainer import ClassificationTrainer\n",
    "from f_arg_parser import get_parser\n",
    "from g_crypto_currency_regression_train_lstm import get_btc_krw_data\n",
    "\n",
    "\n",
    "def get_model():\n",
    "    \"\"\"\n",
    "    LSTM 기반 분류 모델을 정의하는 함수.\n",
    "    - 입력 차원: n_input\n",
    "    - 출력 차원: n_output\n",
    "    - LSTM 계층: 입력 크기 5, 은닉 크기 256, 레이어 수 3개\n",
    "    - 최종적으로 FCN(완전연결층)을 통해 2개 클래스에 대한 로짓 반환\n",
    "    \"\"\"\n",
    "    class MyModel(nn.Module):\n",
    "        def __init__(self, n_input, n_output):\n",
    "            super().__init__()\n",
    "            # LSTM: 입력 특성 수 = n_input, 은닉 상태 크기 = 256, LSTM 레이어 수 = 3\n",
    "            self.lstm = nn.LSTM(input_size=n_input, hidden_size=256, num_layers=3, batch_first=True)\n",
    "            # FCN: LSTM의 마지막 은닉 상태 출력(256차원)을 n_output 차원으로 매핑\n",
    "            self.fcn = nn.Linear(in_features=256, out_features=n_output)\n",
    "\n",
    "        def forward(self, x):\n",
    "            # x: (배치 크기, 시퀀스 길이, 특성 수)\n",
    "            x, hidden = self.lstm(x)\n",
    "            # LSTM 출력 중 마지막 타임스텝의 은닉 상태만 사용\n",
    "            x = x[:, -1, :]  \n",
    "            # 최종 fully connected layer\n",
    "            x = self.fcn(x)\n",
    "            return x\n",
    "\n",
    "    return MyModel(n_input=5, n_output=2)\n",
    "\n",
    "\n",
    "def main(config):\n",
    "    \"\"\"\n",
    "    LSTM 분류 모델 학습 메인 루프 함수.\n",
    "    1. W&B(Weights & Biases) 설정\n",
    "    2. 데이터 로더 준비\n",
    "    3. 디바이스 선택(CPU/GPU)\n",
    "    4. 모델 구성 및 옵티마이저 설정\n",
    "    5. ClassificationTrainer를 통해 학습 진행\n",
    "    6. WandB 종료\n",
    "    \"\"\"\n",
    "    run_time_str = datetime.now().astimezone().strftime('%Y-%m-%d_%H-%M-%S')\n",
    "\n",
    "    # W&B 초기화: wandb=True일 경우 online 모드, 아니면 disabled\n",
    "    wandb.init(\n",
    "        mode=\"online\" if config[\"wandb\"] else \"disabled\",\n",
    "        project=config[\"project_name\"],\n",
    "        notes=\"btc_krw experiment with lstm\",\n",
    "        tags=[\"lstm\", \"classification\", \"btc_krw\"],\n",
    "        name=run_time_str,\n",
    "        config=config\n",
    "    )\n",
    "\n",
    "    # 회귀가 아닌 분류 모드로 BTC/KRW 데이터 로드\n",
    "    train_data_loader, validation_data_loader, _ = get_btc_krw_data(is_regression=False)\n",
    "\n",
    "    # GPU 사용 가능 시 GPU 사용, 아니면 CPU\n",
    "    device = torch.device(\"cuda:0\" if torch.cuda.is_available() else \"cpu\")\n",
    "    print(f\"Training on device {device}.\")\n",
    "\n",
    "    # 모델 준비 및 디바이스 할당\n",
    "    model = get_model()\n",
    "    model.to(device)\n",
    "\n",
    "    # 옵티마이저(Adam) 설정 - 러닝레이트와 weight_decay는 config에 따라 다름\n",
    "    optimizer = optim.Adam(model.parameters(), lr=config[\"learning_rate\"], weight_decay=config[\"weight_decay\"])\n",
    "\n",
    "    # ClassificationTrainer 초기화\n",
    "    # train_loop() 내에서 실제로 학습, 검증, 체크포인트 저장 등을 수행\n",
    "    classification_trainer = ClassificationTrainer(\n",
    "        config[\"project_name\"], model, optimizer, train_data_loader, validation_data_loader, None,\n",
    "        run_time_str, wandb, device, CHECKPOINT_FILE_PATH\n",
    "    )\n",
    "    classification_trainer.train_loop()\n",
    "\n",
    "    # W&B 사용 종료\n",
    "    wandb.finish()\n",
    "\n",
    "\n",
    "# Jupyter Notebook 상에서 argparse를 흉내낸 config 딕셔너리\n",
    "config = {\n",
    "    \"epochs\": 100,\n",
    "    \"batch_size\": 32,\n",
    "    \"validation_intervals\": 2,\n",
    "    \"learning_rate\": 0.00001,\n",
    "    \"early_stop_patience\": 10,\n",
    "    \"early_stop_delta\": 0.001,\n",
    "    \"weight_decay\": 0.0001,\n",
    "    \"wandb\": True,  # WandB 사용 여부(True면 online, False면 disabled)\n",
    "    \"project_name\": \"lstm_classification_btc_krw\"\n",
    "}\n",
    "\n",
    "# 메인 함수 실행 (학습 시작)\n",
    "main(config)\n",
    "\n",
    "# WandB URL #2 : https://wandb.ai/-ddj127-korea-university-of-technology-and-education/lstm_classification_btc_krw/runs/kx6m5yfl\n"
   ]
  },
  {
   "cell_type": "markdown",
   "id": "830c8cc0",
   "metadata": {},
   "source": [
    "### 1-4 classification_test_lstm"
   ]
  },
  {
   "cell_type": "code",
   "execution_count": 14,
   "id": "ff9413be",
   "metadata": {},
   "outputs": [
    {
     "name": "stdout",
     "output_type": "stream",
     "text": [
      "MODEL FILE: /home/work/HW4/checkpoints/lstm_classification_btc_krw_checkpoint_latest.pt\n",
      "[TEST DATA]\n",
      "TEST RESULTS: 60.000%\n",
      " 0:   1.00 <-->   1.00\n",
      " 1:   1.00 <-->   1.00\n",
      " 2:   1.00 <-->   0.00\n",
      " 3:   1.00 <-->   1.00\n",
      " 4:   1.00 <-->   1.00\n",
      " 5:   1.00 <-->   0.00\n",
      " 6:   1.00 <-->   0.00\n",
      " 7:   1.00 <-->   0.00\n",
      " 8:   1.00 <-->   1.00\n",
      " 9:   1.00 <-->   1.00\n"
     ]
    }
   ],
   "source": [
    "import os\n",
    "from pathlib import Path\n",
    "from datetime import datetime\n",
    "import torch\n",
    "import wandb\n",
    "import sys\n",
    "\n",
    "# 현재 Jupyter Notebook 환경을 고려하여 작업 경로 설정\n",
    "CURRENT_FILE_PATH = Path(os.getcwd()).resolve()\n",
    "BASE_PATH = CURRENT_FILE_PATH\n",
    "\n",
    "# 체크포인트를 저장할 디렉토리 생성(이미 존재하면 예외 없이 넘어감)\n",
    "CHECKPOINT_FILE_PATH = CURRENT_FILE_PATH / \"checkpoints\"\n",
    "CHECKPOINT_FILE_PATH.mkdir(parents=True, exist_ok=True)\n",
    "\n",
    "# BASE_PATH를 sys.path에 추가하여 모듈 탐색 경로로 사용\n",
    "sys.path.append(str(BASE_PATH))\n",
    "\n",
    "# 필요한 모듈 임포트\n",
    "# g_crypto_currency_regression_train_lstm 및 i_crypto_currency_classification_train_lstm\n",
    "# 같은 디렉토리 또는 BASE_PATH 하위 디렉토리에 존재한다고 가정\n",
    "from g_crypto_currency_regression_train_lstm import get_btc_krw_data\n",
    "from i_crypto_currency_classification_train_lstm import get_model\n",
    "\n",
    "\n",
    "def test(test_model):\n",
    "    \"\"\"\n",
    "    테스트 데이터에 대해 모델의 성능을 평가하는 함수.\n",
    "    분류 모델이므로 테스트 정확도를 계산하고, 일부 예측 결과를 출력한다.\n",
    "    \n",
    "    Args:\n",
    "        test_model (nn.Module): 테스트할 분류 모델.\n",
    "    \"\"\"\n",
    "    # is_regression=False로 데이터를 가져오면 분류 문제에 맞는 DataLoader를 얻는다.\n",
    "    _, _, test_data_loader = get_btc_krw_data(is_regression=False)\n",
    "\n",
    "    # 모델을 평가 모드로 설정 (Dropout 등 비활성화)\n",
    "    test_model.eval()\n",
    "\n",
    "    num_corrects_test = 0\n",
    "    num_tested_samples = 0\n",
    "\n",
    "    print(\"[TEST DATA]\")\n",
    "    # 그래디언트 계산 비활성화\n",
    "    with torch.no_grad():\n",
    "        for test_batch in test_data_loader:\n",
    "            # test_batch는 (입력 텐서, 타겟 텐서)의 튜플 형태\n",
    "            input_test, target_test = test_batch\n",
    "\n",
    "            # 모델 추론\n",
    "            output_test = test_model(input_test)\n",
    "\n",
    "            # output_test는 클래스 로짓값. argmax를 통해 예측 클래스 도출\n",
    "            predicted_test = torch.argmax(output_test, dim=1)\n",
    "\n",
    "            # 정확도 계산을 위해 정답 여부 카운트\n",
    "            num_corrects_test += torch.sum(torch.eq(predicted_test, target_test))\n",
    "            num_tested_samples += len(input_test)\n",
    "\n",
    "        # 정확도(%) 계산\n",
    "        test_accuracy = 100.0 * num_corrects_test / num_tested_samples\n",
    "        print(f\"TEST RESULTS: {test_accuracy:6.3f}%\")\n",
    "\n",
    "        # 일부 예측 결과 출력 (출력 포맷: 인덱스: 예측값 <--> 실제값)\n",
    "        for idx, (output, target) in enumerate(zip(output_test, target_test)):\n",
    "            print(\"{0:2}: {1:6,.2f} <--> {2:6,.2f}\".format(\n",
    "                idx, torch.argmax(output).item(), target.item()\n",
    "            ))\n",
    "\n",
    "\n",
    "def main(config):\n",
    "    \"\"\"\n",
    "    메인 테스트 함수:\n",
    "    1. WandB 비활성화 설정으로 초기화(로그 남기지 않음)\n",
    "    2. 모델 체크포인트 로드\n",
    "    3. test() 함수로 테스트 데이터에 대해 성능 평가\n",
    "    \n",
    "    Args:\n",
    "        config (dict): 학습 및 테스트 관련 설정 정보 딕셔너리\n",
    "    \"\"\"\n",
    "    # 현재 시간 문자열 (런 네이밍에 사용)\n",
    "    run_time_str = datetime.now().astimezone().strftime('%Y-%m-%d_%H-%M-%S')\n",
    "\n",
    "    # WandB 런 초기화 - 로그 비활성화 모드\n",
    "    wandb.init(\n",
    "        mode=\"disabled\",\n",
    "        project=config[\"project_name\"],\n",
    "        notes=\"btc_krw experiment with lstm\",\n",
    "        tags=[\"lstm\", \"classification\", \"btc_krw\"],\n",
    "        name=run_time_str,\n",
    "        config=config\n",
    "    )\n",
    "\n",
    "    # 분류 모델 로드 (모델 구조 획득)\n",
    "    test_model = get_model()\n",
    "\n",
    "    # 최신 체크포인트 파일 경로 설정\n",
    "    latest_file_path = CHECKPOINT_FILE_PATH / f\"{config['project_name']}_checkpoint_latest.pt\"\n",
    "    print(f\"MODEL FILE: {latest_file_path}\")\n",
    "\n",
    "    # CPU 환경에서 모델 파라미터 로드\n",
    "    test_model.load_state_dict(torch.load(latest_file_path, map_location=torch.device('cpu')))\n",
    "\n",
    "    # 테스트 함수 호출\n",
    "    test(test_model)\n",
    "\n",
    "\n",
    "# argparse를 사용하지 않는 대신 Jupyter에서 config 딕셔너리로 설정값을 전달\n",
    "config = {\n",
    "    \"epochs\": 100,\n",
    "    \"batch_size\": 32,\n",
    "    \"validation_intervals\": 2,\n",
    "    \"learning_rate\": 0.00001,\n",
    "    \"early_stop_patience\": 10,\n",
    "    \"early_stop_delta\": 0.001,\n",
    "    \"project_name\": \"lstm_classification_btc_krw\"\n",
    "}\n",
    "\n",
    "# main 함수 호출로 테스트 실행\n",
    "main(config)\n"
   ]
  },
  {
   "cell_type": "markdown",
   "id": "40a681e2",
   "metadata": {},
   "source": [
    "# 문제 2"
   ]
  },
  {
   "cell_type": "markdown",
   "id": "12f20428",
   "metadata": {},
   "source": [
    "### 문제 2-1\n",
    "classification_train_lstm의 적절한 새로운 모델 구성 및 하이퍼 파라미터 찾기\n"
   ]
  },
  {
   "cell_type": "code",
   "execution_count": 19,
   "id": "cf1ea913",
   "metadata": {
    "collapsed": true
   },
   "outputs": [
    {
     "name": "stderr",
     "output_type": "stream",
     "text": [
      "/usr/local/lib/python3.10/dist-packages/pydantic/main.py:314: UserWarning: Pydantic serializer warnings:\n",
      "  Expected `list[str]` but got `tuple` - serialized value may not be as expected\n",
      "  return self.__pydantic_serializer__.to_python(\n"
     ]
    },
    {
     "data": {
      "text/html": [
       "Tracking run with wandb version 0.19.1"
      ],
      "text/plain": [
       "<IPython.core.display.HTML object>"
      ]
     },
     "metadata": {},
     "output_type": "display_data"
    },
    {
     "data": {
      "text/html": [
       "Run data is saved locally in <code>/home/work/HW4/wandb/run-20241220_072014-15dj4p4m</code>"
      ],
      "text/plain": [
       "<IPython.core.display.HTML object>"
      ]
     },
     "metadata": {},
     "output_type": "display_data"
    },
    {
     "data": {
      "text/html": [
       "Syncing run <strong><a href='https://wandb.ai/-ddj127-korea-university-of-technology-and-education/lstm_classification_btc_krw/runs/15dj4p4m' target=\"_blank\">2024-12-20_07-20-14</a></strong> to <a href='https://wandb.ai/-ddj127-korea-university-of-technology-and-education/lstm_classification_btc_krw' target=\"_blank\">Weights & Biases</a> (<a href='https://wandb.me/developer-guide' target=\"_blank\">docs</a>)<br>"
      ],
      "text/plain": [
       "<IPython.core.display.HTML object>"
      ]
     },
     "metadata": {},
     "output_type": "display_data"
    },
    {
     "data": {
      "text/html": [
       " View project at <a href='https://wandb.ai/-ddj127-korea-university-of-technology-and-education/lstm_classification_btc_krw' target=\"_blank\">https://wandb.ai/-ddj127-korea-university-of-technology-and-education/lstm_classification_btc_krw</a>"
      ],
      "text/plain": [
       "<IPython.core.display.HTML object>"
      ]
     },
     "metadata": {},
     "output_type": "display_data"
    },
    {
     "data": {
      "text/html": [
       " View run at <a href='https://wandb.ai/-ddj127-korea-university-of-technology-and-education/lstm_classification_btc_krw/runs/15dj4p4m' target=\"_blank\">https://wandb.ai/-ddj127-korea-university-of-technology-and-education/lstm_classification_btc_krw/runs/15dj4p4m</a>"
      ],
      "text/plain": [
       "<IPython.core.display.HTML object>"
      ]
     },
     "metadata": {},
     "output_type": "display_data"
    },
    {
     "name": "stdout",
     "output_type": "stream",
     "text": [
      "Training on device cuda:0.\n",
      "[Epoch   1] T_loss: 0.69392, T_accuracy: 47.9728 | V_loss: 0.69351, V_accuracy: 47.3333 | Early stopping is stated! | T_time: 00:00:00, T_speed: 0.000\n",
      "[Epoch   2] T_loss: 0.69261, T_accuracy: 52.3391 | V_loss: 0.69292, V_accuracy: 52.6667 | Early stopping counter: 1 out of 10 | T_time: 00:00:01, T_speed: 2.000\n",
      "[Epoch   4] T_loss: 0.69194, T_accuracy: 52.8494 | V_loss: 0.69229, V_accuracy: 52.6667 | V_loss decreased (0.69351 --> 0.69229). Saving model... | T_time: 00:00:03, T_speed: 1.333\n",
      "[Epoch   6] T_loss: 0.69145, T_accuracy: 53.0763 | V_loss: 0.69210, V_accuracy: 52.6667 | Early stopping counter: 1 out of 10 | T_time: 00:00:04, T_speed: 1.500\n",
      "[Epoch   8] T_loss: 0.69158, T_accuracy: 52.9629 | V_loss: 0.69252, V_accuracy: 52.6667 | Early stopping counter: 2 out of 10 | T_time: 00:00:06, T_speed: 1.333\n",
      "[Epoch  10] T_loss: 0.69104, T_accuracy: 53.0763 | V_loss: 0.69270, V_accuracy: 53.3333 | Early stopping counter: 3 out of 10 | T_time: 00:00:07, T_speed: 1.429\n",
      "[Epoch  12] T_loss: 0.69075, T_accuracy: 53.0479 | V_loss: 0.69296, V_accuracy: 50.6667 | Early stopping counter: 4 out of 10 | T_time: 00:00:09, T_speed: 1.333\n",
      "[Epoch  14] T_loss: 0.69088, T_accuracy: 53.2747 | V_loss: 0.69382, V_accuracy: 47.3333 | Early stopping counter: 5 out of 10 | T_time: 00:00:10, T_speed: 1.400\n",
      "[Epoch  16] T_loss: 0.69045, T_accuracy: 53.4449 | V_loss: 0.69392, V_accuracy: 47.3333 | Early stopping counter: 6 out of 10 | T_time: 00:00:12, T_speed: 1.333\n",
      "[Epoch  18] T_loss: 0.69123, T_accuracy: 53.1330 | V_loss: 0.69360, V_accuracy: 47.3333 | Early stopping counter: 7 out of 10 | T_time: 00:00:13, T_speed: 1.385\n",
      "[Epoch  20] T_loss: 0.69060, T_accuracy: 52.9062 | V_loss: 0.69359, V_accuracy: 47.3333 | Early stopping counter: 8 out of 10 | T_time: 00:00:15, T_speed: 1.333\n",
      "[Epoch  22] T_loss: 0.69028, T_accuracy: 52.8778 | V_loss: 0.69418, V_accuracy: 47.3333 | Early stopping counter: 9 out of 10 | T_time: 00:00:16, T_speed: 1.375\n",
      "[Epoch  24] T_loss: 0.69055, T_accuracy: 53.4165 | V_loss: 0.69361, V_accuracy: 47.3333 | Early stopping counter: 10 out of 10 *** TRAIN EARLY STOPPED! *** | T_time: 00:00:18, T_speed: 1.333\n",
      "Final training time: 00:00:18\n"
     ]
    },
    {
     "data": {
      "text/html": [],
      "text/plain": [
       "<IPython.core.display.HTML object>"
      ]
     },
     "metadata": {},
     "output_type": "display_data"
    },
    {
     "data": {
      "text/html": [
       "<br>    <style><br>        .wandb-row {<br>            display: flex;<br>            flex-direction: row;<br>            flex-wrap: wrap;<br>            justify-content: flex-start;<br>            width: 100%;<br>        }<br>        .wandb-col {<br>            display: flex;<br>            flex-direction: column;<br>            flex-basis: 100%;<br>            flex: 1;<br>            padding: 10px;<br>        }<br>    </style><br><div class=\"wandb-row\"><div class=\"wandb-col\"><h3>Run history:</h3><br/><table class=\"wandb\"><tr><td>Epoch</td><td>▁▁▂▃▃▄▄▅▆▆▇▇█</td></tr><tr><td>Training accuracy (%)</td><td>▁▇▇█▇█▇███▇▇█</td></tr><tr><td>Training loss</td><td>█▅▄▃▄▂▂▂▁▃▂▁▂</td></tr><tr><td>Training speed (epochs/sec.)</td><td>▁█▆▆▆▆▆▆▆▆▆▆▆</td></tr><tr><td>Validation accuracy (%)</td><td>▁▇▇▇▇█▅▁▁▁▁▁▁</td></tr><tr><td>Validation loss</td><td>▆▄▂▁▂▃▄▇▇▆▆█▆</td></tr></table><br/></div><div class=\"wandb-col\"><h3>Run summary:</h3><br/><table class=\"wandb\"><tr><td>Epoch</td><td>24</td></tr><tr><td>Training accuracy (%)</td><td>53.4165</td></tr><tr><td>Training loss</td><td>0.69055</td></tr><tr><td>Training speed (epochs/sec.)</td><td>1.33333</td></tr><tr><td>Validation accuracy (%)</td><td>47.33333</td></tr><tr><td>Validation loss</td><td>0.69361</td></tr></table><br/></div></div>"
      ],
      "text/plain": [
       "<IPython.core.display.HTML object>"
      ]
     },
     "metadata": {},
     "output_type": "display_data"
    },
    {
     "data": {
      "text/html": [
       " View run <strong style=\"color:#cdcd00\">2024-12-20_07-20-14</strong> at: <a href='https://wandb.ai/-ddj127-korea-university-of-technology-and-education/lstm_classification_btc_krw/runs/15dj4p4m' target=\"_blank\">https://wandb.ai/-ddj127-korea-university-of-technology-and-education/lstm_classification_btc_krw/runs/15dj4p4m</a><br> View project at: <a href='https://wandb.ai/-ddj127-korea-university-of-technology-and-education/lstm_classification_btc_krw' target=\"_blank\">https://wandb.ai/-ddj127-korea-university-of-technology-and-education/lstm_classification_btc_krw</a><br>Synced 5 W&B file(s), 0 media file(s), 0 artifact file(s) and 0 other file(s)"
      ],
      "text/plain": [
       "<IPython.core.display.HTML object>"
      ]
     },
     "metadata": {},
     "output_type": "display_data"
    },
    {
     "data": {
      "text/html": [
       "Find logs at: <code>./wandb/run-20241220_072014-15dj4p4m/logs</code>"
      ],
      "text/plain": [
       "<IPython.core.display.HTML object>"
      ]
     },
     "metadata": {},
     "output_type": "display_data"
    }
   ],
   "source": []
  },
  {
   "cell_type": "markdown",
   "id": "76f40347",
   "metadata": {},
   "source": [
    "###  문제 2-1 진행 -test 진행"
   ]
  },
  {
   "cell_type": "code",
   "execution_count": 17,
   "id": "f3bb436b",
   "metadata": {},
   "outputs": [
    {
     "name": "stderr",
     "output_type": "stream",
     "text": [
      "/usr/local/lib/python3.10/dist-packages/pydantic/main.py:314: UserWarning: Pydantic serializer warnings:\n",
      "  Expected `list[str]` but got `tuple` - serialized value may not be as expected\n",
      "  return self.__pydantic_serializer__.to_python(\n"
     ]
    },
    {
     "data": {
      "text/html": [
       "Tracking run with wandb version 0.19.1"
      ],
      "text/plain": [
       "<IPython.core.display.HTML object>"
      ]
     },
     "metadata": {},
     "output_type": "display_data"
    },
    {
     "data": {
      "text/html": [
       "Run data is saved locally in <code>/home/work/HW4/wandb/run-20241220_130952-xyefcy55</code>"
      ],
      "text/plain": [
       "<IPython.core.display.HTML object>"
      ]
     },
     "metadata": {},
     "output_type": "display_data"
    },
    {
     "data": {
      "text/html": [
       "Syncing run <strong><a href='https://wandb.ai/-ddj127-korea-university-of-technology-and-education/lstm_classification_btc_krw/runs/xyefcy55' target=\"_blank\">Run_2024-12-20_13-09-52_LR0.0001_WD1e-05_Dropout0.1_LSTM2</a></strong> to <a href='https://wandb.ai/-ddj127-korea-university-of-technology-and-education/lstm_classification_btc_krw' target=\"_blank\">Weights & Biases</a> (<a href='https://wandb.me/developer-guide' target=\"_blank\">docs</a>)<br>"
      ],
      "text/plain": [
       "<IPython.core.display.HTML object>"
      ]
     },
     "metadata": {},
     "output_type": "display_data"
    },
    {
     "data": {
      "text/html": [
       " View project at <a href='https://wandb.ai/-ddj127-korea-university-of-technology-and-education/lstm_classification_btc_krw' target=\"_blank\">https://wandb.ai/-ddj127-korea-university-of-technology-and-education/lstm_classification_btc_krw</a>"
      ],
      "text/plain": [
       "<IPython.core.display.HTML object>"
      ]
     },
     "metadata": {},
     "output_type": "display_data"
    },
    {
     "data": {
      "text/html": [
       " View run at <a href='https://wandb.ai/-ddj127-korea-university-of-technology-and-education/lstm_classification_btc_krw/runs/xyefcy55' target=\"_blank\">https://wandb.ai/-ddj127-korea-university-of-technology-and-education/lstm_classification_btc_krw/runs/xyefcy55</a>"
      ],
      "text/plain": [
       "<IPython.core.display.HTML object>"
      ]
     },
     "metadata": {},
     "output_type": "display_data"
    },
    {
     "name": "stdout",
     "output_type": "stream",
     "text": [
      "Training on device cuda:0.\n",
      "[Epoch   1] T_loss: 0.69152, T_accuracy: 53.1552 | V_loss: 0.69131, V_accuracy: 52.6667 | Early stopping is stated! | T_time: 00:00:00, T_speed: 0.000\n",
      "[Epoch   2] T_loss: 0.69104, T_accuracy: 52.6435 | V_loss: 0.69537, V_accuracy: 47.3333 | Early stopping counter: 1 out of 10 | T_time: 00:00:01, T_speed: 2.000\n",
      "[Epoch   4] T_loss: 0.69129, T_accuracy: 52.9278 | V_loss: 0.69277, V_accuracy: 52.6667 | Early stopping counter: 2 out of 10 | T_time: 00:00:02, T_speed: 2.000\n",
      "[Epoch   6] T_loss: 0.69109, T_accuracy: 53.2405 | V_loss: 0.69365, V_accuracy: 47.3333 | Early stopping counter: 3 out of 10 | T_time: 00:00:04, T_speed: 1.500\n",
      "[Epoch   8] T_loss: 0.69108, T_accuracy: 52.7857 | V_loss: 0.69383, V_accuracy: 47.3333 | Early stopping counter: 4 out of 10 | T_time: 00:00:05, T_speed: 1.600\n",
      "[Epoch  10] T_loss: 0.69106, T_accuracy: 53.1268 | V_loss: 0.69354, V_accuracy: 50.6667 | Early stopping counter: 5 out of 10 | T_time: 00:00:07, T_speed: 1.429\n",
      "[Epoch  12] T_loss: 0.69084, T_accuracy: 53.0984 | V_loss: 0.69459, V_accuracy: 47.3333 | Early stopping counter: 6 out of 10 | T_time: 00:00:08, T_speed: 1.500\n",
      "[Epoch  14] T_loss: 0.69102, T_accuracy: 53.4679 | V_loss: 0.69474, V_accuracy: 47.3333 | Early stopping counter: 7 out of 10 | T_time: 00:00:10, T_speed: 1.400\n",
      "[Epoch  16] T_loss: 0.69084, T_accuracy: 53.0131 | V_loss: 0.69462, V_accuracy: 47.3333 | Early stopping counter: 8 out of 10 | T_time: 00:00:11, T_speed: 1.455\n",
      "[Epoch  18] T_loss: 0.69094, T_accuracy: 53.4110 | V_loss: 0.69557, V_accuracy: 47.3333 | Early stopping counter: 9 out of 10 | T_time: 00:00:13, T_speed: 1.385\n",
      "[Epoch  20] T_loss: 0.69088, T_accuracy: 53.1552 | V_loss: 0.69418, V_accuracy: 47.3333 | Early stopping counter: 10 out of 10 *** TRAIN EARLY STOPPED! *** | T_time: 00:00:14, T_speed: 1.429\n",
      "Final training time: 00:00:14\n"
     ]
    },
    {
     "data": {
      "text/html": [],
      "text/plain": [
       "<IPython.core.display.HTML object>"
      ]
     },
     "metadata": {},
     "output_type": "display_data"
    },
    {
     "data": {
      "text/html": [
       "<br>    <style><br>        .wandb-row {<br>            display: flex;<br>            flex-direction: row;<br>            flex-wrap: wrap;<br>            justify-content: flex-start;<br>            width: 100%;<br>        }<br>        .wandb-col {<br>            display: flex;<br>            flex-direction: column;<br>            flex-basis: 100%;<br>            flex: 1;<br>            padding: 10px;<br>        }<br>    </style><br><div class=\"wandb-row\"><div class=\"wandb-col\"><h3>Run history:</h3><br/><table class=\"wandb\"><tr><td>Epoch</td><td>▁▁▂▃▄▄▅▆▇▇█</td></tr><tr><td>Training accuracy (%)</td><td>▅▁▃▆▂▅▅█▄█▅</td></tr><tr><td>Training loss</td><td>█▃▆▄▃▃▁▃▁▂▁</td></tr><tr><td>Training speed (epochs/sec.)</td><td>▁██▆▇▆▆▆▆▆▆</td></tr><tr><td>Validation accuracy (%)</td><td>█▁█▁▁▅▁▁▁▁▁</td></tr><tr><td>Validation loss</td><td>▁█▃▅▅▅▆▇▆█▆</td></tr></table><br/></div><div class=\"wandb-col\"><h3>Run summary:</h3><br/><table class=\"wandb\"><tr><td>Epoch</td><td>20</td></tr><tr><td>Training accuracy (%)</td><td>53.1552</td></tr><tr><td>Training loss</td><td>0.69088</td></tr><tr><td>Training speed (epochs/sec.)</td><td>1.42857</td></tr><tr><td>Validation accuracy (%)</td><td>47.33333</td></tr><tr><td>Validation loss</td><td>0.69418</td></tr></table><br/></div></div>"
      ],
      "text/plain": [
       "<IPython.core.display.HTML object>"
      ]
     },
     "metadata": {},
     "output_type": "display_data"
    },
    {
     "data": {
      "text/html": [
       " View run <strong style=\"color:#cdcd00\">Run_2024-12-20_13-09-52_LR0.0001_WD1e-05_Dropout0.1_LSTM2</strong> at: <a href='https://wandb.ai/-ddj127-korea-university-of-technology-and-education/lstm_classification_btc_krw/runs/xyefcy55' target=\"_blank\">https://wandb.ai/-ddj127-korea-university-of-technology-and-education/lstm_classification_btc_krw/runs/xyefcy55</a><br> View project at: <a href='https://wandb.ai/-ddj127-korea-university-of-technology-and-education/lstm_classification_btc_krw' target=\"_blank\">https://wandb.ai/-ddj127-korea-university-of-technology-and-education/lstm_classification_btc_krw</a><br>Synced 5 W&B file(s), 0 media file(s), 0 artifact file(s) and 0 other file(s)"
      ],
      "text/plain": [
       "<IPython.core.display.HTML object>"
      ]
     },
     "metadata": {},
     "output_type": "display_data"
    },
    {
     "data": {
      "text/html": [
       "Find logs at: <code>./wandb/run-20241220_130952-xyefcy55/logs</code>"
      ],
      "text/plain": [
       "<IPython.core.display.HTML object>"
      ]
     },
     "metadata": {},
     "output_type": "display_data"
    },
    {
     "name": "stderr",
     "output_type": "stream",
     "text": [
      "/usr/local/lib/python3.10/dist-packages/pydantic/main.py:314: UserWarning: Pydantic serializer warnings:\n",
      "  Expected `list[str]` but got `tuple` - serialized value may not be as expected\n",
      "  return self.__pydantic_serializer__.to_python(\n"
     ]
    },
    {
     "data": {
      "text/html": [
       "Tracking run with wandb version 0.19.1"
      ],
      "text/plain": [
       "<IPython.core.display.HTML object>"
      ]
     },
     "metadata": {},
     "output_type": "display_data"
    },
    {
     "data": {
      "text/html": [
       "Run data is saved locally in <code>/home/work/HW4/wandb/run-20241220_131011-pnbsgy18</code>"
      ],
      "text/plain": [
       "<IPython.core.display.HTML object>"
      ]
     },
     "metadata": {},
     "output_type": "display_data"
    },
    {
     "data": {
      "text/html": [
       "Syncing run <strong><a href='https://wandb.ai/-ddj127-korea-university-of-technology-and-education/lstm_classification_btc_krw/runs/pnbsgy18' target=\"_blank\">Run_2024-12-20_13-10-11_LR0.0001_WD1e-06_Dropout0.3_LSTM3</a></strong> to <a href='https://wandb.ai/-ddj127-korea-university-of-technology-and-education/lstm_classification_btc_krw' target=\"_blank\">Weights & Biases</a> (<a href='https://wandb.me/developer-guide' target=\"_blank\">docs</a>)<br>"
      ],
      "text/plain": [
       "<IPython.core.display.HTML object>"
      ]
     },
     "metadata": {},
     "output_type": "display_data"
    },
    {
     "data": {
      "text/html": [
       " View project at <a href='https://wandb.ai/-ddj127-korea-university-of-technology-and-education/lstm_classification_btc_krw' target=\"_blank\">https://wandb.ai/-ddj127-korea-university-of-technology-and-education/lstm_classification_btc_krw</a>"
      ],
      "text/plain": [
       "<IPython.core.display.HTML object>"
      ]
     },
     "metadata": {},
     "output_type": "display_data"
    },
    {
     "data": {
      "text/html": [
       " View run at <a href='https://wandb.ai/-ddj127-korea-university-of-technology-and-education/lstm_classification_btc_krw/runs/pnbsgy18' target=\"_blank\">https://wandb.ai/-ddj127-korea-university-of-technology-and-education/lstm_classification_btc_krw/runs/pnbsgy18</a>"
      ],
      "text/plain": [
       "<IPython.core.display.HTML object>"
      ]
     },
     "metadata": {},
     "output_type": "display_data"
    },
    {
     "name": "stdout",
     "output_type": "stream",
     "text": [
      "Training on device cuda:0.\n",
      "[Epoch   1] T_loss: 0.69193, T_accuracy: 51.7339 | V_loss: 0.69230, V_accuracy: 54.6667 | Early stopping is stated! | T_time: 00:00:00, T_speed: 0.000\n",
      "[Epoch   2] T_loss: 0.69147, T_accuracy: 53.0699 | V_loss: 0.69206, V_accuracy: 52.6667 | Early stopping counter: 1 out of 10 | T_time: 00:00:01, T_speed: 2.000\n",
      "[Epoch   4] T_loss: 0.69124, T_accuracy: 53.0131 | V_loss: 0.69153, V_accuracy: 52.6667 | Early stopping counter: 2 out of 10 | T_time: 00:00:03, T_speed: 1.333\n",
      "[Epoch   6] T_loss: 0.69138, T_accuracy: 52.7572 | V_loss: 0.69216, V_accuracy: 52.6667 | Early stopping counter: 3 out of 10 | T_time: 00:00:05, T_speed: 1.200\n",
      "[Epoch   8] T_loss: 0.69107, T_accuracy: 53.1552 | V_loss: 0.69365, V_accuracy: 47.3333 | Early stopping counter: 4 out of 10 | T_time: 00:00:07, T_speed: 1.143\n",
      "[Epoch  10] T_loss: 0.69106, T_accuracy: 53.1552 | V_loss: 0.69283, V_accuracy: 52.0000 | Early stopping counter: 5 out of 10 | T_time: 00:00:09, T_speed: 1.111\n",
      "[Epoch  12] T_loss: 0.69096, T_accuracy: 52.5583 | V_loss: 0.69286, V_accuracy: 53.3333 | Early stopping counter: 6 out of 10 | T_time: 00:00:11, T_speed: 1.091\n",
      "[Epoch  14] T_loss: 0.69096, T_accuracy: 52.8709 | V_loss: 0.69374, V_accuracy: 47.3333 | Early stopping counter: 7 out of 10 | T_time: 00:00:13, T_speed: 1.077\n",
      "[Epoch  16] T_loss: 0.69103, T_accuracy: 53.0699 | V_loss: 0.69340, V_accuracy: 48.6667 | Early stopping counter: 8 out of 10 | T_time: 00:00:15, T_speed: 1.067\n",
      "[Epoch  18] T_loss: 0.69094, T_accuracy: 52.9562 | V_loss: 0.69333, V_accuracy: 50.0000 | Early stopping counter: 9 out of 10 | T_time: 00:00:17, T_speed: 1.059\n",
      "[Epoch  20] T_loss: 0.69092, T_accuracy: 53.1836 | V_loss: 0.69302, V_accuracy: 54.0000 | Early stopping counter: 10 out of 10 *** TRAIN EARLY STOPPED! *** | T_time: 00:00:19, T_speed: 1.053\n",
      "Final training time: 00:00:19\n"
     ]
    },
    {
     "data": {
      "text/html": [],
      "text/plain": [
       "<IPython.core.display.HTML object>"
      ]
     },
     "metadata": {},
     "output_type": "display_data"
    },
    {
     "data": {
      "text/html": [
       "<br>    <style><br>        .wandb-row {<br>            display: flex;<br>            flex-direction: row;<br>            flex-wrap: wrap;<br>            justify-content: flex-start;<br>            width: 100%;<br>        }<br>        .wandb-col {<br>            display: flex;<br>            flex-direction: column;<br>            flex-basis: 100%;<br>            flex: 1;<br>            padding: 10px;<br>        }<br>    </style><br><div class=\"wandb-row\"><div class=\"wandb-col\"><h3>Run history:</h3><br/><table class=\"wandb\"><tr><td>Epoch</td><td>▁▁▂▃▄▄▅▆▇▇█</td></tr><tr><td>Training accuracy (%)</td><td>▁▇▇▆██▅▆▇▇█</td></tr><tr><td>Training loss</td><td>█▅▃▄▂▂▁▁▂▁▁</td></tr><tr><td>Training speed (epochs/sec.)</td><td>▁█▆▅▅▅▅▅▅▅▅</td></tr><tr><td>Validation accuracy (%)</td><td>█▆▆▆▁▅▇▁▂▄▇</td></tr><tr><td>Validation loss</td><td>▃▃▁▃█▅▅█▇▇▆</td></tr></table><br/></div><div class=\"wandb-col\"><h3>Run summary:</h3><br/><table class=\"wandb\"><tr><td>Epoch</td><td>20</td></tr><tr><td>Training accuracy (%)</td><td>53.18363</td></tr><tr><td>Training loss</td><td>0.69092</td></tr><tr><td>Training speed (epochs/sec.)</td><td>1.05263</td></tr><tr><td>Validation accuracy (%)</td><td>54</td></tr><tr><td>Validation loss</td><td>0.69302</td></tr></table><br/></div></div>"
      ],
      "text/plain": [
       "<IPython.core.display.HTML object>"
      ]
     },
     "metadata": {},
     "output_type": "display_data"
    },
    {
     "data": {
      "text/html": [
       " View run <strong style=\"color:#cdcd00\">Run_2024-12-20_13-10-11_LR0.0001_WD1e-06_Dropout0.3_LSTM3</strong> at: <a href='https://wandb.ai/-ddj127-korea-university-of-technology-and-education/lstm_classification_btc_krw/runs/pnbsgy18' target=\"_blank\">https://wandb.ai/-ddj127-korea-university-of-technology-and-education/lstm_classification_btc_krw/runs/pnbsgy18</a><br> View project at: <a href='https://wandb.ai/-ddj127-korea-university-of-technology-and-education/lstm_classification_btc_krw' target=\"_blank\">https://wandb.ai/-ddj127-korea-university-of-technology-and-education/lstm_classification_btc_krw</a><br>Synced 5 W&B file(s), 0 media file(s), 0 artifact file(s) and 0 other file(s)"
      ],
      "text/plain": [
       "<IPython.core.display.HTML object>"
      ]
     },
     "metadata": {},
     "output_type": "display_data"
    },
    {
     "data": {
      "text/html": [
       "Find logs at: <code>./wandb/run-20241220_131011-pnbsgy18/logs</code>"
      ],
      "text/plain": [
       "<IPython.core.display.HTML object>"
      ]
     },
     "metadata": {},
     "output_type": "display_data"
    },
    {
     "name": "stderr",
     "output_type": "stream",
     "text": [
      "/usr/local/lib/python3.10/dist-packages/pydantic/main.py:314: UserWarning: Pydantic serializer warnings:\n",
      "  Expected `list[str]` but got `tuple` - serialized value may not be as expected\n",
      "  return self.__pydantic_serializer__.to_python(\n"
     ]
    },
    {
     "data": {
      "text/html": [
       "Tracking run with wandb version 0.19.1"
      ],
      "text/plain": [
       "<IPython.core.display.HTML object>"
      ]
     },
     "metadata": {},
     "output_type": "display_data"
    },
    {
     "data": {
      "text/html": [
       "Run data is saved locally in <code>/home/work/HW4/wandb/run-20241220_131033-022saeio</code>"
      ],
      "text/plain": [
       "<IPython.core.display.HTML object>"
      ]
     },
     "metadata": {},
     "output_type": "display_data"
    },
    {
     "data": {
      "text/html": [
       "Syncing run <strong><a href='https://wandb.ai/-ddj127-korea-university-of-technology-and-education/lstm_classification_btc_krw/runs/022saeio' target=\"_blank\">Run_2024-12-20_13-10-33_LR0.0001_WD0_Dropout0.5_LSTM4</a></strong> to <a href='https://wandb.ai/-ddj127-korea-university-of-technology-and-education/lstm_classification_btc_krw' target=\"_blank\">Weights & Biases</a> (<a href='https://wandb.me/developer-guide' target=\"_blank\">docs</a>)<br>"
      ],
      "text/plain": [
       "<IPython.core.display.HTML object>"
      ]
     },
     "metadata": {},
     "output_type": "display_data"
    },
    {
     "data": {
      "text/html": [
       " View project at <a href='https://wandb.ai/-ddj127-korea-university-of-technology-and-education/lstm_classification_btc_krw' target=\"_blank\">https://wandb.ai/-ddj127-korea-university-of-technology-and-education/lstm_classification_btc_krw</a>"
      ],
      "text/plain": [
       "<IPython.core.display.HTML object>"
      ]
     },
     "metadata": {},
     "output_type": "display_data"
    },
    {
     "data": {
      "text/html": [
       " View run at <a href='https://wandb.ai/-ddj127-korea-university-of-technology-and-education/lstm_classification_btc_krw/runs/022saeio' target=\"_blank\">https://wandb.ai/-ddj127-korea-university-of-technology-and-education/lstm_classification_btc_krw/runs/022saeio</a>"
      ],
      "text/plain": [
       "<IPython.core.display.HTML object>"
      ]
     },
     "metadata": {},
     "output_type": "display_data"
    },
    {
     "name": "stdout",
     "output_type": "stream",
     "text": [
      "Training on device cuda:0.\n",
      "[Epoch   1] T_loss: 0.69249, T_accuracy: 52.1035 | V_loss: 0.69212, V_accuracy: 52.6667 | Early stopping is stated! | T_time: 00:00:01, T_speed: 1.000\n",
      "[Epoch   2] T_loss: 0.69113, T_accuracy: 52.4730 | V_loss: 0.69248, V_accuracy: 52.6667 | Early stopping counter: 1 out of 10 | T_time: 00:00:02, T_speed: 1.000\n",
      "[Epoch   4] T_loss: 0.69149, T_accuracy: 52.7004 | V_loss: 0.69226, V_accuracy: 52.6667 | Early stopping counter: 2 out of 10 | T_time: 00:00:04, T_speed: 1.000\n",
      "[Epoch   6] T_loss: 0.69143, T_accuracy: 52.4161 | V_loss: 0.69258, V_accuracy: 52.6667 | Early stopping counter: 3 out of 10 | T_time: 00:00:07, T_speed: 0.857\n",
      "[Epoch   8] T_loss: 0.69125, T_accuracy: 53.1268 | V_loss: 0.69307, V_accuracy: 50.6667 | Early stopping counter: 4 out of 10 | T_time: 00:00:09, T_speed: 0.889\n",
      "[Epoch  10] T_loss: 0.69114, T_accuracy: 52.8425 | V_loss: 0.69277, V_accuracy: 56.0000 | Early stopping counter: 5 out of 10 | T_time: 00:00:11, T_speed: 0.909\n",
      "[Epoch  12] T_loss: 0.69106, T_accuracy: 53.4395 | V_loss: 0.69235, V_accuracy: 52.6667 | Early stopping counter: 6 out of 10 | T_time: 00:00:14, T_speed: 0.857\n",
      "[Epoch  14] T_loss: 0.69119, T_accuracy: 53.0415 | V_loss: 0.69275, V_accuracy: 55.3333 | Early stopping counter: 7 out of 10 | T_time: 00:00:16, T_speed: 0.875\n",
      "[Epoch  16] T_loss: 0.69101, T_accuracy: 52.6151 | V_loss: 0.69293, V_accuracy: 50.0000 | Early stopping counter: 8 out of 10 | T_time: 00:00:18, T_speed: 0.889\n",
      "[Epoch  18] T_loss: 0.69097, T_accuracy: 53.0984 | V_loss: 0.69526, V_accuracy: 47.3333 | Early stopping counter: 9 out of 10 | T_time: 00:00:21, T_speed: 0.857\n",
      "[Epoch  20] T_loss: 0.69097, T_accuracy: 52.9847 | V_loss: 0.69396, V_accuracy: 47.3333 | Early stopping counter: 10 out of 10 *** TRAIN EARLY STOPPED! *** | T_time: 00:00:23, T_speed: 0.870\n",
      "Final training time: 00:00:23\n"
     ]
    },
    {
     "data": {
      "text/html": [],
      "text/plain": [
       "<IPython.core.display.HTML object>"
      ]
     },
     "metadata": {},
     "output_type": "display_data"
    },
    {
     "data": {
      "text/html": [
       "<br>    <style><br>        .wandb-row {<br>            display: flex;<br>            flex-direction: row;<br>            flex-wrap: wrap;<br>            justify-content: flex-start;<br>            width: 100%;<br>        }<br>        .wandb-col {<br>            display: flex;<br>            flex-direction: column;<br>            flex-basis: 100%;<br>            flex: 1;<br>            padding: 10px;<br>        }<br>    </style><br><div class=\"wandb-row\"><div class=\"wandb-col\"><h3>Run history:</h3><br/><table class=\"wandb\"><tr><td>Epoch</td><td>▁▁▂▃▄▄▅▆▇▇█</td></tr><tr><td>Training accuracy (%)</td><td>▁▃▄▃▆▅█▆▄▆▆</td></tr><tr><td>Training loss</td><td>█▂▃▃▂▂▁▂▁▁▁</td></tr><tr><td>Training speed (epochs/sec.)</td><td>███▁▃▄▁▂▃▁▂</td></tr><tr><td>Validation accuracy (%)</td><td>▅▅▅▅▄█▅▇▃▁▁</td></tr><tr><td>Validation loss</td><td>▁▂▁▂▃▂▂▂▃█▅</td></tr></table><br/></div><div class=\"wandb-col\"><h3>Run summary:</h3><br/><table class=\"wandb\"><tr><td>Epoch</td><td>20</td></tr><tr><td>Training accuracy (%)</td><td>52.98465</td></tr><tr><td>Training loss</td><td>0.69097</td></tr><tr><td>Training speed (epochs/sec.)</td><td>0.86957</td></tr><tr><td>Validation accuracy (%)</td><td>47.33333</td></tr><tr><td>Validation loss</td><td>0.69396</td></tr></table><br/></div></div>"
      ],
      "text/plain": [
       "<IPython.core.display.HTML object>"
      ]
     },
     "metadata": {},
     "output_type": "display_data"
    },
    {
     "data": {
      "text/html": [
       " View run <strong style=\"color:#cdcd00\">Run_2024-12-20_13-10-33_LR0.0001_WD0_Dropout0.5_LSTM4</strong> at: <a href='https://wandb.ai/-ddj127-korea-university-of-technology-and-education/lstm_classification_btc_krw/runs/022saeio' target=\"_blank\">https://wandb.ai/-ddj127-korea-university-of-technology-and-education/lstm_classification_btc_krw/runs/022saeio</a><br> View project at: <a href='https://wandb.ai/-ddj127-korea-university-of-technology-and-education/lstm_classification_btc_krw' target=\"_blank\">https://wandb.ai/-ddj127-korea-university-of-technology-and-education/lstm_classification_btc_krw</a><br>Synced 5 W&B file(s), 0 media file(s), 0 artifact file(s) and 0 other file(s)"
      ],
      "text/plain": [
       "<IPython.core.display.HTML object>"
      ]
     },
     "metadata": {},
     "output_type": "display_data"
    },
    {
     "data": {
      "text/html": [
       "Find logs at: <code>./wandb/run-20241220_131033-022saeio/logs</code>"
      ],
      "text/plain": [
       "<IPython.core.display.HTML object>"
      ]
     },
     "metadata": {},
     "output_type": "display_data"
    },
    {
     "name": "stderr",
     "output_type": "stream",
     "text": [
      "/usr/local/lib/python3.10/dist-packages/pydantic/main.py:314: UserWarning: Pydantic serializer warnings:\n",
      "  Expected `list[str]` but got `tuple` - serialized value may not be as expected\n",
      "  return self.__pydantic_serializer__.to_python(\n"
     ]
    },
    {
     "data": {
      "text/html": [
       "Tracking run with wandb version 0.19.1"
      ],
      "text/plain": [
       "<IPython.core.display.HTML object>"
      ]
     },
     "metadata": {},
     "output_type": "display_data"
    },
    {
     "data": {
      "text/html": [
       "Run data is saved locally in <code>/home/work/HW4/wandb/run-20241220_131101-y978g5b9</code>"
      ],
      "text/plain": [
       "<IPython.core.display.HTML object>"
      ]
     },
     "metadata": {},
     "output_type": "display_data"
    },
    {
     "data": {
      "text/html": [
       "Syncing run <strong><a href='https://wandb.ai/-ddj127-korea-university-of-technology-and-education/lstm_classification_btc_krw/runs/y978g5b9' target=\"_blank\">Run_2024-12-20_13-11-01_LR0.0001_WD0_Dropout0.5_LSTM4</a></strong> to <a href='https://wandb.ai/-ddj127-korea-university-of-technology-and-education/lstm_classification_btc_krw' target=\"_blank\">Weights & Biases</a> (<a href='https://wandb.me/developer-guide' target=\"_blank\">docs</a>)<br>"
      ],
      "text/plain": [
       "<IPython.core.display.HTML object>"
      ]
     },
     "metadata": {},
     "output_type": "display_data"
    },
    {
     "data": {
      "text/html": [
       " View project at <a href='https://wandb.ai/-ddj127-korea-university-of-technology-and-education/lstm_classification_btc_krw' target=\"_blank\">https://wandb.ai/-ddj127-korea-university-of-technology-and-education/lstm_classification_btc_krw</a>"
      ],
      "text/plain": [
       "<IPython.core.display.HTML object>"
      ]
     },
     "metadata": {},
     "output_type": "display_data"
    },
    {
     "data": {
      "text/html": [
       " View run at <a href='https://wandb.ai/-ddj127-korea-university-of-technology-and-education/lstm_classification_btc_krw/runs/y978g5b9' target=\"_blank\">https://wandb.ai/-ddj127-korea-university-of-technology-and-education/lstm_classification_btc_krw/runs/y978g5b9</a>"
      ],
      "text/plain": [
       "<IPython.core.display.HTML object>"
      ]
     },
     "metadata": {},
     "output_type": "display_data"
    },
    {
     "name": "stdout",
     "output_type": "stream",
     "text": [
      "Training on device cuda:0.\n",
      "[Epoch   1] T_loss: 0.69242, T_accuracy: 52.2456 | V_loss: 0.69218, V_accuracy: 52.6667 | Early stopping is stated! | T_time: 00:00:01, T_speed: 1.000\n",
      "[Epoch   2] T_loss: 0.69170, T_accuracy: 52.7857 | V_loss: 0.69158, V_accuracy: 52.6667 | Early stopping counter: 1 out of 10 | T_time: 00:00:02, T_speed: 1.000\n",
      "[Epoch   4] T_loss: 0.69187, T_accuracy: 52.6151 | V_loss: 0.69213, V_accuracy: 52.6667 | Early stopping counter: 2 out of 10 | T_time: 00:00:04, T_speed: 1.000\n",
      "[Epoch   6] T_loss: 0.69126, T_accuracy: 52.8709 | V_loss: 0.69366, V_accuracy: 47.3333 | Early stopping counter: 3 out of 10 | T_time: 00:00:07, T_speed: 0.857\n",
      "[Epoch   8] T_loss: 0.69122, T_accuracy: 52.7572 | V_loss: 0.69269, V_accuracy: 54.6667 | Early stopping counter: 4 out of 10 | T_time: 00:00:09, T_speed: 0.889\n",
      "[Epoch  10] T_loss: 0.69135, T_accuracy: 52.8994 | V_loss: 0.69233, V_accuracy: 52.6667 | Early stopping counter: 5 out of 10 | T_time: 00:00:11, T_speed: 0.909\n",
      "[Epoch  12] T_loss: 0.69109, T_accuracy: 52.7857 | V_loss: 0.69332, V_accuracy: 46.6667 | Early stopping counter: 6 out of 10 | T_time: 00:00:14, T_speed: 0.857\n",
      "[Epoch  14] T_loss: 0.69090, T_accuracy: 53.0699 | V_loss: 0.69274, V_accuracy: 54.0000 | Early stopping counter: 7 out of 10 | T_time: 00:00:16, T_speed: 0.875\n",
      "[Epoch  16] T_loss: 0.69123, T_accuracy: 53.0131 | V_loss: 0.69317, V_accuracy: 46.6667 | Early stopping counter: 8 out of 10 | T_time: 00:00:18, T_speed: 0.889\n",
      "[Epoch  18] T_loss: 0.69093, T_accuracy: 52.7004 | V_loss: 0.69285, V_accuracy: 54.6667 | Early stopping counter: 9 out of 10 | T_time: 00:00:21, T_speed: 0.857\n",
      "[Epoch  20] T_loss: 0.69107, T_accuracy: 53.4395 | V_loss: 0.69276, V_accuracy: 53.3333 | Early stopping counter: 10 out of 10 *** TRAIN EARLY STOPPED! *** | T_time: 00:00:23, T_speed: 0.870\n",
      "Final training time: 00:00:23\n"
     ]
    },
    {
     "data": {
      "text/html": [],
      "text/plain": [
       "<IPython.core.display.HTML object>"
      ]
     },
     "metadata": {},
     "output_type": "display_data"
    },
    {
     "data": {
      "text/html": [
       "<br>    <style><br>        .wandb-row {<br>            display: flex;<br>            flex-direction: row;<br>            flex-wrap: wrap;<br>            justify-content: flex-start;<br>            width: 100%;<br>        }<br>        .wandb-col {<br>            display: flex;<br>            flex-direction: column;<br>            flex-basis: 100%;<br>            flex: 1;<br>            padding: 10px;<br>        }<br>    </style><br><div class=\"wandb-row\"><div class=\"wandb-col\"><h3>Run history:</h3><br/><table class=\"wandb\"><tr><td>Epoch</td><td>▁▁▂▃▄▄▅▆▇▇█</td></tr><tr><td>Training accuracy (%)</td><td>▁▄▃▅▄▅▄▆▆▄█</td></tr><tr><td>Training loss</td><td>█▅▅▃▂▃▂▁▃▁▂</td></tr><tr><td>Training speed (epochs/sec.)</td><td>███▁▃▄▁▂▃▁▂</td></tr><tr><td>Validation accuracy (%)</td><td>▆▆▆▂█▆▁▇▁█▇</td></tr><tr><td>Validation loss</td><td>▃▁▃█▅▄▇▅▆▅▅</td></tr></table><br/></div><div class=\"wandb-col\"><h3>Run summary:</h3><br/><table class=\"wandb\"><tr><td>Epoch</td><td>20</td></tr><tr><td>Training accuracy (%)</td><td>53.43945</td></tr><tr><td>Training loss</td><td>0.69107</td></tr><tr><td>Training speed (epochs/sec.)</td><td>0.86957</td></tr><tr><td>Validation accuracy (%)</td><td>53.33333</td></tr><tr><td>Validation loss</td><td>0.69276</td></tr></table><br/></div></div>"
      ],
      "text/plain": [
       "<IPython.core.display.HTML object>"
      ]
     },
     "metadata": {},
     "output_type": "display_data"
    },
    {
     "data": {
      "text/html": [
       " View run <strong style=\"color:#cdcd00\">Run_2024-12-20_13-11-01_LR0.0001_WD0_Dropout0.5_LSTM4</strong> at: <a href='https://wandb.ai/-ddj127-korea-university-of-technology-and-education/lstm_classification_btc_krw/runs/y978g5b9' target=\"_blank\">https://wandb.ai/-ddj127-korea-university-of-technology-and-education/lstm_classification_btc_krw/runs/y978g5b9</a><br> View project at: <a href='https://wandb.ai/-ddj127-korea-university-of-technology-and-education/lstm_classification_btc_krw' target=\"_blank\">https://wandb.ai/-ddj127-korea-university-of-technology-and-education/lstm_classification_btc_krw</a><br>Synced 5 W&B file(s), 0 media file(s), 0 artifact file(s) and 0 other file(s)"
      ],
      "text/plain": [
       "<IPython.core.display.HTML object>"
      ]
     },
     "metadata": {},
     "output_type": "display_data"
    },
    {
     "data": {
      "text/html": [
       "Find logs at: <code>./wandb/run-20241220_131101-y978g5b9/logs</code>"
      ],
      "text/plain": [
       "<IPython.core.display.HTML object>"
      ]
     },
     "metadata": {},
     "output_type": "display_data"
    }
   ],
   "source": [
    "from torch import nn, optim\n",
    "from datetime import datetime\n",
    "import os\n",
    "import wandb\n",
    "from pathlib import Path\n",
    "import torch\n",
    "import sys\n",
    "\n",
    "# 현재 Jupyter Notebook 환경을 고려하여 디렉토리 설정\n",
    "CURRENT_DIR = Path(os.getcwd()).resolve()\n",
    "BASE_PATH = CURRENT_DIR  # 현재 디렉토리를 BASE_PATH로 사용\n",
    "sys.path.append(str(BASE_PATH))  # BASE_PATH를 sys.path에 추가해 모듈 탐색 가능\n",
    "\n",
    "# 체크포인트를 저장할 디렉토리 생성 (존재하지 않으면 생성)\n",
    "CHECKPOINT_FILE_PATH = CURRENT_DIR / \"checkpoints\"\n",
    "CHECKPOINT_FILE_PATH.mkdir(parents=True, exist_ok=True)\n",
    "\n",
    "# 외부 모듈 임포트\n",
    "# c_trainer.py, f_arg_parser.py, g_crypto_currency_regression_train_lstm.py는\n",
    "# 현재 디렉토리(또는 BASE_PATH)내에 있다고 가정\n",
    "from c_trainer import ClassificationTrainer\n",
    "from f_arg_parser import get_parser\n",
    "from g_crypto_currency_regression_train_lstm import get_btc_krw_data\n",
    "\n",
    "\n",
    "def get_model(hidden_size=256, lstm_layers=3, n_input=5, n_output=1):\n",
    "    \"\"\"\n",
    "    회귀용 LSTM 모델을 정의하는 함수.\n",
    "    현재 코드에서는 분류용 모델을 사용하려면 get_model() 내부를 수정하거나\n",
    "    별도의 모델 정의 함수가 필요하다.\n",
    "\n",
    "    Args:\n",
    "        hidden_size (int): LSTM 은닉 상태 크기\n",
    "        lstm_layers (int): LSTM 레이어 수\n",
    "        n_input (int): 입력 특성의 수\n",
    "        n_output (int): 출력 차원 수\n",
    "\n",
    "    Returns:\n",
    "        nn.Module: 정의된 LSTM 기반 모델 인스턴스\n",
    "    \"\"\"\n",
    "\n",
    "    class MyModel(nn.Module):\n",
    "        def __init__(self, n_input, n_output, hidden_size, lstm_layers):\n",
    "            super().__init__()\n",
    "            # LSTM 레이어 정의\n",
    "            # batch_first=True 로 배치 차원이 첫 번째 차원\n",
    "            self.lstm = nn.LSTM(\n",
    "                input_size=n_input,\n",
    "                hidden_size=hidden_size,\n",
    "                num_layers=lstm_layers,\n",
    "                batch_first=True\n",
    "            )\n",
    "            # 최종 FC 레이어: LSTM의 마지막 타임스텝 출력을 n_output 차원으로 매핑\n",
    "            self.fcn = nn.Linear(in_features=hidden_size, out_features=n_output)\n",
    "\n",
    "        def forward(self, x):\n",
    "            # x: (batch, seq_len, features)\n",
    "            x, _ = self.lstm(x)\n",
    "            # LSTM의 마지막 타임스텝 출력 사용: (batch, hidden_size)\n",
    "            x = x[:, -1, :]\n",
    "            # FC 레이어 통과\n",
    "            x = self.fcn(x)\n",
    "            return x\n",
    "\n",
    "    return MyModel(n_input=n_input, n_output=n_output, hidden_size=hidden_size, lstm_layers=lstm_layers)\n",
    "\n",
    "\n",
    "def main(config):\n",
    "    \"\"\"\n",
    "    LSTM 분류 모델 학습 메인 함수.\n",
    "    다양한 하이퍼파라미터로 실험을 진행할 수 있으며, WandB로 로그를 남길 수 있다.\n",
    "\n",
    "    1. WandB 런 초기화\n",
    "    2. 디바이스 설정(CPU 또는 GPU)\n",
    "    3. 데이터 로드(분류용 데이터)\n",
    "    4. 모델 초기화 (현재 회귀용 모델로 정의되어 있으나 config에 맞게 수정 필요)\n",
    "    5. 옵티마이저 정의\n",
    "    6. ClassificationTrainer를 사용해 학습 진행\n",
    "    7. WandB 종료\n",
    "\n",
    "    Args:\n",
    "        config (dict): 학습 설정값 딕셔너리\n",
    "    \"\"\"\n",
    "    # 현재 시간 문자열 (런 이름에 사용)\n",
    "    run_time_str = datetime.now().astimezone().strftime('%Y-%m-%d_%H-%M-%S')\n",
    "\n",
    "    # WandB 런 초기화\n",
    "    wandb.init(\n",
    "        mode=\"online\" if config[\"wandb\"] else \"disabled\",\n",
    "        project=config[\"project_name\"],\n",
    "        # 러닝레이트, weight_decay, dropout_rate, LSTM 레이어 수를 이름에 반영해 실험 트래킹\n",
    "        name=f\"Run_{run_time_str}_LR{config['learning_rate']}_WD{config['weight_decay']}_Dropout{config['dropout_rate']}_LSTM{config['lstm_layers']}\",\n",
    "        tags=[\"lstm\", \"classification\", f\"dropout_{config['dropout_rate']}\", f\"lstm_layers_{config['lstm_layers']}\"],\n",
    "        notes=\"Experiment with various hyperparameters\",\n",
    "        config=config\n",
    "    )\n",
    "\n",
    "    # 디바이스 설정: GPU 사용 가능 시 GPU 사용, 아니면 CPU\n",
    "    device = torch.device(\"cuda:0\" if torch.cuda.is_available() else \"cpu\")\n",
    "    print(f\"Training on device {device}.\")\n",
    "\n",
    "    # 데이터 로드: 현재 함수는 회귀/분류를 모두 지원하므로 is_regression=False로 분류용 데이터로딩\n",
    "    train_data_loader, validation_data_loader, _ = get_btc_krw_data(\n",
    "        sequence_size=30,\n",
    "        validation_size=150,\n",
    "        test_size=30,\n",
    "        is_regression=False\n",
    "    )\n",
    "\n",
    "    # 모델 초기화\n",
    "    # 주석 처리된 get_model과 현재 get_model의 정의가 달라서, 실제 분류 모델로 학습하려면 \n",
    "    # 분류용 get_model()을 사용하거나 여기서 모델 정의를 수정해야 한다.\n",
    "    # 아래는 회귀용 모델을 호출하나, config에 따라 파라미터를 넣어 분류용 모델로 재정의 필요.\n",
    "    model = get_model(\n",
    "        hidden_size=config[\"hidden_size\"],\n",
    "        lstm_layers=config[\"lstm_layers\"],\n",
    "        n_input=5,  # 입력 특성 수 (데이터셋에 맞게 수정)\n",
    "        n_output=2  # 분류이므로 클래스 수 2를 가정 (실제 데이터셋에 맞게 조정)\n",
    "    )\n",
    "    model.to(device)\n",
    "\n",
    "    # 옵티마이저(Adam) 초기화\n",
    "    optimizer = optim.Adam(model.parameters(), lr=config[\"learning_rate\"], weight_decay=config[\"weight_decay\"])\n",
    "\n",
    "    # ClassificationTrainer 인스턴스 생성\n",
    "    # train_loop() 실행 시 학습/검증 루프와 체크포인트 저장, WandB 로깅 처리\n",
    "    classification_trainer = ClassificationTrainer(\n",
    "        config[\"project_name\"], model, optimizer, train_data_loader, validation_data_loader, None,\n",
    "        run_time_str, wandb, device, CHECKPOINT_FILE_PATH\n",
    "    )\n",
    "    classification_trainer.train_loop()\n",
    "\n",
    "    # WandB 실험 종료\n",
    "    wandb.finish()\n",
    "\n",
    "\n",
    "# 학습 설정 딕셔너리\n",
    "config = {\n",
    "    \"epochs\": 100,\n",
    "    \"batch_size\": 32,\n",
    "    \"validation_intervals\": 2,\n",
    "    \"learning_rate\": 0.0001,  # 초기 러닝레이트\n",
    "    \"early_stop_patience\": 10,\n",
    "    \"early_stop_delta\": 0.001,\n",
    "    \"weight_decay\": 1e-6,     # 초기 weight decay\n",
    "    \"dropout_rate\": 0.5,      # 초기 dropout_rate\n",
    "    \"lstm_layers\": 4,         # 초기 LSTM 레이어 수\n",
    "    \"fc_layers\": 3,           # 초기 FC 레이어 수 (현재 get_model에서는 사용되지 않음)\n",
    "    \"hidden_size\": 512,       # 초기 은닉 상태 크기\n",
    "    \"wandb\": True,\n",
    "    \"project_name\": \"lstm_classification_btc_krw\"\n",
    "}\n",
    "\n",
    "# 실험 1: dropout_rate, weight_decay, lstm_layers, fc_layers 조정\n",
    "config.update({\"dropout_rate\": 0.1, \"weight_decay\": 1e-5, \"lstm_layers\": 2, \"fc_layers\": 3})\n",
    "main(config)\n",
    "\n",
    "# 실험 2: 또 다른 파라미터 조합\n",
    "config.update({\"dropout_rate\": 0.3, \"weight_decay\": 1e-6, \"lstm_layers\": 3, \"fc_layers\": 2})\n",
    "main(config)\n",
    "\n",
    "# 실험 3: 또 다른 파라미터 조합\n",
    "config.update({\"dropout_rate\": 0.5, \"weight_decay\": 0, \"lstm_layers\": 4, \"fc_layers\": 1})\n",
    "main(config)\n",
    "\n",
    "# 마지막 main 호출\n",
    "main(config)\n"
   ]
  },
  {
   "cell_type": "markdown",
   "id": "19d88258",
   "metadata": {},
   "source": [
    "### 2-1 regression training"
   ]
  },
  {
   "cell_type": "code",
   "execution_count": 25,
   "id": "04f21d7b",
   "metadata": {},
   "outputs": [
    {
     "name": "stdout",
     "output_type": "stream",
     "text": [
      "Training on device cuda:0.\n",
      "[Epoch   1] T_loss: 0.69218, T_accuracy: 52.9629 | V_loss: 0.69247, V_accuracy: 52.6667 | Early stopping is stated! | T_time: 00:00:00, T_speed: 0.000\n",
      "[Epoch   2] T_loss: 0.69165, T_accuracy: 52.9629 | V_loss: 0.69209, V_accuracy: 52.6667 | Early stopping counter: 1 out of 10 | T_time: 00:00:01, T_speed: 2.000\n",
      "[Epoch   4] T_loss: 0.69134, T_accuracy: 52.9629 | V_loss: 0.69212, V_accuracy: 52.6667 | Early stopping counter: 2 out of 10 | T_time: 00:00:02, T_speed: 2.000\n",
      "[Epoch   6] T_loss: 0.69082, T_accuracy: 53.0196 | V_loss: 0.69249, V_accuracy: 52.6667 | Early stopping counter: 3 out of 10 | T_time: 00:00:04, T_speed: 1.500\n",
      "[Epoch   8] T_loss: 0.69057, T_accuracy: 52.8778 | V_loss: 0.69279, V_accuracy: 52.0000 | Early stopping counter: 4 out of 10 | T_time: 00:00:05, T_speed: 1.600\n",
      "[Epoch  10] T_loss: 0.69066, T_accuracy: 53.1046 | V_loss: 0.69293, V_accuracy: 46.6667 | Early stopping counter: 5 out of 10 | T_time: 00:00:07, T_speed: 1.429\n",
      "[Epoch  12] T_loss: 0.69064, T_accuracy: 53.0763 | V_loss: 0.69330, V_accuracy: 47.3333 | Early stopping counter: 6 out of 10 | T_time: 00:00:08, T_speed: 1.500\n",
      "[Epoch  14] T_loss: 0.69056, T_accuracy: 53.2464 | V_loss: 0.69354, V_accuracy: 47.3333 | Early stopping counter: 7 out of 10 | T_time: 00:00:10, T_speed: 1.400\n",
      "[Epoch  16] T_loss: 0.69059, T_accuracy: 53.1046 | V_loss: 0.69398, V_accuracy: 47.3333 | Early stopping counter: 8 out of 10 | T_time: 00:00:11, T_speed: 1.455\n",
      "[Epoch  18] T_loss: 0.69036, T_accuracy: 53.0763 | V_loss: 0.69363, V_accuracy: 47.3333 | Early stopping counter: 9 out of 10 | T_time: 00:00:13, T_speed: 1.385\n",
      "[Epoch  20] T_loss: 0.69036, T_accuracy: 53.1613 | V_loss: 0.69431, V_accuracy: 47.3333 | Early stopping counter: 10 out of 10 *** TRAIN EARLY STOPPED! *** | T_time: 00:00:14, T_speed: 1.429\n",
      "Final training time: 00:00:14\n"
     ]
    },
    {
     "data": {
      "text/html": [],
      "text/plain": [
       "<IPython.core.display.HTML object>"
      ]
     },
     "metadata": {},
     "output_type": "display_data"
    },
    {
     "data": {
      "text/html": [
       "<br>    <style><br>        .wandb-row {<br>            display: flex;<br>            flex-direction: row;<br>            flex-wrap: wrap;<br>            justify-content: flex-start;<br>            width: 100%;<br>        }<br>        .wandb-col {<br>            display: flex;<br>            flex-direction: column;<br>            flex-basis: 100%;<br>            flex: 1;<br>            padding: 10px;<br>        }<br>    </style><br><div class=\"wandb-row\"><div class=\"wandb-col\"><h3>Run history:</h3><br/><table class=\"wandb\"><tr><td>Epoch</td><td>▁▁▂▃▄▄▅▆▇▇█</td></tr><tr><td>Training accuracy (%)</td><td>▃▃▃▄▁▅▅█▅▅▆</td></tr><tr><td>Training loss</td><td>█▆▅▃▂▂▂▂▂▁▁</td></tr><tr><td>Training speed (epochs/sec.)</td><td>▁██▆▇▆▆▆▆▆▆</td></tr><tr><td>Validation accuracy (%)</td><td>████▇▁▂▂▂▂▂</td></tr><tr><td>Validation loss</td><td>▂▁▁▂▃▄▅▆▇▆█</td></tr></table><br/></div><div class=\"wandb-col\"><h3>Run summary:</h3><br/><table class=\"wandb\"><tr><td>Epoch</td><td>20</td></tr><tr><td>Training accuracy (%)</td><td>53.16133</td></tr><tr><td>Training loss</td><td>0.69036</td></tr><tr><td>Training speed (epochs/sec.)</td><td>1.42857</td></tr><tr><td>Validation accuracy (%)</td><td>47.33333</td></tr><tr><td>Validation loss</td><td>0.69431</td></tr></table><br/></div></div>"
      ],
      "text/plain": [
       "<IPython.core.display.HTML object>"
      ]
     },
     "metadata": {},
     "output_type": "display_data"
    },
    {
     "data": {
      "text/html": [
       " View run <strong style=\"color:#cdcd00\">Run_2024-12-20_08-23-43_LR1e-05_WD0.0001_Dropout0.3_LSTM3_Seq21</strong> at: <a href='https://wandb.ai/-ddj127-korea-university-of-technology-and-education/lstm_classification_btc_krw/runs/9vacwbpz' target=\"_blank\">https://wandb.ai/-ddj127-korea-university-of-technology-and-education/lstm_classification_btc_krw/runs/9vacwbpz</a><br> View project at: <a href='https://wandb.ai/-ddj127-korea-university-of-technology-and-education/lstm_classification_btc_krw' target=\"_blank\">https://wandb.ai/-ddj127-korea-university-of-technology-and-education/lstm_classification_btc_krw</a><br>Synced 5 W&B file(s), 0 media file(s), 0 artifact file(s) and 0 other file(s)"
      ],
      "text/plain": [
       "<IPython.core.display.HTML object>"
      ]
     },
     "metadata": {},
     "output_type": "display_data"
    },
    {
     "data": {
      "text/html": [
       "Find logs at: <code>./wandb/run-20241220_082343-9vacwbpz/logs</code>"
      ],
      "text/plain": [
       "<IPython.core.display.HTML object>"
      ]
     },
     "metadata": {},
     "output_type": "display_data"
    }
   ],
   "source": [
    "from torch import nn, optim\n",
    "from datetime import datetime\n",
    "import os\n",
    "import wandb\n",
    "from pathlib import Path\n",
    "import torch\n",
    "import sys\n",
    "\n",
    "# 현재 Jupyter Notebook 환경에 맞추어 작업 디렉토리 및 경로 설정\n",
    "CURRENT_DIR = Path(os.getcwd()).resolve()\n",
    "BASE_PATH = CURRENT_DIR\n",
    "sys.path.append(str(BASE_PATH))  # BASE_PATH를 sys.path에 추가하여 모듈 탐색 경로 확보\n",
    "\n",
    "# 체크포인트를 저장할 디렉토리 설정 (존재하지 않으면 생성)\n",
    "CHECKPOINT_FILE_PATH = CURRENT_DIR / \"checkpoints\"\n",
    "CHECKPOINT_FILE_PATH.mkdir(parents=True, exist_ok=True)\n",
    "\n",
    "# 필요한 외부 모듈 임포트\n",
    "# (c_trainer.py, f_arg_parser.py, g_crypto_currency_regression_train_lstm.py는 BASE_PATH 내에 존재한다고 가정)\n",
    "from c_trainer import ClassificationTrainer\n",
    "from f_arg_parser import get_parser\n",
    "from g_crypto_currency_regression_train_lstm import get_btc_krw_data\n",
    "\n",
    "\n",
    "def get_model(hidden_size=256, lstm_layers=3, n_input=5, n_output=2):\n",
    "    \"\"\"\n",
    "    LSTM 기반 분류 모델 정의 함수.\n",
    "    입력: n_input (특성 수), n_output(출력 클래스 수), hidden_size(은닉층 크기), lstm_layers(LSTM 레이어 수)\n",
    "    출력: 정의된 nn.Module 모델 인스턴스\n",
    "    \"\"\"\n",
    "    class MyModel(nn.Module):\n",
    "        def __init__(self, n_input, n_output, hidden_size, lstm_layers):\n",
    "            super().__init__()\n",
    "            # LSTM 레이어 정의\n",
    "            # batch_first=True로 batch 차원을 맨 앞으로\n",
    "            self.lstm = nn.LSTM(\n",
    "                input_size=n_input,\n",
    "                hidden_size=hidden_size,\n",
    "                num_layers=lstm_layers,\n",
    "                batch_first=True\n",
    "            )\n",
    "            # 마지막 타임스텝의 hidden state를 받아 fully connected layer로 출력\n",
    "            self.fcn = nn.Linear(in_features=hidden_size, out_features=n_output)\n",
    "\n",
    "        def forward(self, x):\n",
    "            # x 형태: (batch, sequence_length, n_input)\n",
    "            x, _ = self.lstm(x)     # LSTM 통과\n",
    "            x = x[:, -1, :]         # 마지막 타임스텝의 은닉상태만 사용\n",
    "            x = self.fcn(x)         # FC layer 통해 클래스 로짓값 출력\n",
    "            return x\n",
    "\n",
    "    return MyModel(n_input=n_input, n_output=n_output, hidden_size=hidden_size, lstm_layers=lstm_layers)\n",
    "\n",
    "\n",
    "def main(config):\n",
    "    \"\"\"\n",
    "    LSTM 분류 모델 학습 메인 함수.\n",
    "    1. WandB 초기화 (config에 따라 online/disabled 모드)\n",
    "    2. GPU/CPU 디바이스 설정\n",
    "    3. 데이터 로드 (classification 용도로 is_regression=False)\n",
    "    4. 모델 초기화 및 파라미터 설정\n",
    "    5. 옵티마이저(Adam) 설정\n",
    "    6. ClassificationTrainer를 통한 학습 루프 실행\n",
    "    7. 학습 종료 후 WandB finish\n",
    "\n",
    "    Args:\n",
    "        config (dict): 학습 관련 설정 값을 담은 딕셔너리\n",
    "    \"\"\"\n",
    "    # 현재 시간 문자열 추출(런 이름에 사용)\n",
    "    run_time_str = datetime.now().astimezone().strftime('%Y-%m-%d_%H-%M-%S')\n",
    "\n",
    "    # WandB 런 초기화\n",
    "    wandb.init(\n",
    "        mode=\"online\" if config[\"wandb\"] else \"disabled\",\n",
    "        project=config[\"project_name\"],\n",
    "        name=(\n",
    "            f\"Run_{run_time_str}_LR{config['learning_rate']}_WD{config['weight_decay']}\"\n",
    "            f\"_Dropout{config['dropout_rate']}_LSTM{config['lstm_layers']}_Seq{config['sequence_size']}\"\n",
    "        ),\n",
    "        tags=[\n",
    "            \"lstm\",\n",
    "            \"classification\",\n",
    "            f\"dropout_{config['dropout_rate']}\",\n",
    "            f\"lstm_layers_{config['lstm_layers']}\",\n",
    "            f\"seq_size_{config['sequence_size']}\"\n",
    "        ],\n",
    "        notes=\"Experiment with various hyperparameters and data settings\",\n",
    "        config=config\n",
    "    )\n",
    "\n",
    "    # 디바이스 설정: GPU 사용 가능하면 GPU 사용, 아니면 CPU\n",
    "    device = torch.device(\"cuda:0\" if torch.cuda.is_available() else \"cpu\")\n",
    "    print(f\"Training on device {device}.\")\n",
    "\n",
    "    # 데이터 로드\n",
    "    # config에서 지정한 sequence_size, validation_size, test_size, is_regression 파라미터 활용\n",
    "    train_data_loader, validation_data_loader, _ = get_btc_krw_data(\n",
    "        sequence_size=config[\"sequence_size\"],\n",
    "        validation_size=config[\"validation_size\"],\n",
    "        test_size=config[\"test_size\"],\n",
    "        is_regression=config[\"is_regression\"]\n",
    "    )\n",
    "\n",
    "    # 모델 초기화 (분류 모델이므로 n_output=2)\n",
    "    model = get_model(\n",
    "        hidden_size=config[\"hidden_size\"],\n",
    "        lstm_layers=config[\"lstm_layers\"],\n",
    "        n_input=5,\n",
    "        n_output=2\n",
    "    )\n",
    "    model.to(device)  # 모델을 디바이스에 로드\n",
    "\n",
    "    # 옵티마이저(Adam) 설정\n",
    "    optimizer = optim.Adam(model.parameters(), lr=config[\"learning_rate\"], weight_decay=config[\"weight_decay\"])\n",
    "\n",
    "    # ClassificationTrainer 인스턴스 생성 및 학습 시작\n",
    "    classification_trainer = ClassificationTrainer(\n",
    "        config[\"project_name\"], model, optimizer, train_data_loader, validation_data_loader, None,\n",
    "        run_time_str, wandb, device, CHECKPOINT_FILE_PATH\n",
    "    )\n",
    "    classification_trainer.train_loop()\n",
    "\n",
    "    # WandB 세션 종료\n",
    "    wandb.finish()\n",
    "\n",
    "\n",
    "# Config 딕셔너리: 학습 관련 하이퍼파라미터 및 데이터 설정\n",
    "config = {\n",
    "    \"epochs\": 100,\n",
    "    \"batch_size\": 32,\n",
    "    \"validation_intervals\": 2,\n",
    "    \"learning_rate\": 0.00001,\n",
    "    \"early_stop_patience\": 10,\n",
    "    \"early_stop_delta\": 0.001,\n",
    "    \"weight_decay\": 0.0001,\n",
    "    \"dropout_rate\": 0.3,         # 드롭아웃 비율\n",
    "    \"lstm_layers\": 3,            # LSTM 레이어 수\n",
    "    \"hidden_size\": 256,          # LSTM 은닉 상태 크기\n",
    "    \"sequence_size\": 21,         # 입력 시퀀스 길이\n",
    "    \"validation_size\": 150,      # 검증 데이터 크기\n",
    "    \"test_size\": 30,             # 테스트 데이터 크기\n",
    "    \"is_regression\": False,      # 분류 문제로 설정\n",
    "    \"wandb\": True,               # WandB 사용 여부\n",
    "    \"project_name\": \"lstm_classification_btc_krw\"\n",
    "}\n",
    "\n",
    "# 메인 함수 호출로 학습 시작\n",
    "main(config)\n"
   ]
  },
  {
   "cell_type": "markdown",
   "id": "818df77d",
   "metadata": {},
   "source": [
    "### 2-2 Regresson test"
   ]
  },
  {
   "cell_type": "code",
   "execution_count": 18,
   "id": "ca1034a0",
   "metadata": {},
   "outputs": [
    {
     "ename": "TypeError",
     "evalue": "get_model() got an unexpected keyword argument 'hidden_size'",
     "output_type": "error",
     "traceback": [
      "\u001b[0;31m---------------------------------------------------------------------------\u001b[0m",
      "\u001b[0;31mTypeError\u001b[0m                                 Traceback (most recent call last)",
      "Cell \u001b[0;32mIn[18], line 175\u001b[0m\n\u001b[1;32m    171\u001b[0m     predict_all(test_model)\n\u001b[1;32m    174\u001b[0m \u001b[38;5;66;03m# Jupyter Notebook에서 직접 메인 함수 호출\u001b[39;00m\n\u001b[0;32m--> 175\u001b[0m \u001b[43mmain\u001b[49m\u001b[43m(\u001b[49m\u001b[43m)\u001b[49m\n",
      "Cell \u001b[0;32mIn[18], line 153\u001b[0m, in \u001b[0;36mmain\u001b[0;34m()\u001b[0m\n\u001b[1;32m    143\u001b[0m wandb\u001b[38;5;241m.\u001b[39minit(\n\u001b[1;32m    144\u001b[0m     mode\u001b[38;5;241m=\u001b[39m\u001b[38;5;124m\"\u001b[39m\u001b[38;5;124mdisabled\u001b[39m\u001b[38;5;124m\"\u001b[39m,\n\u001b[1;32m    145\u001b[0m     project\u001b[38;5;241m=\u001b[39mconfig[\u001b[38;5;124m\"\u001b[39m\u001b[38;5;124mproject_name\u001b[39m\u001b[38;5;124m\"\u001b[39m],\n\u001b[0;32m   (...)\u001b[0m\n\u001b[1;32m    149\u001b[0m     config\u001b[38;5;241m=\u001b[39mconfig\n\u001b[1;32m    150\u001b[0m )\n\u001b[1;32m    152\u001b[0m \u001b[38;5;66;03m# 모델 초기화\u001b[39;00m\n\u001b[0;32m--> 153\u001b[0m test_model \u001b[38;5;241m=\u001b[39m \u001b[43mget_model\u001b[49m\u001b[43m(\u001b[49m\n\u001b[1;32m    154\u001b[0m \u001b[43m    \u001b[49m\u001b[43mhidden_size\u001b[49m\u001b[38;5;241;43m=\u001b[39;49m\u001b[43mconfig\u001b[49m\u001b[43m[\u001b[49m\u001b[38;5;124;43m\"\u001b[39;49m\u001b[38;5;124;43mhidden_size\u001b[39;49m\u001b[38;5;124;43m\"\u001b[39;49m\u001b[43m]\u001b[49m\u001b[43m,\u001b[49m\n\u001b[1;32m    155\u001b[0m \u001b[43m    \u001b[49m\u001b[43mlstm_layers\u001b[49m\u001b[38;5;241;43m=\u001b[39;49m\u001b[43mconfig\u001b[49m\u001b[43m[\u001b[49m\u001b[38;5;124;43m\"\u001b[39;49m\u001b[38;5;124;43mlstm_layers\u001b[39;49m\u001b[38;5;124;43m\"\u001b[39;49m\u001b[43m]\u001b[49m\u001b[43m,\u001b[49m\n\u001b[1;32m    156\u001b[0m \u001b[43m    \u001b[49m\u001b[43mn_input\u001b[49m\u001b[38;5;241;43m=\u001b[39;49m\u001b[38;5;241;43m5\u001b[39;49m\u001b[43m,\u001b[49m\u001b[43m  \u001b[49m\u001b[38;5;66;43;03m# 입력 특성 수 (미리 정해진 것)\u001b[39;49;00m\n\u001b[1;32m    157\u001b[0m \u001b[43m    \u001b[49m\u001b[43mn_output\u001b[49m\u001b[38;5;241;43m=\u001b[39;49m\u001b[38;5;241;43m1\u001b[39;49m\u001b[43m  \u001b[49m\u001b[38;5;66;43;03m# 회귀 출력 차원\u001b[39;49;00m\n\u001b[1;32m    158\u001b[0m \u001b[43m\u001b[49m\u001b[43m)\u001b[49m\n\u001b[1;32m    160\u001b[0m \u001b[38;5;66;03m# 최신 체크포인트 파일 경로 설정\u001b[39;00m\n\u001b[1;32m    161\u001b[0m latest_file_path \u001b[38;5;241m=\u001b[39m CHECKPOINT_FILE_PATH \u001b[38;5;241m/\u001b[39m \u001b[38;5;124mf\u001b[39m\u001b[38;5;124m\"\u001b[39m\u001b[38;5;132;01m{\u001b[39;00mconfig[\u001b[38;5;124m'\u001b[39m\u001b[38;5;124mproject_name\u001b[39m\u001b[38;5;124m'\u001b[39m]\u001b[38;5;132;01m}\u001b[39;00m\u001b[38;5;124m_checkpoint_latest.pt\u001b[39m\u001b[38;5;124m\"\u001b[39m\n",
      "\u001b[0;31mTypeError\u001b[0m: get_model() got an unexpected keyword argument 'hidden_size'"
     ]
    }
   ],
   "source": [
    "import torch\n",
    "import wandb\n",
    "from matplotlib import pyplot as plt\n",
    "from datetime import datetime\n",
    "import os\n",
    "from pathlib import Path\n",
    "\n",
    "# 현재 작업 디렉토리를 기반으로 체크포인트 경로를 설정하고 폴더 없을 시 생성\n",
    "CURRENT_FILE_PATH = Path.cwd()   # Jupyter Notebook 환경에 맞게 작업 디렉토리 추적\n",
    "CHECKPOINT_FILE_PATH = CURRENT_FILE_PATH / \"checkpoints\"\n",
    "if not CHECKPOINT_FILE_PATH.exists():\n",
    "    os.makedirs(CHECKPOINT_FILE_PATH)\n",
    "\n",
    "# 필요한 모듈 임포트\n",
    "# f_arg_parser.py, p_cryptocurrency_dataset_dataloader.py, g_crypto_currency_regression_train_lstm.py \n",
    "#는 현재 디렉토리(혹은 PATH 내)에 있다고 가정\n",
    "from f_arg_parser import get_parser\n",
    "from p_cryptocurrency_dataset_dataloader import get_cryptocurrency_data, CryptoCurrencyDataset\n",
    "from g_crypto_currency_regression_train_lstm import get_model, get_btc_krw_data\n",
    "\n",
    "\n",
    "def test(test_model):\n",
    "    \"\"\"\n",
    "    테스트 데이터에 대해 모델 성능을 평가하는 함수.\n",
    "    회귀 문제이므로 예측값과 실제값을 비교하고 손실(오차)을 출력한다.\n",
    "\n",
    "    Args:\n",
    "        test_model (nn.Module): 로드된 모델 인스턴스\n",
    "    \"\"\"\n",
    "    # 테스트 데이터 로드 (훈련 시 사용한 설정과 동일하게)\n",
    "    _, _, test_data_loader = get_btc_krw_data(\n",
    "        sequence_size=21,    # 학습 시퀀스 길이와 동일\n",
    "        validation_size=150,\n",
    "        test_size=30,\n",
    "        is_regression=True\n",
    "    )\n",
    "\n",
    "    # 모델 평가 모드\n",
    "    test_model.eval()\n",
    "    y_normalizer = 100  # 결과값 스케일링을 위해 설정된 정규화 상수\n",
    "\n",
    "    print(\"[TEST DATA]\")\n",
    "    with torch.no_grad():  # 테스트 시엔 그래디언트 계산 비활성화\n",
    "        for test_batch in test_data_loader:\n",
    "            input_test, target_test = test_batch\n",
    "            output_test = test_model(input_test)\n",
    "\n",
    "        # 예측값과 실제값, 그리고 그 절대 오차를 출력\n",
    "        for idx, (output, target) in enumerate(zip(output_test, target_test)):\n",
    "            print(\"{0:2}: {1:6,.2f} <--> {2:6,.2f} (Loss: {3:>13,.2f})\".format(\n",
    "                idx,\n",
    "                output.item() * y_normalizer,\n",
    "                target.item() * y_normalizer,\n",
    "                abs(output.squeeze(dim=-1).item() - target.item()) * y_normalizer\n",
    "            ))\n",
    "\n",
    "\n",
    "def predict_all(test_model):\n",
    "    \"\"\"\n",
    "    훈련, 검증, 테스트 데이터 전반에 대해 모델 예측을 수행하고,\n",
    "    실제값(target)과 예측값(prediction)의 추이를 그래프로 시각화한다.\n",
    "\n",
    "    Args:\n",
    "        test_model (nn.Module): 로드된 모델 인스턴스\n",
    "    \"\"\"\n",
    "    y_normalizer = 100  # 스케일링 값 (학습 시 사용한 정규화 기준과 일관성 필요)\n",
    "\n",
    "    # 훈련 시 사용한 설정과 동일한 파라미터로 데이터 로드\n",
    "    X_train, X_validation, X_test, y_train, y_validation, y_test, y_train_date, y_validation_date, y_test_date = \\\n",
    "        get_cryptocurrency_data(\n",
    "            sequence_size=21,    # 훈련과 동일\n",
    "            validation_size=150,\n",
    "            test_size=30,\n",
    "            target_column='Close',\n",
    "            y_normalizer=1.0e7,  # 학습 시 사용된 y_normalizer\n",
    "            is_regression=True\n",
    "        )\n",
    "\n",
    "    # Dataset 인스턴스 생성\n",
    "    train_crypto_currency_dataset = CryptoCurrencyDataset(X=X_train, y=y_train)\n",
    "    validation_crypto_currency_dataset = CryptoCurrencyDataset(X=X_validation, y=y_validation)\n",
    "    test_crypto_currency_dataset = CryptoCurrencyDataset(X=X_test, y=y_test)\n",
    "\n",
    "    # 데이터셋 리스트로 관리 (훈련, 검증, 테스트 순)\n",
    "    dataset_list = [\n",
    "        train_crypto_currency_dataset, validation_crypto_currency_dataset, test_crypto_currency_dataset\n",
    "    ]\n",
    "    dataset_labels = [\"train\", \"validation\", \"test\"]\n",
    "\n",
    "    num = 0  # X축 인덱싱을 위해 사용할 변수\n",
    "    fig, axs = plt.subplots(3, 1, figsize=(6, 9))\n",
    "\n",
    "    for i in range(3):\n",
    "        X_points, TARGET_Y, PREDICTION_Y = [], [], []\n",
    "        for data in dataset_list[i]:\n",
    "            input, target = data\n",
    "\n",
    "            # 모델에 (1, sequence_size, n_features) 형태의 입력을 주기 위해 unsqueeze 사용\n",
    "            prediction = test_model(input.unsqueeze(0)).squeeze(-1).squeeze(-1)\n",
    "\n",
    "            X_points.append(num)\n",
    "            TARGET_Y.append(target.item() * y_normalizer)\n",
    "            PREDICTION_Y.append(prediction.item() * y_normalizer)\n",
    "            num += 1\n",
    "\n",
    "        # 실제값과 예측값 그래프 플롯\n",
    "        axs[i].plot(X_points, TARGET_Y, label='target')\n",
    "        axs[i].plot(X_points, PREDICTION_Y, label='prediction')\n",
    "        axs[i].set_title(dataset_labels[i])\n",
    "        axs[i].legend()\n",
    "\n",
    "    plt.tight_layout()\n",
    "    plt.show()\n",
    "\n",
    "\n",
    "def main():\n",
    "    \"\"\"\n",
    "    메인 실행 함수:\n",
    "    1. WandB 비활성화 모드로 초기화 (테스트용)\n",
    "    2. 모델 파라미터 로드 및 테스트 수행\n",
    "    3. 모든 데이터셋에 대한 예측 결과 시각화\n",
    "    \"\"\"\n",
    "    # 학습 시 사용했던 설정값과 동일하게 맞추기\n",
    "    config = {\n",
    "        \"epochs\": 100,\n",
    "        \"batch_size\": 32,\n",
    "        \"validation_intervals\": 2,\n",
    "        \"learning_rate\": 0.00001,\n",
    "        \"early_stop_patience\": 10,\n",
    "        \"early_stop_delta\": 0.001,\n",
    "        \"weight_decay\": 0.0001,\n",
    "        \"dropout_rate\": 0.3,         # 학습 시 사용한 dropout율\n",
    "        \"lstm_layers\": 3,            # 학습 시 사용한 LSTM 레이어 수\n",
    "        \"hidden_size\": 256,          # 학습 시 사용한 LSTM 은닉 상태 크기\n",
    "        \"sequence_size\": 21,         # 시퀀스 길이\n",
    "        \"validation_size\": 150,      # 검증 데이터 크기\n",
    "        \"test_size\": 30,             # 테스트 데이터 크기\n",
    "        \"is_regression\": True,       # 회귀 문제로 설정\n",
    "        \"project_name\": \"lstm_regression_btc_krw\"\n",
    "    }\n",
    "\n",
    "    # WandB 초기화 (현재 테스트이므로 disabled)\n",
    "    wandb.init(\n",
    "        mode=\"disabled\",\n",
    "        project=config[\"project_name\"],\n",
    "        notes=\"btc_krw regression testing\",\n",
    "        tags=[\"lstm\", \"regression\", \"btc_krw\"],\n",
    "        name=datetime.now().strftime('%Y-%m-%d_%H-%M-%S'),\n",
    "        config=config\n",
    "    )\n",
    "\n",
    "    # 모델 초기화\n",
    "    test_model = get_model(\n",
    "        hidden_size=config[\"hidden_size\"],\n",
    "        lstm_layers=config[\"lstm_layers\"],\n",
    "        n_input=5,  # 입력 특성 수 (미리 정해진 것)\n",
    "        n_output=1  # 회귀 출력 차원\n",
    "    )\n",
    "\n",
    "    # 최신 체크포인트 파일 경로 설정\n",
    "    latest_file_path = CHECKPOINT_FILE_PATH / f\"{config['project_name']}_checkpoint_latest.pt\"\n",
    "    print(f\"MODEL FILE: {latest_file_path}\")\n",
    "\n",
    "    # CPU에서 모델 로드\n",
    "    test_model.load_state_dict(torch.load(latest_file_path, map_location=torch.device('cpu')))\n",
    "\n",
    "    # 테스트 데이터셋 평가\n",
    "    test(test_model)\n",
    "\n",
    "    # 전체 데이터셋에 대한 예측 시각화\n",
    "    predict_all(test_model)\n",
    "\n",
    "\n",
    "# Jupyter Notebook에서 직접 메인 함수 호출\n",
    "main()\n"
   ]
  },
  {
   "cell_type": "markdown",
   "id": "3adcdd83",
   "metadata": {},
   "source": [
    "### classfication training"
   ]
  },
  {
   "cell_type": "code",
   "execution_count": 14,
   "id": "5578fa2e",
   "metadata": {
    "scrolled": true
   },
   "outputs": [
    {
     "name": "stderr",
     "output_type": "stream",
     "text": [
      "\u001b[34m\u001b[1mwandb\u001b[0m: Currently logged in as: \u001b[33m-ddj127\u001b[0m (\u001b[33m-ddj127-korea-university-of-technology-and-education\u001b[0m). Use \u001b[1m`wandb login --relogin`\u001b[0m to force relogin\n",
      "/usr/local/lib/python3.10/dist-packages/pydantic/main.py:314: UserWarning: Pydantic serializer warnings:\n",
      "  Expected `list[str]` but got `tuple` - serialized value may not be as expected\n",
      "  return self.__pydantic_serializer__.to_python(\n"
     ]
    },
    {
     "data": {
      "application/vnd.jupyter.widget-view+json": {
       "model_id": "f65f927c347b4c4d8acda99db3096563",
       "version_major": 2,
       "version_minor": 0
      },
      "text/plain": [
       "VBox(children=(Label(value='Waiting for wandb.init()...\\r'), FloatProgress(value=0.011112248566415574, max=1.0…"
      ]
     },
     "metadata": {},
     "output_type": "display_data"
    },
    {
     "data": {
      "text/html": [
       "Tracking run with wandb version 0.19.1"
      ],
      "text/plain": [
       "<IPython.core.display.HTML object>"
      ]
     },
     "metadata": {},
     "output_type": "display_data"
    },
    {
     "data": {
      "text/html": [
       "Run data is saved locally in <code>/home/work/HW4/wandb/run-20241220_114834-rh3wohh4</code>"
      ],
      "text/plain": [
       "<IPython.core.display.HTML object>"
      ]
     },
     "metadata": {},
     "output_type": "display_data"
    },
    {
     "data": {
      "text/html": [
       "Syncing run <strong><a href='https://wandb.ai/-ddj127-korea-university-of-technology-and-education/lstm_classification_btc_krw/runs/rh3wohh4' target=\"_blank\">Run_2024-12-20_11-48-34_LR0.0001_WD1e-06_Batch32</a></strong> to <a href='https://wandb.ai/-ddj127-korea-university-of-technology-and-education/lstm_classification_btc_krw' target=\"_blank\">Weights & Biases</a> (<a href='https://wandb.me/developer-guide' target=\"_blank\">docs</a>)<br>"
      ],
      "text/plain": [
       "<IPython.core.display.HTML object>"
      ]
     },
     "metadata": {},
     "output_type": "display_data"
    },
    {
     "data": {
      "text/html": [
       " View project at <a href='https://wandb.ai/-ddj127-korea-university-of-technology-and-education/lstm_classification_btc_krw' target=\"_blank\">https://wandb.ai/-ddj127-korea-university-of-technology-and-education/lstm_classification_btc_krw</a>"
      ],
      "text/plain": [
       "<IPython.core.display.HTML object>"
      ]
     },
     "metadata": {},
     "output_type": "display_data"
    },
    {
     "data": {
      "text/html": [
       " View run at <a href='https://wandb.ai/-ddj127-korea-university-of-technology-and-education/lstm_classification_btc_krw/runs/rh3wohh4' target=\"_blank\">https://wandb.ai/-ddj127-korea-university-of-technology-and-education/lstm_classification_btc_krw/runs/rh3wohh4</a>"
      ],
      "text/plain": [
       "<IPython.core.display.HTML object>"
      ]
     },
     "metadata": {},
     "output_type": "display_data"
    },
    {
     "name": "stdout",
     "output_type": "stream",
     "text": [
      "Training on device cuda:0.\n",
      "[Epoch 1] Training Loss: 0.6924, Training Accuracy: 51.40%\n",
      "[Epoch 2] Training Loss: 0.6914, Training Accuracy: 53.13%\n",
      "[Epoch 3] Training Loss: 0.6909, Training Accuracy: 53.10%\n",
      "[Epoch 4] Training Loss: 0.6910, Training Accuracy: 52.93%\n",
      "[Epoch 5] Training Loss: 0.6911, Training Accuracy: 53.19%\n",
      "[Epoch 6] Training Loss: 0.6907, Training Accuracy: 53.02%\n",
      "[Epoch 7] Training Loss: 0.6909, Training Accuracy: 53.10%\n",
      "[Epoch 8] Training Loss: 0.6911, Training Accuracy: 52.85%\n",
      "[Epoch 9] Training Loss: 0.6911, Training Accuracy: 53.39%\n",
      "[Epoch 10] Training Loss: 0.6909, Training Accuracy: 53.27%\n",
      "[Epoch 11] Training Loss: 0.6914, Training Accuracy: 53.02%\n",
      "[Epoch 12] Training Loss: 0.6909, Training Accuracy: 53.10%\n",
      "[Epoch 13] Training Loss: 0.6907, Training Accuracy: 53.61%\n",
      "[Epoch 14] Training Loss: 0.6907, Training Accuracy: 52.99%\n",
      "[Epoch 15] Training Loss: 0.6907, Training Accuracy: 53.08%\n",
      "[Epoch 16] Training Loss: 0.6913, Training Accuracy: 53.10%\n",
      "[Epoch 17] Training Loss: 0.6909, Training Accuracy: 53.02%\n",
      "[Epoch 18] Training Loss: 0.6910, Training Accuracy: 53.16%\n",
      "[Epoch 19] Training Loss: 0.6908, Training Accuracy: 53.22%\n",
      "[Epoch 20] Training Loss: 0.6910, Training Accuracy: 53.39%\n",
      "[Epoch 21] Training Loss: 0.6910, Training Accuracy: 52.99%\n",
      "[Epoch 22] Training Loss: 0.6912, Training Accuracy: 53.08%\n",
      "[Epoch 23] Training Loss: 0.6909, Training Accuracy: 53.25%\n",
      "[Epoch 24] Training Loss: 0.6904, Training Accuracy: 52.93%\n",
      "[Epoch 25] Training Loss: 0.6908, Training Accuracy: 53.25%\n",
      "[Epoch 26] Training Loss: 0.6906, Training Accuracy: 53.05%\n",
      "[Epoch 27] Training Loss: 0.6910, Training Accuracy: 53.36%\n",
      "[Epoch 28] Training Loss: 0.6909, Training Accuracy: 53.08%\n",
      "[Epoch 29] Training Loss: 0.6907, Training Accuracy: 53.13%\n",
      "[Epoch 30] Training Loss: 0.6908, Training Accuracy: 53.16%\n",
      "[Epoch 31] Training Loss: 0.6906, Training Accuracy: 53.33%\n",
      "[Epoch 32] Training Loss: 0.6907, Training Accuracy: 52.99%\n",
      "[Epoch 33] Training Loss: 0.6907, Training Accuracy: 53.10%\n",
      "[Epoch 34] Training Loss: 0.6909, Training Accuracy: 53.16%\n",
      "[Epoch 35] Training Loss: 0.6906, Training Accuracy: 52.82%\n",
      "[Epoch 36] Training Loss: 0.6907, Training Accuracy: 53.39%\n",
      "[Epoch 37] Training Loss: 0.6909, Training Accuracy: 53.10%\n",
      "[Epoch 38] Training Loss: 0.6909, Training Accuracy: 53.27%\n",
      "[Epoch 39] Training Loss: 0.6905, Training Accuracy: 53.30%\n",
      "[Epoch 40] Training Loss: 0.6907, Training Accuracy: 53.05%\n",
      "[Epoch 41] Training Loss: 0.6908, Training Accuracy: 52.71%\n",
      "[Epoch 42] Training Loss: 0.6908, Training Accuracy: 52.93%\n",
      "[Epoch 43] Training Loss: 0.6909, Training Accuracy: 53.16%\n",
      "[Epoch 44] Training Loss: 0.6909, Training Accuracy: 53.16%\n",
      "[Epoch 45] Training Loss: 0.6904, Training Accuracy: 53.30%\n",
      "[Epoch 46] Training Loss: 0.6907, Training Accuracy: 52.96%\n",
      "[Epoch 47] Training Loss: 0.6906, Training Accuracy: 53.08%\n",
      "[Epoch 48] Training Loss: 0.6906, Training Accuracy: 53.44%\n",
      "[Epoch 49] Training Loss: 0.6904, Training Accuracy: 52.82%\n",
      "[Epoch 50] Training Loss: 0.6906, Training Accuracy: 52.91%\n",
      "[Epoch 51] Training Loss: 0.6911, Training Accuracy: 53.19%\n",
      "[Epoch 52] Training Loss: 0.6904, Training Accuracy: 53.27%\n",
      "[Epoch 53] Training Loss: 0.6908, Training Accuracy: 53.19%\n",
      "[Epoch 54] Training Loss: 0.6907, Training Accuracy: 53.53%\n",
      "[Epoch 55] Training Loss: 0.6905, Training Accuracy: 53.19%\n",
      "[Epoch 56] Training Loss: 0.6908, Training Accuracy: 53.08%\n",
      "[Epoch 57] Training Loss: 0.6905, Training Accuracy: 53.19%\n",
      "[Epoch 58] Training Loss: 0.6909, Training Accuracy: 52.91%\n",
      "[Epoch 59] Training Loss: 0.6905, Training Accuracy: 53.19%\n",
      "[Epoch 60] Training Loss: 0.6907, Training Accuracy: 53.10%\n",
      "[Epoch 61] Training Loss: 0.6906, Training Accuracy: 53.10%\n",
      "[Epoch 62] Training Loss: 0.6902, Training Accuracy: 53.67%\n",
      "[Epoch 63] Training Loss: 0.6906, Training Accuracy: 53.19%\n",
      "[Epoch 64] Training Loss: 0.6907, Training Accuracy: 53.42%\n",
      "[Epoch 65] Training Loss: 0.6907, Training Accuracy: 53.08%\n",
      "[Epoch 66] Training Loss: 0.6905, Training Accuracy: 53.22%\n",
      "[Epoch 67] Training Loss: 0.6903, Training Accuracy: 53.30%\n",
      "[Epoch 68] Training Loss: 0.6905, Training Accuracy: 53.56%\n",
      "[Epoch 69] Training Loss: 0.6903, Training Accuracy: 53.27%\n",
      "[Epoch 70] Training Loss: 0.6903, Training Accuracy: 53.76%\n",
      "[Epoch 71] Training Loss: 0.6903, Training Accuracy: 53.50%\n",
      "[Epoch 72] Training Loss: 0.6896, Training Accuracy: 53.25%\n",
      "[Epoch 73] Training Loss: 0.6900, Training Accuracy: 53.39%\n",
      "[Epoch 74] Training Loss: 0.6899, Training Accuracy: 53.47%\n",
      "[Epoch 75] Training Loss: 0.6903, Training Accuracy: 53.44%\n",
      "[Epoch 76] Training Loss: 0.6901, Training Accuracy: 52.91%\n",
      "[Epoch 77] Training Loss: 0.6901, Training Accuracy: 53.36%\n",
      "[Epoch 78] Training Loss: 0.6901, Training Accuracy: 53.44%\n",
      "[Epoch 79] Training Loss: 0.6905, Training Accuracy: 53.50%\n",
      "[Epoch 80] Training Loss: 0.6894, Training Accuracy: 53.64%\n",
      "[Epoch 81] Training Loss: 0.6903, Training Accuracy: 53.44%\n",
      "[Epoch 82] Training Loss: 0.6901, Training Accuracy: 53.27%\n",
      "[Epoch 83] Training Loss: 0.6894, Training Accuracy: 53.50%\n",
      "[Epoch 84] Training Loss: 0.6893, Training Accuracy: 53.81%\n",
      "[Epoch 85] Training Loss: 0.6897, Training Accuracy: 53.59%\n",
      "[Epoch 86] Training Loss: 0.6899, Training Accuracy: 53.39%\n",
      "[Epoch 87] Training Loss: 0.6894, Training Accuracy: 53.59%\n",
      "[Epoch 88] Training Loss: 0.6899, Training Accuracy: 53.50%\n",
      "[Epoch 89] Training Loss: 0.6894, Training Accuracy: 53.64%\n",
      "[Epoch 90] Training Loss: 0.6895, Training Accuracy: 53.79%\n",
      "[Epoch 91] Training Loss: 0.6895, Training Accuracy: 53.67%\n",
      "[Epoch 92] Training Loss: 0.6889, Training Accuracy: 52.91%\n",
      "[Epoch 93] Training Loss: 0.6893, Training Accuracy: 53.56%\n",
      "[Epoch 94] Training Loss: 0.6884, Training Accuracy: 53.61%\n",
      "[Epoch 95] Training Loss: 0.6892, Training Accuracy: 53.36%\n",
      "[Epoch 96] Training Loss: 0.6890, Training Accuracy: 53.70%\n",
      "[Epoch 97] Training Loss: 0.6891, Training Accuracy: 53.42%\n",
      "[Epoch 98] Training Loss: 0.6890, Training Accuracy: 53.87%\n",
      "[Epoch 99] Training Loss: 0.6888, Training Accuracy: 53.98%\n",
      "[Epoch 100] Training Loss: 0.6885, Training Accuracy: 54.01%\n"
     ]
    },
    {
     "data": {
      "text/html": [],
      "text/plain": [
       "<IPython.core.display.HTML object>"
      ]
     },
     "metadata": {},
     "output_type": "display_data"
    },
    {
     "data": {
      "text/html": [
       "<br>    <style><br>        .wandb-row {<br>            display: flex;<br>            flex-direction: row;<br>            flex-wrap: wrap;<br>            justify-content: flex-start;<br>            width: 100%;<br>        }<br>        .wandb-col {<br>            display: flex;<br>            flex-direction: column;<br>            flex-basis: 100%;<br>            flex: 1;<br>            padding: 10px;<br>        }<br>    </style><br><div class=\"wandb-row\"><div class=\"wandb-col\"><h3>Run history:</h3><br/><table class=\"wandb\"><tr><td>epoch</td><td>▁▁▁▁▂▂▂▂▂▃▃▃▃▃▃▄▄▄▄▄▅▅▅▅▅▅▆▆▆▆▆▇▇▇▇▇▇███</td></tr><tr><td>train_accuracy</td><td>▁▆▅▅▅▇▆▆▅▆▅▅▆▆▆▆▅▆▅▅▆▇▅▆▆▆▆▆▆▇▆▇▆▇▇▇▅▇▆█</td></tr><tr><td>train_loss</td><td>█▅▅▆▆▅▆▆▅▅▅▅▅▅▅▅▅▅▅▄▆▅▅▅▅▅▄▄▃▄▄▅▄▃▃▃▂▁▂▁</td></tr></table><br/></div><div class=\"wandb-col\"><h3>Run summary:</h3><br/><table class=\"wandb\"><tr><td>epoch</td><td>100</td></tr><tr><td>train_accuracy</td><td>54.01191</td></tr><tr><td>train_loss</td><td>0.68846</td></tr></table><br/></div></div>"
      ],
      "text/plain": [
       "<IPython.core.display.HTML object>"
      ]
     },
     "metadata": {},
     "output_type": "display_data"
    },
    {
     "data": {
      "text/html": [
       " View run <strong style=\"color:#cdcd00\">Run_2024-12-20_11-48-34_LR0.0001_WD1e-06_Batch32</strong> at: <a href='https://wandb.ai/-ddj127-korea-university-of-technology-and-education/lstm_classification_btc_krw/runs/rh3wohh4' target=\"_blank\">https://wandb.ai/-ddj127-korea-university-of-technology-and-education/lstm_classification_btc_krw/runs/rh3wohh4</a><br> View project at: <a href='https://wandb.ai/-ddj127-korea-university-of-technology-and-education/lstm_classification_btc_krw' target=\"_blank\">https://wandb.ai/-ddj127-korea-university-of-technology-and-education/lstm_classification_btc_krw</a><br>Synced 5 W&B file(s), 0 media file(s), 0 artifact file(s) and 0 other file(s)"
      ],
      "text/plain": [
       "<IPython.core.display.HTML object>"
      ]
     },
     "metadata": {},
     "output_type": "display_data"
    },
    {
     "data": {
      "text/html": [
       "Find logs at: <code>./wandb/run-20241220_114834-rh3wohh4/logs</code>"
      ],
      "text/plain": [
       "<IPython.core.display.HTML object>"
      ]
     },
     "metadata": {},
     "output_type": "display_data"
    }
   ],
   "source": [
    "from torch import nn, optim\n",
    "from datetime import datetime\n",
    "import os\n",
    "import wandb\n",
    "from pathlib import Path\n",
    "import torch\n",
    "import sys  # sys 모듈 추가 (sys.path.append 사용을 위함)\n",
    "\n",
    "# Jupyter Notebook 환경에서 경로를 동적으로 설정\n",
    "CURRENT_DIR = Path(os.getcwd()).resolve()        # 현재 작업 디렉토리의 절대 경로를 가져옴\n",
    "BASE_PATH = CURRENT_DIR                          # 스크립트가 원하는 디렉토리에서 동작한다고 가정\n",
    "sys.path.append(str(BASE_PATH))                  # Python 모듈 탐색 경로에 BASE_PATH 추가\n",
    "\n",
    "CHECKPOINT_FILE_PATH = CURRENT_DIR / \"checkpoints\"   # 체크포인트를 저장할 디렉토리 경로 설정\n",
    "CHECKPOINT_FILE_PATH.mkdir(parents=True, exist_ok=True)  # 디렉토리 없으면 생성\n",
    "\n",
    "# 필요한 모듈 임포트 (디렉토리 구조에 따라 경로가 맞는지 확인 필요)\n",
    "from c_trainer import ClassificationTrainer  # 커스텀 트레이너 클래스\n",
    "from f_arg_parser import get_parser           # 커스텀 아규먼트 파서 함수\n",
    "from g_crypto_currency_regression_train_lstm import get_btc_krw_data  # BTC/KRW 데이터 로드 함수\n",
    "\n",
    "# LSTM 모델을 정의하는 함수 (분류용)\n",
    "def get_model(n_input=5, n_output=2, hidden_size=256, num_layers=3):\n",
    "    \"\"\"LSTM 기반 분류 모델 정의 함수.\n",
    "    인풋 차원 수(n_input), 출력 차원 수(n_output), LSTM hidden size, LSTM 계층 수(num_layers)를 파라미터로 받는다.\n",
    "    \"\"\"\n",
    "    class MyModel(nn.Module):\n",
    "        def __init__(self, n_input, n_output, hidden_size, num_layers):\n",
    "            super().__init__()\n",
    "            # LSTM 레이어 정의\n",
    "            self.lstm = nn.LSTM(\n",
    "                input_size=n_input,      # 입력 특성 수\n",
    "                hidden_size=hidden_size, # LSTM 은닉층 차원\n",
    "                num_layers=num_layers,   # LSTM 레이어(스택) 수\n",
    "                batch_first=True         # 입력 텐서의 첫 번째 차원이 배치 사이즈인지 여부\n",
    "            )\n",
    "            # 완전연결층 정의\n",
    "            self.fcn = nn.Linear(in_features=hidden_size, out_features=n_output)\n",
    "\n",
    "        def forward(self, x):\n",
    "            # LSTM에 입력 x를 통과시킴\n",
    "            x, _ = self.lstm(x) \n",
    "            x = x[:, -1, :]     # 시퀀스 마지막 타임스텝의 은닉상태 출력만 사용\n",
    "            x = self.fcn(x)     # 마지막 은닉상태를 FCN을 통해 최종 예측 출력\n",
    "            return x\n",
    "\n",
    "    return MyModel(n_input=n_input, n_output=n_output, hidden_size=hidden_size, num_layers=num_layers)\n",
    "\n",
    "\n",
    "class ClassificationTrainer:\n",
    "    def __init__(self, project_name, model, optimizer, train_loader, val_loader, criterion,\n",
    "                 run_time_str, wandb, device, checkpoint_dir):\n",
    "        \"\"\"\n",
    "        분류용 학습 트레이너 클래스 초기화 함수.\n",
    "        Args:\n",
    "            project_name (str): 프로젝트 명\n",
    "            model (nn.Module): 학습할 모델\n",
    "            optimizer (torch.optim.Optimizer): 최적화 알고리즘\n",
    "            train_loader (DataLoader): 학습용 데이터 로더\n",
    "            val_loader (DataLoader): 검증용 데이터 로더\n",
    "            criterion (nn.Module): 손실 함수 (크로스 엔트로피)\n",
    "            run_time_str (str): 실행 시간 문자열(로그 남길 때 사용)\n",
    "            wandb (module): Weights & Biases 로깅 모듈\n",
    "            device (torch.device): 연산 장치 (CPU/GPU)\n",
    "            checkpoint_dir (Path): 체크포인트 저장 디렉토리\n",
    "        \"\"\"\n",
    "        self.project_name = project_name\n",
    "        self.model = model\n",
    "        self.optimizer = optimizer\n",
    "        self.train_loader = train_loader\n",
    "        self.val_loader = val_loader\n",
    "        self.criterion = criterion\n",
    "        self.device = device\n",
    "        self.wandb = wandb\n",
    "        self.checkpoint_dir = checkpoint_dir\n",
    "\n",
    "    def train_loop(self, num_epochs):\n",
    "        \"\"\"학습 및 검증 루프.\n",
    "        Args:\n",
    "            num_epochs (int): 학습할 epoch 수\n",
    "        \"\"\"\n",
    "        for epoch in range(1, num_epochs + 1):\n",
    "            # Training 모드로 전환\n",
    "            self.model.train()\n",
    "\n",
    "            total_loss = 0\n",
    "            total_correct = 0\n",
    "            total_samples = 0\n",
    "\n",
    "            # 학습용 데이터 로딩\n",
    "            for inputs, targets in self.train_loader:\n",
    "                inputs, targets = inputs.to(self.device), targets.to(self.device).long()  # targets를 long 타입으로\n",
    "                self.optimizer.zero_grad()  # 옵티마이저 그래디언트 초기화\n",
    "                outputs = self.model(inputs)  # 모델 순전파\n",
    "                loss = self.criterion(outputs, targets)  # 손실 함수 계산\n",
    "                loss.backward()               # 역전파\n",
    "                self.optimizer.step()         # 파라미터 업데이트\n",
    "                total_loss += loss.item()     # 전체 손실 축적\n",
    "\n",
    "                # 정확도 계산\n",
    "                preds = torch.argmax(outputs, dim=1)             # 가장 높은 확률의 클래스 인덱스 선택\n",
    "                total_correct += (preds == targets).sum().item() # 정답과 일치하는 개수\n",
    "                total_samples += targets.size(0)                 # 총 샘플 수\n",
    "\n",
    "            # Epoch 당 평균 손실 및 정확도 계산\n",
    "            train_accuracy = total_correct / total_samples * 100\n",
    "            avg_loss = total_loss / len(self.train_loader)\n",
    "            print(f\"[Epoch {epoch}] Training Loss: {avg_loss:.4f}, Training Accuracy: {train_accuracy:.2f}%\")\n",
    "\n",
    "            # WandB에 메트릭 로깅\n",
    "            self.wandb.log({\"epoch\": epoch, \"train_loss\": avg_loss, \"train_accuracy\": train_accuracy})\n",
    "\n",
    "\n",
    "def main(config):\n",
    "    \"\"\"LSTM 분류 작업을 위한 메인 학습 루프.\n",
    "    Args:\n",
    "        config (dict): 하이퍼파라미터 및 설정 딕셔너리\n",
    "    \"\"\"\n",
    "    # 현재 시간(타임존 포함)으로 런타임 문자열 생성\n",
    "    run_time_str = datetime.now().astimezone().strftime('%Y-%m-%d_%H-%M-%S')\n",
    "\n",
    "    # WandB 초기화 (config[\"wandb\"] 값에 따라 online/disabled 모드)\n",
    "    wandb.init(\n",
    "        mode=\"online\" if config[\"wandb\"] else \"disabled\",\n",
    "        project=config[\"project_name\"],\n",
    "        name=f\"Run_{run_time_str}_LR{config['learning_rate']}_WD{config['weight_decay']}_Batch{config['batch_size']}\",\n",
    "        tags=[\"lstm\", \"classification\", \"btc_krw\"],\n",
    "        config=config\n",
    "    )\n",
    "\n",
    "    # 디바이스 설정 (GPU 사용 가능 시 GPU, 아니면 CPU)\n",
    "    device = torch.device(\"cuda:0\" if torch.cuda.is_available() else \"cpu\")\n",
    "    print(f\"Training on device {device}.\")\n",
    "\n",
    "    # 데이터 로드 (BTC/KRW 데이터셋, 시퀀스 사이즈와 검증/테스트 사이즈 지정)\n",
    "    train_data_loader, validation_data_loader, _ = get_btc_krw_data(\n",
    "        sequence_size=21,\n",
    "        validation_size=150,\n",
    "        test_size=30,\n",
    "        is_regression=False  # 분류 모드\n",
    "    )\n",
    "\n",
    "    # 모델, 손실 함수, 옵티마이저 초기화\n",
    "    model = get_model()  # 기본 파라미터(n_input=5, n_output=2, hidden_size=256, num_layers=3)\n",
    "    model.to(device)\n",
    "    criterion = nn.CrossEntropyLoss()  # 크로스 엔트로피 손실 (분류용)\n",
    "    optimizer = optim.Adam(model.parameters(), lr=config[\"learning_rate\"], weight_decay=config[\"weight_decay\"])\n",
    "\n",
    "    # 트레이너 객체 초기화\n",
    "    classification_trainer = ClassificationTrainer(\n",
    "        config[\"project_name\"], model, optimizer, train_data_loader, validation_data_loader, criterion,\n",
    "        run_time_str, wandb, device, CHECKPOINT_FILE_PATH\n",
    "    )\n",
    "\n",
    "    # 설정된 epoch 수만큼 학습 루프 실행\n",
    "    classification_trainer.train_loop(config[\"epochs\"])\n",
    "\n",
    "    # WandB 종료\n",
    "    wandb.finish()\n",
    "\n",
    "\n",
    "# 하이퍼 파라미터 및 설정 딕셔너리\n",
    "config = {\n",
    "    \"epochs\": 100,                # 학습할 epoch 수\n",
    "    \"batch_size\": 32,             # 배치 크기\n",
    "    \"validation_intervals\": 2,    # 검증 간격(본 코드에서는 사용되지 않은 듯)\n",
    "    \"learning_rate\": 0.0001,      # 학습률\n",
    "    \"early_stop_patience\": 10,    # Early Stopping patience (코드상 구현되지 않음)\n",
    "    \"early_stop_delta\": 0.001,    # Early Stopping delta (코드상 구현되지 않음)\n",
    "    \"weight_decay\": 1e-6,         # 가중치 감쇠(weight decay)\n",
    "    \"wandb\": True,                # WandB 사용 여부\n",
    "    \"project_name\": \"lstm_classification_btc_krw\"  # 프로젝트명\n",
    "}\n",
    "\n",
    "# 메인 함수 실행\n",
    "main(config)\n"
   ]
  },
  {
   "cell_type": "markdown",
   "id": "bc866695",
   "metadata": {},
   "source": [
    "### 2-2 Classification test"
   ]
  },
  {
   "cell_type": "code",
   "execution_count": 10,
   "id": "8e4618c0",
   "metadata": {},
   "outputs": [
    {
     "name": "stdout",
     "output_type": "stream",
     "text": [
      "Testing on device: cuda:0\n",
      "MODEL FILE: /home/work/HW4/checkpoints/lstm_classification_btc_krw_checkpoint_latest.pt\n",
      "[TEST DATA]\n",
      "TEST RESULTS: Accuracy = 46.667%\n",
      "Final Test Accuracy: 46.667%\n"
     ]
    }
   ],
   "source": [
    "import os\n",
    "from pathlib import Path\n",
    "from datetime import datetime\n",
    "import torch\n",
    "import wandb\n",
    "import sys\n",
    "from torch import nn\n",
    "\n",
    "# 현재 Jupyter Notebook 환경에 맞추어 작업 디렉토리 및 경로 설정\n",
    "CURRENT_FILE_PATH = Path(os.getcwd()).resolve()\n",
    "BASE_PATH = CURRENT_FILE_PATH\n",
    "CHECKPOINT_FILE_PATH = CURRENT_FILE_PATH / \"checkpoints\"\n",
    "CHECKPOINT_FILE_PATH.mkdir(parents=True, exist_ok=True)\n",
    "\n",
    "# BASE_PATH를 sys.path에 추가하여 필요한 모듈 탐색 경로로 설정\n",
    "sys.path.append(str(BASE_PATH))\n",
    "\n",
    "# 필요한 모듈 임포트\n",
    "# g_crypto_currency_regression_train_lstm.py는 동일 디렉토리(또는 BASE_PATH 내)에 있다고 가정\n",
    "from g_crypto_currency_regression_train_lstm import get_btc_krw_data\n",
    "\n",
    "def get_model(n_input=5, n_output=2, hidden_size=512, num_layers=3):\n",
    "    \"\"\"\n",
    "    LSTM 기반 분류 모델을 정의하는 함수.\n",
    "    \n",
    "    Args:\n",
    "        n_input (int): 입력 특성(feature) 수\n",
    "        n_output (int): 출력 클래스 수\n",
    "        hidden_size (int): LSTM의 은닉 상태 크기\n",
    "        num_layers (int): LSTM 레이어 수\n",
    "    \n",
    "    Returns:\n",
    "        nn.Module: 정의된 모델 인스턴스\n",
    "    \"\"\"\n",
    "    class MyModel(nn.Module):\n",
    "        def __init__(self, n_input, n_output, hidden_size, num_layers):\n",
    "            super().__init__()\n",
    "            # LSTM 레이어 정의\n",
    "            self.lstm = nn.LSTM(\n",
    "                input_size=n_input,\n",
    "                hidden_size=hidden_size,\n",
    "                num_layers=num_layers,\n",
    "                batch_first=True\n",
    "            )\n",
    "            # LSTM의 마지막 타임스텝 은닉 상태를 Fully Connected Layer를 통해 클래스 로짓으로 변환\n",
    "            self.fcn = nn.Linear(in_features=hidden_size, out_features=n_output)\n",
    "\n",
    "        def forward(self, x):\n",
    "            # x: (batch, sequence, features)\n",
    "            x, _ = self.lstm(x)\n",
    "            x = x[:, -1, :]  # 마지막 타임스텝 출력 사용\n",
    "            x = self.fcn(x)  # FC 레이어 거쳐 로짓 출력\n",
    "            return x\n",
    "\n",
    "    return MyModel(n_input=n_input, n_output=n_output, hidden_size=hidden_size, num_layers=num_layers)\n",
    "\n",
    "\n",
    "def test(test_model, test_loader, device):\n",
    "    \"\"\"\n",
    "    테스트 데이터로 모델 성능을 평가하는 함수.\n",
    "    정확도(%)를 계산하고 결과를 출력한다.\n",
    "    \n",
    "    Args:\n",
    "        test_model (nn.Module): 테스트할 모델 인스턴스\n",
    "        test_loader (DataLoader): 테스트 데이터 로더\n",
    "        device (torch.device): CPU 또는 GPU 디바이스\n",
    "    \"\"\"\n",
    "    test_model.eval()  # 모델 평가 모드 설정\n",
    "    num_corrects_test = 0\n",
    "    num_tested_samples = 0\n",
    "\n",
    "    print(\"[TEST DATA]\")\n",
    "    with torch.no_grad():  # 테스트 시 그래디언트 계산 비활성화\n",
    "        for inputs, targets in test_loader:\n",
    "            inputs, targets = inputs.to(device), targets.to(device).long()\n",
    "\n",
    "            # 모델 추론\n",
    "            outputs = test_model(inputs)\n",
    "            predicted = torch.argmax(outputs, dim=1)\n",
    "            \n",
    "            # 정확도 계산\n",
    "            num_corrects_test += (predicted == targets).sum().item()\n",
    "            num_tested_samples += targets.size(0)\n",
    "\n",
    "        test_accuracy = 100.0 * num_corrects_test / num_tested_samples\n",
    "        print(f\"TEST RESULTS: Accuracy = {test_accuracy:.3f}%\")\n",
    "        return test_accuracy\n",
    "\n",
    "\n",
    "def main(config):\n",
    "    \"\"\"\n",
    "    메인 테스트 함수:\n",
    "    1. WandB 초기화(테스트용으로 disabled)\n",
    "    2. GPU/CPU 디바이스 설정\n",
    "    3. 테스트 데이터 로드\n",
    "    4. 학습 시 사용한 모델 설정대로 모델 로드\n",
    "    5. 체크포인트에서 모델 파라미터 로드\n",
    "    6. 테스트 진행 및 결과 출력\n",
    "    \n",
    "    Args:\n",
    "        config (dict): 테스트 및 모델 설정 관련 파라미터 딕셔너리\n",
    "    \"\"\"\n",
    "    run_time_str = datetime.now().astimezone().strftime('%Y-%m-%d_%H-%M-%S')\n",
    "\n",
    "    # WandB 초기화 (테스트용으로 disabled)\n",
    "    wandb.init(\n",
    "        mode=\"disabled\",\n",
    "        project=config[\"project_name\"],\n",
    "        notes=\"btc_krw experiment with lstm\",\n",
    "        tags=[\"lstm\", \"classification\", \"btc_krw\"],\n",
    "        name=run_time_str,\n",
    "        config=config\n",
    "    )\n",
    "\n",
    "    # 디바이스 설정\n",
    "    device = torch.device(\"cuda:0\" if torch.cuda.is_available() else \"cpu\")\n",
    "    print(f\"Testing on device: {device}\")\n",
    "\n",
    "    # 테스트 데이터 로드 (is_regression=False -> 분류용 데이터)\n",
    "    _, _, test_loader = get_btc_krw_data(\n",
    "        sequence_size=config[\"sequence_size\"],\n",
    "        validation_size=config[\"validation_size\"],\n",
    "        test_size=config[\"test_size\"],\n",
    "        is_regression=False\n",
    "    )\n",
    "\n",
    "    # 모델 초기화 (훈련 시 설정과 동일)\n",
    "    test_model = get_model(\n",
    "        n_input=5,\n",
    "        n_output=2,\n",
    "        hidden_size=config[\"hidden_size\"],\n",
    "        num_layers=config[\"lstm_layers\"]\n",
    "    )\n",
    "    test_model.to(device)\n",
    "\n",
    "    # 모델 파라미터 로드 (마지막 체크포인트)\n",
    "    latest_file_path = CHECKPOINT_FILE_PATH / f\"{config['project_name']}_checkpoint_latest.pt\"\n",
    "    print(f\"MODEL FILE: {latest_file_path}\")\n",
    "\n",
    "    checkpoint = torch.load(latest_file_path, map_location=device)\n",
    "\n",
    "    # 만약 학습 시 FC 레이어 이름이 다르거나 키 변환 필요시 여기서 처리\n",
    "    model_state = {k.replace(\"fc.\", \"fcn.\"): v for k, v in checkpoint.items()}\n",
    "    test_model.load_state_dict(model_state, strict=False)\n",
    "\n",
    "    # 테스트 진행\n",
    "    test_accuracy = test(test_model, test_loader, device)\n",
    "    print(f\"Final Test Accuracy: {test_accuracy:.3f}%\")\n",
    "\n",
    "    # WandB 종료\n",
    "    wandb.finish()\n",
    "\n",
    "\n",
    "# 설정 딕셔너리 (훈련 때 사용한 파라미터와 일치하게)\n",
    "config = {\n",
    "    \"epochs\": 100,\n",
    "    \"batch_size\": 32,\n",
    "    \"validation_intervals\": 2,\n",
    "    \"learning_rate\": 0.0001,\n",
    "    \"early_stop_patience\": 10,\n",
    "    \"early_stop_delta\": 0.001,\n",
    "    \"weight_decay\": 1e-6,\n",
    "    \"hidden_size\": 512,        # 학습 시 사용한 hidden_size\n",
    "    \"lstm_layers\": 3,          # 학습 시 사용한 LSTM 레이어 수\n",
    "    \"sequence_size\": 21,       # 학습 시 사용한 시퀀스 길이\n",
    "    \"validation_size\": 150,    # 학습 시 사용한 검증 데이터 크기\n",
    "    \"test_size\": 30,           # 학습 시 사용한 테스트 데이터 크기\n",
    "    \"wandb\": True,\n",
    "    \"project_name\": \"lstm_classification_btc_krw\"\n",
    "}\n",
    "\n",
    "# Jupyter Notebook 환경에서 메인 함수 호출\n",
    "main(config)\n"
   ]
  },
  {
   "cell_type": "markdown",
   "id": "be160ba0",
   "metadata": {},
   "source": [
    "Wandb URL #3 (Regression) & : https://wandb.ai/-ddj127-korea-university-of-technology-and-education/lstm_classification_btc_krw/runs/9vacwbpz\n",
    "Wandb URL #4 (Classification)  : https://wandb.ai/-ddj127-korea-university-of-technology-and-education/lstm_classification_btc_krw"
   ]
  },
  {
   "cell_type": "markdown",
   "id": "000613a7",
   "metadata": {},
   "source": [
    "### 문제 3-1"
   ]
  },
  {
   "cell_type": "code",
   "execution_count": 1,
   "id": "0d3bb0bb",
   "metadata": {},
   "outputs": [
    {
     "name": "stdout",
     "output_type": "stream",
     "text": [
      "Defaulting to user installation because normal site-packages is not writeable\n",
      "Looking in indexes: https://pypi.org/simple, https://pypi.ngc.nvidia.com\n",
      "Requirement already satisfied: wandb in /home/work/.local/lib/python3.10/site-packages (0.19.1)\n",
      "Requirement already satisfied: click!=8.0.0,>=7.1 in /usr/local/lib/python3.10/dist-packages (from wandb) (8.1.7)\n",
      "Requirement already satisfied: docker-pycreds>=0.4.0 in /home/work/.local/lib/python3.10/site-packages (from wandb) (0.4.0)\n",
      "Requirement already satisfied: gitpython!=3.1.29,>=1.0.0 in /usr/local/lib/python3.10/dist-packages (from wandb) (3.1.26)\n",
      "Requirement already satisfied: platformdirs in /usr/local/lib/python3.10/dist-packages (from wandb) (4.2.0)\n",
      "Requirement already satisfied: protobuf!=4.21.0,!=5.28.0,<6,>=3.19.0 in /usr/local/lib/python3.10/dist-packages (from wandb) (3.20.3)\n",
      "Requirement already satisfied: psutil>=5.0.0 in /usr/local/lib/python3.10/dist-packages (from wandb) (5.9.4)\n",
      "Requirement already satisfied: pydantic<3,>=2.6 in /usr/local/lib/python3.10/dist-packages (from wandb) (2.6.3)\n",
      "Requirement already satisfied: pyyaml in /usr/local/lib/python3.10/dist-packages (from wandb) (6.0.1)\n",
      "Requirement already satisfied: requests<3,>=2.0.0 in /usr/local/lib/python3.10/dist-packages (from wandb) (2.31.0)\n",
      "Requirement already satisfied: sentry-sdk>=2.0.0 in /home/work/.local/lib/python3.10/site-packages (from wandb) (2.19.2)\n",
      "Requirement already satisfied: setproctitle in /home/work/.local/lib/python3.10/site-packages (from wandb) (1.3.4)\n",
      "Requirement already satisfied: setuptools in /usr/local/lib/python3.10/dist-packages (from wandb) (68.2.2)\n",
      "Requirement already satisfied: typing-extensions<5,>=4.4 in /usr/local/lib/python3.10/dist-packages (from wandb) (4.10.0)\n",
      "Requirement already satisfied: six>=1.4.0 in /usr/local/lib/python3.10/dist-packages (from docker-pycreds>=0.4.0->wandb) (1.16.0)\n",
      "Requirement already satisfied: gitdb<5,>=4.0.1 in /usr/local/lib/python3.10/dist-packages (from gitpython!=3.1.29,>=1.0.0->wandb) (4.0.5)\n",
      "Requirement already satisfied: annotated-types>=0.4.0 in /usr/local/lib/python3.10/dist-packages (from pydantic<3,>=2.6->wandb) (0.6.0)\n",
      "Requirement already satisfied: pydantic-core==2.16.3 in /usr/local/lib/python3.10/dist-packages (from pydantic<3,>=2.6->wandb) (2.16.3)\n",
      "Requirement already satisfied: charset-normalizer<4,>=2 in /usr/local/lib/python3.10/dist-packages (from requests<3,>=2.0.0->wandb) (3.3.2)\n",
      "Requirement already satisfied: idna<4,>=2.5 in /usr/local/lib/python3.10/dist-packages (from requests<3,>=2.0.0->wandb) (3.6)\n",
      "Requirement already satisfied: urllib3<3,>=1.21.1 in /usr/local/lib/python3.10/dist-packages (from requests<3,>=2.0.0->wandb) (1.26.18)\n",
      "Requirement already satisfied: certifi>=2017.4.17 in /usr/local/lib/python3.10/dist-packages (from requests<3,>=2.0.0->wandb) (2024.2.2)\n",
      "Requirement already satisfied: smmap<4,>=3.0.1 in /usr/local/lib/python3.10/dist-packages (from gitdb<5,>=4.0.1->gitpython!=3.1.29,>=1.0.0->wandb) (3.0.5)\n",
      "\u001b[33mDEPRECATION: devscripts 2.22.1ubuntu1 has a non-standard version number. pip 24.1 will enforce this behaviour change. A possible replacement is to upgrade to a newer version of devscripts or contact the author to suggest that they release a version with a conforming version number. Discussion can be found at https://github.com/pypa/pip/issues/12063\u001b[0m\u001b[33m\n",
      "\u001b[0m\n",
      "\u001b[1m[\u001b[0m\u001b[34;49mnotice\u001b[0m\u001b[1;39;49m]\u001b[0m\u001b[39;49m A new release of pip is available: \u001b[0m\u001b[31;49m24.0\u001b[0m\u001b[39;49m -> \u001b[0m\u001b[32;49m24.3.1\u001b[0m\n",
      "\u001b[1m[\u001b[0m\u001b[34;49mnotice\u001b[0m\u001b[1;39;49m]\u001b[0m\u001b[39;49m To update, run: \u001b[0m\u001b[32;49mpython3 -m pip install --upgrade pip\u001b[0m\n",
      "Note: you may need to restart the kernel to use updated packages.\n"
     ]
    }
   ],
   "source": [
    "pip install --upgrade wandb"
   ]
  },
  {
   "cell_type": "code",
   "execution_count": 2,
   "id": "e7aaf073",
   "metadata": {},
   "outputs": [
    {
     "name": "stderr",
     "output_type": "stream",
     "text": [
      "\u001b[34m\u001b[1mwandb\u001b[0m: Using wandb-core as the SDK backend.  Please refer to https://wandb.me/wandb-core for more information.\n",
      "\u001b[34m\u001b[1mwandb\u001b[0m: Logging into wandb.ai. (Learn how to deploy a W&B server locally: https://wandb.me/wandb-server)\n",
      "\u001b[34m\u001b[1mwandb\u001b[0m: You can find your API key in your browser here: https://wandb.ai/authorize\n",
      "\u001b[34m\u001b[1mwandb\u001b[0m: Paste an API key from your profile and hit enter, or press ctrl+c to quit:"
     ]
    },
    {
     "name": "stdout",
     "output_type": "stream",
     "text": [
      " ········\n"
     ]
    },
    {
     "name": "stderr",
     "output_type": "stream",
     "text": [
      "\u001b[34m\u001b[1mwandb\u001b[0m: Appending key for api.wandb.ai to your netrc file: /home/work/.netrc\n"
     ]
    },
    {
     "data": {
      "text/plain": [
       "True"
      ]
     },
     "execution_count": 2,
     "metadata": {},
     "output_type": "execute_result"
    }
   ],
   "source": [
    "import wandb\n",
    "\n",
    "wandb.login()"
   ]
  },
  {
   "cell_type": "code",
   "execution_count": 4,
   "id": "928c7afd",
   "metadata": {},
   "outputs": [
    {
     "name": "stderr",
     "output_type": "stream",
     "text": [
      "/usr/local/lib/python3.10/dist-packages/pydantic/main.py:314: UserWarning: Pydantic serializer warnings:\n",
      "  Expected `list[str]` but got `tuple` - serialized value may not be as expected\n",
      "  return self.__pydantic_serializer__.to_python(\n"
     ]
    },
    {
     "data": {
      "text/html": [
       "Tracking run with wandb version 0.19.1"
      ],
      "text/plain": [
       "<IPython.core.display.HTML object>"
      ]
     },
     "metadata": {},
     "output_type": "display_data"
    },
    {
     "data": {
      "text/html": [
       "Run data is saved locally in <code>/home/work/HW4/wandb/run-20241220_122745-6dhq9s00</code>"
      ],
      "text/plain": [
       "<IPython.core.display.HTML object>"
      ]
     },
     "metadata": {},
     "output_type": "display_data"
    },
    {
     "data": {
      "text/html": [
       "Syncing run <strong><a href='https://wandb.ai/-ddj127-korea-university-of-technology-and-education/lstm_classification_with_features/runs/6dhq9s00' target=\"_blank\">Run_2024-12-20_12-27-45_LR0.0001_WD1e-06_Features</a></strong> to <a href='https://wandb.ai/-ddj127-korea-university-of-technology-and-education/lstm_classification_with_features' target=\"_blank\">Weights & Biases</a> (<a href='https://wandb.me/developer-guide' target=\"_blank\">docs</a>)<br>"
      ],
      "text/plain": [
       "<IPython.core.display.HTML object>"
      ]
     },
     "metadata": {},
     "output_type": "display_data"
    },
    {
     "data": {
      "text/html": [
       " View project at <a href='https://wandb.ai/-ddj127-korea-university-of-technology-and-education/lstm_classification_with_features' target=\"_blank\">https://wandb.ai/-ddj127-korea-university-of-technology-and-education/lstm_classification_with_features</a>"
      ],
      "text/plain": [
       "<IPython.core.display.HTML object>"
      ]
     },
     "metadata": {},
     "output_type": "display_data"
    },
    {
     "data": {
      "text/html": [
       " View run at <a href='https://wandb.ai/-ddj127-korea-university-of-technology-and-education/lstm_classification_with_features/runs/6dhq9s00' target=\"_blank\">https://wandb.ai/-ddj127-korea-university-of-technology-and-education/lstm_classification_with_features/runs/6dhq9s00</a>"
      ],
      "text/plain": [
       "<IPython.core.display.HTML object>"
      ]
     },
     "metadata": {},
     "output_type": "display_data"
    },
    {
     "name": "stderr",
     "output_type": "stream",
     "text": [
      "/tmp/ipykernel_171/2048265017.py:31: UserWarning: To copy construct from a tensor, it is recommended to use sourceTensor.clone().detach() or sourceTensor.clone().detach().requires_grad_(True), rather than torch.tensor(sourceTensor).\n",
      "  return torch.tensor(self.X[idx], dtype=torch.float32), torch.tensor(self.y[idx], dtype=torch.long)\n"
     ]
    },
    {
     "name": "stdout",
     "output_type": "stream",
     "text": [
      "[Epoch 1] Train Loss: 0.6917, Train Accuracy: 50.48%, Validation Accuracy: 48.00%\n",
      "[Epoch 2] Train Loss: 0.6911, Train Accuracy: 52.84%, Validation Accuracy: 46.67%\n",
      "[Epoch 3] Train Loss: 0.6913, Train Accuracy: 53.46%, Validation Accuracy: 46.67%\n",
      "[Epoch 4] Train Loss: 0.6916, Train Accuracy: 52.81%, Validation Accuracy: 46.67%\n",
      "[Epoch 5] Train Loss: 0.6906, Train Accuracy: 52.98%, Validation Accuracy: 46.67%\n",
      "[Epoch 6] Train Loss: 0.6910, Train Accuracy: 53.07%, Validation Accuracy: 46.67%\n",
      "[Epoch 7] Train Loss: 0.6912, Train Accuracy: 52.95%, Validation Accuracy: 46.67%\n",
      "[Epoch 8] Train Loss: 0.6908, Train Accuracy: 53.32%, Validation Accuracy: 46.67%\n",
      "[Epoch 9] Train Loss: 0.6905, Train Accuracy: 53.15%, Validation Accuracy: 46.67%\n",
      "[Epoch 10] Train Loss: 0.6905, Train Accuracy: 53.38%, Validation Accuracy: 46.67%\n",
      "[Epoch 11] Train Loss: 0.6906, Train Accuracy: 53.41%, Validation Accuracy: 46.67%\n",
      "[Epoch 12] Train Loss: 0.6906, Train Accuracy: 53.15%, Validation Accuracy: 46.67%\n",
      "[Epoch 13] Train Loss: 0.6911, Train Accuracy: 53.32%, Validation Accuracy: 48.00%\n",
      "[Epoch 14] Train Loss: 0.6902, Train Accuracy: 53.01%, Validation Accuracy: 46.67%\n",
      "[Epoch 15] Train Loss: 0.6910, Train Accuracy: 53.15%, Validation Accuracy: 46.67%\n",
      "[Epoch 16] Train Loss: 0.6907, Train Accuracy: 53.18%, Validation Accuracy: 46.67%\n",
      "[Epoch 17] Train Loss: 0.6907, Train Accuracy: 53.12%, Validation Accuracy: 46.67%\n",
      "[Epoch 18] Train Loss: 0.6908, Train Accuracy: 53.12%, Validation Accuracy: 46.67%\n",
      "[Epoch 19] Train Loss: 0.6914, Train Accuracy: 53.27%, Validation Accuracy: 46.67%\n",
      "[Epoch 20] Train Loss: 0.6902, Train Accuracy: 52.98%, Validation Accuracy: 46.67%\n",
      "[Epoch 21] Train Loss: 0.6908, Train Accuracy: 52.92%, Validation Accuracy: 46.67%\n",
      "[Epoch 22] Train Loss: 0.6905, Train Accuracy: 53.09%, Validation Accuracy: 48.67%\n",
      "[Epoch 23] Train Loss: 0.6912, Train Accuracy: 53.04%, Validation Accuracy: 46.67%\n",
      "[Epoch 24] Train Loss: 0.6904, Train Accuracy: 53.04%, Validation Accuracy: 54.67%\n",
      "[Epoch 25] Train Loss: 0.6907, Train Accuracy: 53.09%, Validation Accuracy: 46.67%\n",
      "[Epoch 26] Train Loss: 0.6911, Train Accuracy: 52.95%, Validation Accuracy: 46.67%\n",
      "[Epoch 27] Train Loss: 0.6903, Train Accuracy: 53.04%, Validation Accuracy: 46.67%\n",
      "[Epoch 28] Train Loss: 0.6901, Train Accuracy: 53.07%, Validation Accuracy: 46.67%\n",
      "[Epoch 29] Train Loss: 0.6904, Train Accuracy: 52.95%, Validation Accuracy: 46.67%\n",
      "[Epoch 30] Train Loss: 0.6905, Train Accuracy: 52.87%, Validation Accuracy: 46.67%\n",
      "[Epoch 31] Train Loss: 0.6906, Train Accuracy: 53.27%, Validation Accuracy: 46.67%\n",
      "[Epoch 32] Train Loss: 0.6900, Train Accuracy: 53.01%, Validation Accuracy: 46.67%\n",
      "[Epoch 33] Train Loss: 0.6907, Train Accuracy: 53.09%, Validation Accuracy: 46.67%\n",
      "[Epoch 34] Train Loss: 0.6909, Train Accuracy: 53.09%, Validation Accuracy: 46.67%\n",
      "[Epoch 35] Train Loss: 0.6910, Train Accuracy: 53.09%, Validation Accuracy: 46.67%\n",
      "[Epoch 36] Train Loss: 0.6900, Train Accuracy: 53.29%, Validation Accuracy: 46.67%\n",
      "[Epoch 37] Train Loss: 0.6902, Train Accuracy: 53.04%, Validation Accuracy: 46.67%\n",
      "[Epoch 38] Train Loss: 0.6904, Train Accuracy: 53.01%, Validation Accuracy: 46.67%\n",
      "[Epoch 39] Train Loss: 0.6901, Train Accuracy: 53.12%, Validation Accuracy: 46.67%\n",
      "[Epoch 40] Train Loss: 0.6909, Train Accuracy: 53.12%, Validation Accuracy: 46.67%\n",
      "[Epoch 41] Train Loss: 0.6907, Train Accuracy: 53.12%, Validation Accuracy: 48.00%\n",
      "[Epoch 42] Train Loss: 0.6907, Train Accuracy: 52.95%, Validation Accuracy: 46.67%\n",
      "[Epoch 43] Train Loss: 0.6906, Train Accuracy: 53.07%, Validation Accuracy: 46.67%\n",
      "[Epoch 44] Train Loss: 0.6908, Train Accuracy: 53.24%, Validation Accuracy: 46.67%\n",
      "[Epoch 45] Train Loss: 0.6915, Train Accuracy: 53.15%, Validation Accuracy: 46.67%\n",
      "[Epoch 46] Train Loss: 0.6909, Train Accuracy: 53.18%, Validation Accuracy: 46.67%\n",
      "[Epoch 47] Train Loss: 0.6902, Train Accuracy: 53.72%, Validation Accuracy: 46.67%\n",
      "[Epoch 48] Train Loss: 0.6905, Train Accuracy: 53.15%, Validation Accuracy: 46.67%\n",
      "[Epoch 49] Train Loss: 0.6905, Train Accuracy: 53.21%, Validation Accuracy: 46.67%\n",
      "[Epoch 50] Train Loss: 0.6907, Train Accuracy: 53.29%, Validation Accuracy: 46.67%\n",
      "[Epoch 51] Train Loss: 0.6912, Train Accuracy: 53.35%, Validation Accuracy: 46.67%\n",
      "[Epoch 52] Train Loss: 0.6905, Train Accuracy: 53.01%, Validation Accuracy: 46.67%\n",
      "[Epoch 53] Train Loss: 0.6905, Train Accuracy: 53.32%, Validation Accuracy: 46.67%\n",
      "[Epoch 54] Train Loss: 0.6901, Train Accuracy: 52.84%, Validation Accuracy: 53.33%\n",
      "[Epoch 55] Train Loss: 0.6902, Train Accuracy: 52.87%, Validation Accuracy: 49.33%\n",
      "[Epoch 56] Train Loss: 0.6910, Train Accuracy: 52.87%, Validation Accuracy: 47.33%\n",
      "[Epoch 57] Train Loss: 0.6904, Train Accuracy: 53.32%, Validation Accuracy: 46.67%\n",
      "[Epoch 58] Train Loss: 0.6913, Train Accuracy: 53.29%, Validation Accuracy: 46.67%\n",
      "[Epoch 59] Train Loss: 0.6909, Train Accuracy: 52.78%, Validation Accuracy: 46.67%\n",
      "[Epoch 60] Train Loss: 0.6912, Train Accuracy: 53.52%, Validation Accuracy: 46.67%\n"
     ]
    },
    {
     "data": {
      "text/html": [],
      "text/plain": [
       "<IPython.core.display.HTML object>"
      ]
     },
     "metadata": {},
     "output_type": "display_data"
    },
    {
     "data": {
      "text/html": [
       "<br>    <style><br>        .wandb-row {<br>            display: flex;<br>            flex-direction: row;<br>            flex-wrap: wrap;<br>            justify-content: flex-start;<br>            width: 100%;<br>        }<br>        .wandb-col {<br>            display: flex;<br>            flex-direction: column;<br>            flex-basis: 100%;<br>            flex: 1;<br>            padding: 10px;<br>        }<br>    </style><br><div class=\"wandb-row\"><div class=\"wandb-col\"><h3>Run history:</h3><br/><table class=\"wandb\"><tr><td>epoch</td><td>▁▁▁▁▁▂▂▂▂▃▃▃▃▃▃▄▄▄▄▄▅▅▅▅▅▆▆▆▆▆▇▇▇▇▇▇████</td></tr><tr><td>train_accuracy</td><td>▁▆▁▂▂▄▆▄▃▄▅▂▂▃▃▃▂▃▃▂▃▃▃▅▃▃▃▃▂▄█▄▄▅▅▅▁▁▁▆</td></tr><tr><td>train_loss</td><td>▆▇█▄▅▅▃▃▄▄▂▅▄▄▅▂▅▃▃▄▃▂▃▃▁▆▁▂▃▄▅▂▃▄▆▃▂▅▃▆</td></tr><tr><td>val_accuracy</td><td>▂▁▁▁▁▁▁▁▂▁▁▁▁▁▁█▁▁▁▁▁▁▁▁▁▂▁▁▁▁▁▁▁▁▁▃▂▁▁▁</td></tr></table><br/></div><div class=\"wandb-col\"><h3>Run summary:</h3><br/><table class=\"wandb\"><tr><td>epoch</td><td>60</td></tr><tr><td>train_accuracy</td><td>53.52073</td></tr><tr><td>train_loss</td><td>0.6912</td></tr><tr><td>val_accuracy</td><td>46.66667</td></tr></table><br/></div></div>"
      ],
      "text/plain": [
       "<IPython.core.display.HTML object>"
      ]
     },
     "metadata": {},
     "output_type": "display_data"
    },
    {
     "data": {
      "text/html": [
       " View run <strong style=\"color:#cdcd00\">Run_2024-12-20_12-27-45_LR0.0001_WD1e-06_Features</strong> at: <a href='https://wandb.ai/-ddj127-korea-university-of-technology-and-education/lstm_classification_with_features/runs/6dhq9s00' target=\"_blank\">https://wandb.ai/-ddj127-korea-university-of-technology-and-education/lstm_classification_with_features/runs/6dhq9s00</a><br> View project at: <a href='https://wandb.ai/-ddj127-korea-university-of-technology-and-education/lstm_classification_with_features' target=\"_blank\">https://wandb.ai/-ddj127-korea-university-of-technology-and-education/lstm_classification_with_features</a><br>Synced 5 W&B file(s), 0 media file(s), 0 artifact file(s) and 0 other file(s)"
      ],
      "text/plain": [
       "<IPython.core.display.HTML object>"
      ]
     },
     "metadata": {},
     "output_type": "display_data"
    },
    {
     "data": {
      "text/html": [
       "Find logs at: <code>./wandb/run-20241220_122745-6dhq9s00/logs</code>"
      ],
      "text/plain": [
       "<IPython.core.display.HTML object>"
      ]
     },
     "metadata": {},
     "output_type": "display_data"
    }
   ],
   "source": [
    "import os\n",
    "from pathlib import Path\n",
    "from datetime import datetime\n",
    "import torch\n",
    "import wandb\n",
    "import pandas as pd\n",
    "from torch import nn, optim\n",
    "from torch.utils.data import DataLoader, Dataset\n",
    "\n",
    "# Jupyter Notebook 환경에서 동적으로 경로 설정\n",
    "CURRENT_DIR = Path(os.getcwd()).resolve()         # 현재 작업 디렉토리 경로를 절대 경로로 반환\n",
    "BASE_PATH = CURRENT_DIR                           # BASE_PATH를 현재 디렉토리로 설정\n",
    "CHECKPOINT_FILE_PATH = CURRENT_DIR / \"checkpoints\" # 체크포인트 저장 디렉토리 설정\n",
    "CHECKPOINT_FILE_PATH.mkdir(parents=True, exist_ok=True) # 디렉토리가 없으면 생성\n",
    "\n",
    "# WandB 로그인\n",
    "import wandb\n",
    "wandb.login()  # 한 번만 수행하면 됨. API key가 필요할 수 있음.\n",
    "\n",
    "# ---- Dataset Preparation ---- #\n",
    "class CryptoCurrencyDataset(Dataset):\n",
    "    \"\"\"\n",
    "    암호화폐 데이터셋 클래스.\n",
    "    __init__에서는 전처리 후 X(입력)과 y(레이블)를 받음.\n",
    "    __len__은 데이터셋의 길이 반환.\n",
    "    __getitem__은 인덱스에 해당하는 (X, y) 샘플을 반환.\n",
    "    \"\"\"\n",
    "    def __init__(self, X, y):\n",
    "        self.X = X\n",
    "        self.y = y\n",
    "\n",
    "    def __len__(self):\n",
    "        return len(self.X)\n",
    "\n",
    "    def __getitem__(self, idx):\n",
    "        # 텐서 형태로 변환, dtype 설정 (float32, long)\n",
    "        return torch.tensor(self.X[idx], dtype=torch.float32), torch.tensor(self.y[idx], dtype=torch.long)\n",
    "\n",
    "\n",
    "def load_and_prepare_data(sequence_size=21, validation_size=150, test_size=30, target_column=\"Close\", is_regression=False):\n",
    "    \"\"\"\n",
    "    데이터를 로드하고 전처리 후, 학습/검증/테스트 세트로 나누어 DataLoader를 반환하는 함수.\n",
    "    sequence_size: LSTM 입력으로 사용할 시퀀스 길이\n",
    "    validation_size: 검증 데이터의 샘플 수\n",
    "    test_size: 테스트 데이터의 샘플 수\n",
    "    target_column: 상승/하락 판단 기준이 될 가격 컬럼 (Close)\n",
    "    is_regression: 회귀/분류 여부 (현재 코드에서는 분류)\n",
    "    \"\"\"\n",
    "    # 실제 데이터 로딩 시 아래 코드를 사용자 데이터셋 경로로 변경 필요\n",
    "    df = pd.read_csv(\"BTC_KRW.csv\")  # 'BTC_KRW.csv'를 현재 디렉토리에 위치시켜야 함\n",
    "\n",
    "    # 추가 특성 생성: Next_Open(다음 날의 Open), moving_avg(이동평균)\n",
    "    df['Next_Open'] = df['Open'].shift(-1)       # 다음 날의 Open 가격을 feature로 추가\n",
    "    df['moving_avg'] = df[target_column].rolling(window=5).mean()  # 5일 이동평균\n",
    "    df.dropna(inplace=True)  # rolling과 shift로 인한 NaN 행 제거\n",
    "\n",
    "    # 특성 컬럼 정의\n",
    "    feature_columns = [\"Open\", \"High\", \"Low\", \"Close\", \"Volume\", \"Next_Open\", \"moving_avg\"]\n",
    "\n",
    "    # 정규화: 평균을 빼고 표준편차로 나눔 (표준화)\n",
    "    df[feature_columns] = (df[feature_columns] - df[feature_columns].mean()) / df[feature_columns].std()\n",
    "\n",
    "    # LSTM 입력 시퀀스 및 목표 레이블 생성\n",
    "    X, y = [], []\n",
    "    for i in range(len(df) - sequence_size):\n",
    "        # i부터 i+sequence_size까지의 시퀀스를 입력으로 사용\n",
    "        X.append(df[feature_columns].iloc[i:i + sequence_size].values)\n",
    "        # 다음 시점의 가격이 이전 시점보다 높은지 낮은지에 따라 분류 라벨 생성 (상승=1, 하락=0)\n",
    "        y.append(1 if df[target_column].iloc[i + sequence_size] > df[target_column].iloc[i + sequence_size - 1] else 0)\n",
    "\n",
    "    # 텐서 변환\n",
    "    X, y = torch.tensor(X, dtype=torch.float32), torch.tensor(y, dtype=torch.long)\n",
    "\n",
    "    # 훈련/검증/테스트 세트 분할\n",
    "    train_size = len(X) - validation_size - test_size\n",
    "    X_train, X_val, X_test = X[:train_size], X[train_size:-test_size], X[-test_size:]\n",
    "    y_train, y_val, y_test = y[:train_size], y[train_size:-test_size], y[-test_size:]\n",
    "\n",
    "    # DataLoader 생성\n",
    "    train_loader = DataLoader(CryptoCurrencyDataset(X_train, y_train), batch_size=32, shuffle=True)\n",
    "    val_loader = DataLoader(CryptoCurrencyDataset(X_val, y_val), batch_size=32, shuffle=False)\n",
    "    test_loader = DataLoader(CryptoCurrencyDataset(X_test, y_test), batch_size=32, shuffle=False)\n",
    "\n",
    "    return train_loader, val_loader, test_loader\n",
    "\n",
    "\n",
    "# ---- Model Definition ---- #\n",
    "def get_model(n_input=7, n_output=2, hidden_size=256, num_layers=3):\n",
    "    \"\"\"\n",
    "    LSTM 기반 분류 모델 반환하는 함수.\n",
    "    n_input: 입력 피처 수\n",
    "    n_output: 출력 클래스 수\n",
    "    hidden_size: LSTM 은닉층 크기\n",
    "    num_layers: LSTM 레이어 수\n",
    "    \"\"\"\n",
    "    class MyModel(nn.Module):\n",
    "        def __init__(self, n_input, n_output, hidden_size, num_layers):\n",
    "            super().__init__()\n",
    "            self.lstm = nn.LSTM(\n",
    "                input_size=n_input,      # 입력 특성 수\n",
    "                hidden_size=hidden_size, # LSTM 은닉층 크기\n",
    "                num_layers=num_layers,   # LSTM 레이어 수\n",
    "                batch_first=True         # 첫 번째 차원이 배치 크기인 형태(batch, seq, feature)\n",
    "            )\n",
    "            self.fcn = nn.Linear(in_features=hidden_size, out_features=n_output) # LSTM 출력 -> 최종 클래스 분류\n",
    "\n",
    "        def forward(self, x):\n",
    "            # LSTM 순전파\n",
    "            x, _ = self.lstm(x)\n",
    "            # 마지막 타임스텝의 출력만 사용\n",
    "            x = x[:, -1, :]\n",
    "            # FCN 통해 클래스 로짓 출력\n",
    "            x = self.fcn(x)\n",
    "            return x\n",
    "\n",
    "    return MyModel(n_input=n_input, n_output=n_output, hidden_size=hidden_size, num_layers=num_layers)\n",
    "\n",
    "\n",
    "# ---- Training and Validation ---- #\n",
    "class ClassificationTrainer:\n",
    "    \"\"\"\n",
    "    모델 학습/검증을 담당하는 트레이너 클래스.\n",
    "    \"\"\"\n",
    "    def __init__(self, model, optimizer, criterion, train_loader, val_loader, device, wandb, checkpoint_dir):\n",
    "        \"\"\"\n",
    "        Args:\n",
    "            model (nn.Module): 학습할 모델\n",
    "            optimizer (Optimizer): 최적화 알고리즘\n",
    "            criterion (nn.Module): 손실 함수 (여기서는 CrossEntropyLoss)\n",
    "            train_loader (DataLoader): 학습용 데이터 로더\n",
    "            val_loader (DataLoader): 검증용 데이터 로더\n",
    "            device (torch.device): 연산 장치 (GPU/CPU)\n",
    "            wandb (module): WandB 로깅 모듈\n",
    "            checkpoint_dir (Path): 체크포인트 저장 디렉토리\n",
    "        \"\"\"\n",
    "        self.model = model\n",
    "        self.optimizer = optimizer\n",
    "        self.criterion = criterion\n",
    "        self.train_loader = train_loader\n",
    "        self.val_loader = val_loader\n",
    "        self.device = device\n",
    "        self.wandb = wandb\n",
    "        self.checkpoint_dir = checkpoint_dir\n",
    "\n",
    "    def train_loop(self, num_epochs):\n",
    "        \"\"\"주어진 epoch 수만큼 학습과 검증을 반복.\"\"\"\n",
    "        best_val_accuracy = 0  # 최고 검증 정확도 기록\n",
    "\n",
    "        for epoch in range(1, num_epochs + 1):\n",
    "            # 모델 학습 모드 전환\n",
    "            self.model.train()\n",
    "            total_loss, total_correct, total_samples = 0, 0, 0\n",
    "\n",
    "            # 학습 데이터 반복\n",
    "            for inputs, targets in self.train_loader:\n",
    "                inputs, targets = inputs.to(self.device), targets.to(self.device)  # GPU/CPU로 이동\n",
    "                self.optimizer.zero_grad()                                        # 그래디언트 초기화\n",
    "                outputs = self.model(inputs)                                      # 순전파\n",
    "                loss = self.criterion(outputs, targets)                            # 손실 계산\n",
    "                loss.backward()                                                    # 역전파\n",
    "                self.optimizer.step()                                              # 파라미터 업데이트\n",
    "\n",
    "                total_loss += loss.item()\n",
    "                preds = torch.argmax(outputs, dim=1)                               # 가장 높은 확률 인덱스\n",
    "                total_correct += (preds == targets).sum().item()                   # 맞춘 개수\n",
    "                total_samples += targets.size(0)                                   # 전체 샘플 수\n",
    "\n",
    "            train_accuracy = total_correct / total_samples * 100\n",
    "            avg_loss = total_loss / len(self.train_loader)\n",
    "\n",
    "            # 검증 실행\n",
    "            val_accuracy = self.validate()\n",
    "\n",
    "            # 학습 결과 출력\n",
    "            print(f\"[Epoch {epoch}] Train Loss: {avg_loss:.4f}, Train Accuracy: {train_accuracy:.2f}%, Validation Accuracy: {val_accuracy:.2f}%\")\n",
    "\n",
    "            # WandB 로깅\n",
    "            self.wandb.log({\n",
    "                \"epoch\": epoch,\n",
    "                \"train_loss\": avg_loss,\n",
    "                \"train_accuracy\": train_accuracy,\n",
    "                \"val_accuracy\": val_accuracy\n",
    "            })\n",
    "\n",
    "            # 검증 정확도 갱신 시 모델 체크포인트 저장\n",
    "            if val_accuracy > best_val_accuracy:\n",
    "                best_val_accuracy = val_accuracy\n",
    "                torch.save(self.model.state_dict(), self.checkpoint_dir / \"best_model.pt\")\n",
    "\n",
    "    def validate(self):\n",
    "        \"\"\"검증 데이터셋에 대한 정확도 계산.\"\"\"\n",
    "        self.model.eval()\n",
    "        total_correct, total_samples = 0, 0\n",
    "\n",
    "        with torch.no_grad():\n",
    "            for inputs, targets in self.val_loader:\n",
    "                inputs, targets = inputs.to(self.device), targets.to(self.device)\n",
    "                outputs = self.model(inputs)\n",
    "                preds = torch.argmax(outputs, dim=1)\n",
    "                total_correct += (preds == targets).sum().item()\n",
    "                total_samples += targets.size(0)\n",
    "\n",
    "        return total_correct / total_samples * 100\n",
    "\n",
    "\n",
    "# ---- Main Function ---- #\n",
    "def main(config):\n",
    "    \"\"\"\n",
    "    메인 함수:\n",
    "    1. WandB 세션 시작\n",
    "    2. 데이터 로드\n",
    "    3. 모델 및 옵티마이저, 손실함수 초기화\n",
    "    4. 트레이너 생성 후 학습 수행\n",
    "    5. WandB 마무리\n",
    "    \"\"\"\n",
    "    run_time_str = datetime.now().strftime('%Y-%m-%d_%H-%M-%S')\n",
    "\n",
    "    # WandB 프로젝트 초기화\n",
    "    wandb.init(\n",
    "        project=config[\"project_name\"],\n",
    "        name=f\"Run_{run_time_str}_LR{config['learning_rate']}_WD{config['weight_decay']}_Features\",\n",
    "        config=config\n",
    "    )\n",
    "\n",
    "    # 데이터 준비\n",
    "    train_loader, val_loader, test_loader = load_and_prepare_data(\n",
    "        sequence_size=config[\"sequence_size\"],\n",
    "        validation_size=config[\"validation_size\"],\n",
    "        test_size=config[\"test_size\"]\n",
    "    )\n",
    "\n",
    "    # 모델, 디바이스 설정\n",
    "    model = get_model(n_input=7, n_output=2, hidden_size=config[\"hidden_size\"], num_layers=config[\"lstm_layers\"])\n",
    "    device = torch.device(\"cuda\" if torch.cuda.is_available() else \"cpu\")\n",
    "    model.to(device)\n",
    "\n",
    "    # 손실함수, 옵티마이저 설정\n",
    "    criterion = nn.CrossEntropyLoss()\n",
    "    optimizer = optim.Adam(model.parameters(), lr=config[\"learning_rate\"], weight_decay=config[\"weight_decay\"])\n",
    "\n",
    "    # 트레이너 생성 및 학습\n",
    "    trainer = ClassificationTrainer(model, optimizer, criterion, train_loader, val_loader, device, wandb, CHECKPOINT_FILE_PATH)\n",
    "    trainer.train_loop(config[\"epochs\"])\n",
    "\n",
    "    # WandB 종료\n",
    "    wandb.finish()\n",
    "\n",
    "\n",
    "# ---- Configuration ---- #\n",
    "config = {\n",
    "    \"epochs\": 60,             # Epoch 수 (기존보다 감소)\n",
    "    \"batch_size\": 16,         # Batch Size (기존보다 감소)\n",
    "    \"sequence_size\": 21,\n",
    "    \"validation_size\": 150,\n",
    "    \"test_size\": 30,\n",
    "    \"learning_rate\": 0.0001,\n",
    "    \"hidden_size\": 128,       # Hidden Size 감소\n",
    "    \"lstm_layers\": 2,         # LSTM Layers 수 감소\n",
    "    \"weight_decay\": 1e-6,\n",
    "    \"project_name\": \"lstm_classification_with_features\"\n",
    "}\n",
    "\n",
    "# 메인 함수 실행\n",
    "main(config)\n"
   ]
  },
  {
   "cell_type": "markdown",
   "id": "b8c1d666",
   "metadata": {},
   "source": [
    "### 3-2 Testing Regression"
   ]
  },
  {
   "cell_type": "code",
   "execution_count": 5,
   "id": "48ad9e4e",
   "metadata": {
    "scrolled": true
   },
   "outputs": [
    {
     "name": "stdout",
     "output_type": "stream",
     "text": [
      "Defaulting to user installation because normal site-packages is not writeable\n",
      "Looking in indexes: https://pypi.org/simple, https://pypi.ngc.nvidia.com\n",
      "Requirement already satisfied: torch in /usr/local/lib/python3.10/dist-packages (2.3.0a0+40ec155e58.nv24.3)\n",
      "Requirement already satisfied: wandb in /home/work/.local/lib/python3.10/site-packages (0.19.1)\n",
      "Requirement already satisfied: matplotlib in /usr/local/lib/python3.10/dist-packages (3.8.3)\n",
      "Requirement already satisfied: filelock in /usr/local/lib/python3.10/dist-packages (from torch) (3.11.0)\n",
      "Requirement already satisfied: typing-extensions>=4.8.0 in /usr/local/lib/python3.10/dist-packages (from torch) (4.10.0)\n",
      "Requirement already satisfied: sympy in /usr/local/lib/python3.10/dist-packages (from torch) (1.12)\n",
      "Requirement already satisfied: networkx in /usr/local/lib/python3.10/dist-packages (from torch) (2.6.3)\n",
      "Requirement already satisfied: jinja2 in /usr/local/lib/python3.10/dist-packages (from torch) (3.1.3)\n",
      "Requirement already satisfied: fsspec in /usr/local/lib/python3.10/dist-packages (from torch) (2023.10.0)\n",
      "Requirement already satisfied: click!=8.0.0,>=7.1 in /usr/local/lib/python3.10/dist-packages (from wandb) (8.1.7)\n",
      "Requirement already satisfied: docker-pycreds>=0.4.0 in /home/work/.local/lib/python3.10/site-packages (from wandb) (0.4.0)\n",
      "Requirement already satisfied: gitpython!=3.1.29,>=1.0.0 in /usr/local/lib/python3.10/dist-packages (from wandb) (3.1.26)\n",
      "Requirement already satisfied: platformdirs in /usr/local/lib/python3.10/dist-packages (from wandb) (4.2.0)\n",
      "Requirement already satisfied: protobuf!=4.21.0,!=5.28.0,<6,>=3.19.0 in /usr/local/lib/python3.10/dist-packages (from wandb) (3.20.3)\n",
      "Requirement already satisfied: psutil>=5.0.0 in /usr/local/lib/python3.10/dist-packages (from wandb) (5.9.4)\n",
      "Requirement already satisfied: pydantic<3,>=2.6 in /usr/local/lib/python3.10/dist-packages (from wandb) (2.6.3)\n",
      "Requirement already satisfied: pyyaml in /usr/local/lib/python3.10/dist-packages (from wandb) (6.0.1)\n",
      "Requirement already satisfied: requests<3,>=2.0.0 in /usr/local/lib/python3.10/dist-packages (from wandb) (2.31.0)\n",
      "Requirement already satisfied: sentry-sdk>=2.0.0 in /home/work/.local/lib/python3.10/site-packages (from wandb) (2.19.2)\n",
      "Requirement already satisfied: setproctitle in /home/work/.local/lib/python3.10/site-packages (from wandb) (1.3.4)\n",
      "Requirement already satisfied: setuptools in /usr/local/lib/python3.10/dist-packages (from wandb) (68.2.2)\n",
      "Requirement already satisfied: contourpy>=1.0.1 in /usr/local/lib/python3.10/dist-packages (from matplotlib) (1.2.0)\n",
      "Requirement already satisfied: cycler>=0.10 in /usr/local/lib/python3.10/dist-packages (from matplotlib) (0.12.1)\n",
      "Requirement already satisfied: fonttools>=4.22.0 in /usr/local/lib/python3.10/dist-packages (from matplotlib) (4.49.0)\n",
      "Requirement already satisfied: kiwisolver>=1.3.1 in /usr/local/lib/python3.10/dist-packages (from matplotlib) (1.4.5)\n",
      "Requirement already satisfied: numpy<2,>=1.21 in /usr/local/lib/python3.10/dist-packages (from matplotlib) (1.24.4)\n",
      "Requirement already satisfied: packaging>=20.0 in /usr/local/lib/python3.10/dist-packages (from matplotlib) (23.2)\n",
      "Requirement already satisfied: pillow>=8 in /usr/local/lib/python3.10/dist-packages (from matplotlib) (10.2.0)\n",
      "Requirement already satisfied: pyparsing>=2.3.1 in /usr/local/lib/python3.10/dist-packages (from matplotlib) (3.1.2)\n",
      "Requirement already satisfied: python-dateutil>=2.7 in /usr/local/lib/python3.10/dist-packages (from matplotlib) (2.9.0.post0)\n",
      "Requirement already satisfied: six>=1.4.0 in /usr/local/lib/python3.10/dist-packages (from docker-pycreds>=0.4.0->wandb) (1.16.0)\n",
      "Requirement already satisfied: gitdb<5,>=4.0.1 in /usr/local/lib/python3.10/dist-packages (from gitpython!=3.1.29,>=1.0.0->wandb) (4.0.5)\n",
      "Requirement already satisfied: annotated-types>=0.4.0 in /usr/local/lib/python3.10/dist-packages (from pydantic<3,>=2.6->wandb) (0.6.0)\n",
      "Requirement already satisfied: pydantic-core==2.16.3 in /usr/local/lib/python3.10/dist-packages (from pydantic<3,>=2.6->wandb) (2.16.3)\n",
      "Requirement already satisfied: charset-normalizer<4,>=2 in /usr/local/lib/python3.10/dist-packages (from requests<3,>=2.0.0->wandb) (3.3.2)\n",
      "Requirement already satisfied: idna<4,>=2.5 in /usr/local/lib/python3.10/dist-packages (from requests<3,>=2.0.0->wandb) (3.6)\n",
      "Requirement already satisfied: urllib3<3,>=1.21.1 in /usr/local/lib/python3.10/dist-packages (from requests<3,>=2.0.0->wandb) (1.26.18)\n",
      "Requirement already satisfied: certifi>=2017.4.17 in /usr/local/lib/python3.10/dist-packages (from requests<3,>=2.0.0->wandb) (2024.2.2)\n",
      "Requirement already satisfied: MarkupSafe>=2.0 in /usr/local/lib/python3.10/dist-packages (from jinja2->torch) (2.0.1)\n",
      "Requirement already satisfied: mpmath>=0.19 in /usr/local/lib/python3.10/dist-packages (from sympy->torch) (1.3.0)\n",
      "Requirement already satisfied: smmap<4,>=3.0.1 in /usr/local/lib/python3.10/dist-packages (from gitdb<5,>=4.0.1->gitpython!=3.1.29,>=1.0.0->wandb) (3.0.5)\n",
      "\u001b[33mDEPRECATION: devscripts 2.22.1ubuntu1 has a non-standard version number. pip 24.1 will enforce this behaviour change. A possible replacement is to upgrade to a newer version of devscripts or contact the author to suggest that they release a version with a conforming version number. Discussion can be found at https://github.com/pypa/pip/issues/12063\u001b[0m\u001b[33m\n",
      "\u001b[0m\n",
      "\u001b[1m[\u001b[0m\u001b[34;49mnotice\u001b[0m\u001b[1;39;49m]\u001b[0m\u001b[39;49m A new release of pip is available: \u001b[0m\u001b[31;49m24.0\u001b[0m\u001b[39;49m -> \u001b[0m\u001b[32;49m24.3.1\u001b[0m\n",
      "\u001b[1m[\u001b[0m\u001b[34;49mnotice\u001b[0m\u001b[1;39;49m]\u001b[0m\u001b[39;49m To update, run: \u001b[0m\u001b[32;49mpython3 -m pip install --upgrade pip\u001b[0m\n",
      "Note: you may need to restart the kernel to use updated packages.\n"
     ]
    }
   ],
   "source": [
    "pip install torch wandb matplotlib"
   ]
  },
  {
   "cell_type": "code",
   "execution_count": 12,
   "id": "637b1f31",
   "metadata": {},
   "outputs": [
    {
     "name": "stdout",
     "output_type": "stream",
     "text": [
      "MODEL FILE: /home/work/HW4/checkpoints/lstm_regression_btc_krw_checkpoint_latest.pt\n",
      "[TEST DATA]\n",
      " 0: 1,016.75 <--> 964.63 (Loss:         52.12)\n",
      " 1: 1,017.14 <--> 959.09 (Loss:         58.05)\n",
      " 2: 1,011.78 <--> 956.43 (Loss:         55.35)\n",
      " 3: 1,010.86 <--> 948.70 (Loss:         62.16)\n",
      " 4: 1,006.21 <--> 931.83 (Loss:         74.38)\n",
      " 5: 998.96 <--> 957.10 (Loss:         41.86)\n",
      " 6: 998.25 <--> 1,059.85 (Loss:         61.61)\n",
      " 7: 1,000.40 <--> 1,047.88 (Loss:         47.48)\n",
      " 8: 1,022.35 <--> 1,070.26 (Loss:         47.91)\n",
      " 9: 1,037.64 <--> 1,073.52 (Loss:         35.88)\n",
      "10: 1,047.77 <--> 1,125.35 (Loss:         77.58)\n",
      "11: 1,049.85 <--> 1,243.20 (Loss:        193.35)\n",
      "12: 1,054.00 <--> 1,238.69 (Loss:        184.69)\n",
      "13: 1,057.04 <--> 1,272.01 (Loss:        214.97)\n",
      "14: 1,062.64 <--> 1,224.73 (Loss:        162.08)\n",
      "15: 1,069.74 <--> 1,271.21 (Loss:        201.47)\n",
      "16: 1,075.07 <--> 1,264.13 (Loss:        189.06)\n",
      "17: 1,081.48 <--> 1,254.02 (Loss:        172.54)\n",
      "18: 1,083.78 <--> 1,259.24 (Loss:        175.47)\n",
      "19: 1,082.61 <--> 1,286.65 (Loss:        204.04)\n",
      "20: 1,082.59 <--> 1,319.45 (Loss:        236.85)\n",
      "21: 1,084.14 <--> 1,380.87 (Loss:        296.73)\n",
      "22: 1,084.50 <--> 1,390.43 (Loss:        305.93)\n",
      "23: 1,088.22 <--> 1,373.29 (Loss:        285.07)\n",
      "24: 1,091.96 <--> 1,378.05 (Loss:        286.09)\n",
      "25: 1,093.21 <--> 1,302.60 (Loss:        209.40)\n",
      "26: 1,090.69 <--> 1,284.38 (Loss:        193.69)\n",
      "27: 1,086.22 <--> 1,334.58 (Loss:        248.36)\n",
      "28: 1,086.56 <--> 1,331.62 (Loss:        245.06)\n",
      "29: 1,089.00 <--> 1,360.09 (Loss:        271.09)\n"
     ]
    },
    {
     "data": {
      "image/png": "[encoded data removed]",
      "text/plain": [
       "<Figure size 600x900 with 3 Axes>"
      ]
     },
     "metadata": {},
     "output_type": "display_data"
    }
   ],
   "source": [
    "import torch\n",
    "import wandb\n",
    "from matplotlib import pyplot as plt\n",
    "from datetime import datetime\n",
    "import os\n",
    "from pathlib import Path\n",
    "from torch.utils.data import DataLoader\n",
    "import sys\n",
    "\n",
    "# 현재 Jupyter Notebook 환경을 고려하여 작업 경로 설정\n",
    "CURRENT_FILE_PATH = Path.cwd()\n",
    "CHECKPOINT_FILE_PATH = CURRENT_FILE_PATH / \"checkpoints\"\n",
    "if not CHECKPOINT_FILE_PATH.exists():\n",
    "    os.makedirs(CHECKPOINT_FILE_PATH)\n",
    "\n",
    "# 외부 모듈 임포트 (p_cryptocurrency_dataset_dataloader.py가 같은 디렉토리에 있다고 가정)\n",
    "from p_cryptocurrency_dataset_dataloader import get_cryptocurrency_data, CryptoCurrencyDataset\n",
    "from torch import nn\n",
    "\n",
    "\n",
    "def get_model(n_input=5, n_output=1, hidden_size=128, num_layers=2):\n",
    "    \"\"\"\n",
    "    LSTM 기반 회귀 모델 정의 함수.\n",
    "    입력 특성 수(n_input), 출력 차원(n_output), 은닉 상태 크기(hidden_size), LSTM 레이어 수(num_layers)를\n",
    "    인자로 받아 해당하는 LSTM 모델을 구성한다.\n",
    "    \"\"\"\n",
    "    class MyModel(nn.Module):\n",
    "        def __init__(self, n_input, n_output, hidden_size, num_layers):\n",
    "            super().__init__()\n",
    "            # LSTM 레이어: n_input개의 특성을 입력받아 hidden_size 차원의 은닉상태를 가지는 LSTM을 num_layers개 쌓는다.\n",
    "            # batch_first=True로 batch 차원이 입력 텐서의 첫 번째 차원.\n",
    "            self.lstm = nn.LSTM(\n",
    "                input_size=n_input, \n",
    "                hidden_size=hidden_size, \n",
    "                num_layers=num_layers, \n",
    "                batch_first=True\n",
    "            )\n",
    "            # LSTM의 마지막 타임스텝 출력을 받아 n_output 차원으로 매핑하는 FC 레이어\n",
    "            self.fc = nn.Linear(in_features=hidden_size, out_features=n_output)\n",
    "\n",
    "        def forward(self, x):\n",
    "            # x: (batch_size, sequence_length, n_input)\n",
    "            x, _ = self.lstm(x)       # LSTM을 통해 순환 신경망 처리\n",
    "            x = x[:, -1, :]           # 마지막 타임스텝의 은닉 상태만 사용\n",
    "            x = self.fc(x)            # FC 레이어를 통해 출력\n",
    "            return x\n",
    "\n",
    "    return MyModel(n_input=n_input, n_output=n_output, hidden_size=hidden_size, num_layers=num_layers)\n",
    "\n",
    "\n",
    "def test(test_model):\n",
    "    \"\"\"\n",
    "    테스트 데이터셋에 대해 모델의 예측 성능을 평가하는 함수.\n",
    "    Loss(절댓값 오차)를 출력하고, 예측 결과를 확인한다.\n",
    "    \"\"\"\n",
    "    # get_cryptocurrency_data 함수를 통해 데이터 로드\n",
    "    # 반환값 구조 (X_train, X_validation, X_test, y_train, y_validation, y_test, y_train_date, y_validation_date, y_test_date)\n",
    "    data = get_cryptocurrency_data(\n",
    "        sequence_size=21,\n",
    "        validation_size=150,\n",
    "        test_size=30,\n",
    "        is_regression=True\n",
    "    )\n",
    "    X_train, X_validation, X_test, y_train, y_validation, y_test, _, _, _ = data\n",
    "\n",
    "    # 테스트 데이터셋 생성 및 데이터로더 준비\n",
    "    test_dataset = CryptoCurrencyDataset(X_test, y_test)\n",
    "    test_data_loader = DataLoader(test_dataset, batch_size=32, shuffle=False)\n",
    "\n",
    "    test_model.eval()     # 모델을 평가 모드로 전환(Dropout, BatchNorm 등 비활성화)\n",
    "    y_normalizer = 100    # 예측/타깃값을 보기 좋게 스케일링하기 위한 값\n",
    "\n",
    "    print(\"[TEST DATA]\")\n",
    "    with torch.no_grad():  # 그래디언트 계산 비활성화\n",
    "        for inputs, targets in test_data_loader:\n",
    "            # CPU에서 추론\n",
    "            inputs, targets = inputs.to(torch.device(\"cpu\")), targets.to(torch.device(\"cpu\"))\n",
    "            outputs = test_model(inputs)\n",
    "\n",
    "            # 각 샘플별 예측값 vs 실제값 비교 및 손실(절댓값 차이) 출력\n",
    "            for idx, (output, target) in enumerate(zip(outputs, targets)):\n",
    "                print(\"{0:2}: {1:6,.2f} <--> {2:6,.2f} (Loss: {3:>13,.2f})\".format(\n",
    "                    idx,\n",
    "                    output.item() * y_normalizer,\n",
    "                    target.item() * y_normalizer,\n",
    "                    abs(output.squeeze(dim=-1).item() - target.item()) * y_normalizer\n",
    "                ))\n",
    "\n",
    "\n",
    "def predict_all(test_model):\n",
    "    \"\"\"\n",
    "    훈련(train), 검증(validation), 테스트(test) 데이터셋 전반에 대해 모델 예측을 수행하고,\n",
    "    실제값(target)과 예측값(prediction)을 비교하는 그래프를 생성한다.\n",
    "    \"\"\"\n",
    "    y_normalizer = 100  # 값 스케일링을 위한 값\n",
    "\n",
    "    # 모든 데이터셋 로드 (회귀 모드, y_normalizer를 1.0e7로 설정한 상태)\n",
    "    X_train, X_validation, X_test, y_train, y_validation, y_test, _, _, _ = get_cryptocurrency_data(\n",
    "        sequence_size=21,\n",
    "        validation_size=150,\n",
    "        test_size=30,\n",
    "        target_column='Close',\n",
    "        y_normalizer=1.0e7,\n",
    "        is_regression=True\n",
    "    )\n",
    "\n",
    "    # 훈련, 검증, 테스트 데이터셋 생성\n",
    "    dataset_list = [\n",
    "        CryptoCurrencyDataset(X_train, y_train),\n",
    "        CryptoCurrencyDataset(X_validation, y_validation),\n",
    "        CryptoCurrencyDataset(X_test, y_test)\n",
    "    ]\n",
    "    dataset_labels = [\"train\", \"validation\", \"test\"]\n",
    "\n",
    "    num = 0  # x축 인덱스용 카운터\n",
    "    fig, axs = plt.subplots(3, 1, figsize=(6, 9))\n",
    "\n",
    "    # 각 데이터셋에 대해 예측 수행 및 그래프 플로팅\n",
    "    for i in range(3):\n",
    "        X_points, TARGET_Y, PREDICTION_Y = [], [], []\n",
    "        for data in dataset_list[i]:\n",
    "            input, target = data\n",
    "            # 입력 차원 맞추기: (batch=1, sequence=21, n_features=5)\n",
    "            prediction = test_model(input.unsqueeze(0)).squeeze(-1).squeeze(-1)\n",
    "\n",
    "            X_points.append(num)\n",
    "            TARGET_Y.append(target.item() * y_normalizer)\n",
    "            PREDICTION_Y.append(prediction.item() * y_normalizer)\n",
    "            num += 1\n",
    "\n",
    "        # 실제값 vs 예측값 그래프\n",
    "        axs[i].plot(X_points, TARGET_Y, label='target')\n",
    "        axs[i].plot(X_points, PREDICTION_Y, label='prediction')\n",
    "        axs[i].set_title(dataset_labels[i])\n",
    "        axs[i].legend()\n",
    "\n",
    "    plt.tight_layout()\n",
    "    plt.show()\n",
    "\n",
    "\n",
    "def main():\n",
    "    \"\"\"\n",
    "    메인 실행 함수:\n",
    "    1. WandB 비활성화 모드로 초기화(테스트용)\n",
    "    2. 모델 파라미터 로드\n",
    "    3. 테스트 데이터셋 평가 및 전체 데이터셋에 대한 예측 결과 시각화\n",
    "    \"\"\"\n",
    "    config = {\n",
    "        \"epochs\": 100,\n",
    "        \"batch_size\": 32,\n",
    "        \"sequence_size\": 21,\n",
    "        \"validation_size\": 150,\n",
    "        \"test_size\": 30,\n",
    "        \"learning_rate\": 0.00001,\n",
    "        \"hidden_size\": 128,    # 모델 정의 시 사용된 hidden_size\n",
    "        \"lstm_layers\": 2,      # 모델 정의 시 사용된 LSTM 레이어 수\n",
    "        \"dropout_rate\": 0.3,\n",
    "        \"weight_decay\": 0.0001,\n",
    "        \"project_name\": \"lstm_regression_btc_krw\"\n",
    "    }\n",
    "\n",
    "    # WandB 초기화 (disabled 모드: 로깅 비활성화)\n",
    "    wandb.init(\n",
    "        mode=\"disabled\",\n",
    "        project=config[\"project_name\"],\n",
    "        notes=\"btc_krw regression testing\",\n",
    "        tags=[\"lstm\", \"regression\", \"btc_krw\"],\n",
    "        name=datetime.now().strftime('%Y-%m-%d_%H-%M-%S'),\n",
    "        config=config\n",
    "    )\n",
    "\n",
    "    # 모델 생성\n",
    "    test_model = get_model(\n",
    "        n_input=5,\n",
    "        n_output=1,\n",
    "        hidden_size=config[\"hidden_size\"],\n",
    "        num_layers=config[\"lstm_layers\"]\n",
    "    )\n",
    "\n",
    "    # 체크포인트 경로\n",
    "    latest_file_path = CHECKPOINT_FILE_PATH / f\"{config['project_name']}_checkpoint_latest.pt\"\n",
    "    print(f\"MODEL FILE: {latest_file_path}\")\n",
    "\n",
    "    # 체크포인트 로드 및 키 이름 조정(필요하다면)\n",
    "    checkpoint = torch.load(latest_file_path, map_location=torch.device(\"cpu\"))\n",
    "    model_state = {k.replace(\"fcn.\", \"fc.\"): v for k, v in checkpoint.items()}\n",
    "    test_model.load_state_dict(model_state, strict=True)\n",
    "\n",
    "    # 테스트 데이터셋 평가\n",
    "    test(test_model)\n",
    "\n",
    "    # 훈련/검증/테스트 데이터 전체 예측 시각화\n",
    "    predict_all(test_model)\n",
    "\n",
    "\n",
    "# 메인 함수 실행\n",
    "main()\n"
   ]
  },
  {
   "cell_type": "markdown",
   "id": "b36bf1be",
   "metadata": {},
   "source": [
    "### Classification Testing"
   ]
  },
  {
   "cell_type": "code",
   "execution_count": 16,
   "id": "18c2361f",
   "metadata": {},
   "outputs": [
    {
     "name": "stdout",
     "output_type": "stream",
     "text": [
      "MODEL FILE: /home/work/HW4/checkpoints/best_model.pt\n",
      "[TEST RESULTS]\n",
      "Accuracy: 50.00%\n",
      "[PREDICTION VISUALIZATION]\n"
     ]
    },
    {
     "name": "stderr",
     "output_type": "stream",
     "text": [
      "/tmp/ipykernel_171/1499796909.py:30: UserWarning: To copy construct from a tensor, it is recommended to use sourceTensor.clone().detach() or sourceTensor.clone().detach().requires_grad_(True), rather than torch.tensor(sourceTensor).\n",
      "  return torch.tensor(self.X[idx], dtype=torch.float32), torch.tensor(self.y[idx], dtype=torch.long)\n"
     ]
    },
    {
     "data": {
      "image/png": "[encoded data removed]",
      "text/plain": [
       "<Figure size 1200x600 with 1 Axes>"
      ]
     },
     "metadata": {},
     "output_type": "display_data"
    }
   ],
   "source": [
    "import os\n",
    "from pathlib import Path\n",
    "from datetime import datetime\n",
    "import torch\n",
    "import wandb\n",
    "import pandas as pd\n",
    "from torch.utils.data import DataLoader, Dataset\n",
    "from matplotlib import pyplot as plt\n",
    "from torch import nn\n",
    "\n",
    "# 현재 스크립트가 실행되는 디렉토리 경로 획득\n",
    "CURRENT_FILE_PATH = Path.cwd()\n",
    "\n",
    "# 체크포인트 디렉토리 경로 설정\n",
    "CHECKPOINT_FILE_PATH = CURRENT_FILE_PATH / \"checkpoints\"\n",
    "\n",
    "# 체크포인트 디렉토리가 존재하지 않는 경우 생성\n",
    "if not CHECKPOINT_FILE_PATH.exists():\n",
    "    CHECKPOINT_FILE_PATH.mkdir(parents=True)\n",
    "\n",
    "# ----- 데이터셋 클래스 정의 ----- #\n",
    "class CryptoCurrencyDataset(Dataset):\n",
    "    \"\"\"\n",
    "    암호화폐 데이터셋을 담는 파이토치 Dataset 클래스.\n",
    "    X: 입력 특성 (시퀀스 형태)\n",
    "    y: 라벨 (상승/하락 여부)\n",
    "    \"\"\"\n",
    "    def __init__(self, X, y):\n",
    "        self.X = X\n",
    "        self.y = y\n",
    "\n",
    "    def __len__(self):\n",
    "        # 데이터셋의 길이 반환\n",
    "        return len(self.X)\n",
    "\n",
    "    def __getitem__(self, idx):\n",
    "        # 인덱스 idx에 해당하는 샘플(X, y) 반환\n",
    "        # 입력을 float32, 라벨을 long 타입으로 텐서 변환\n",
    "        return torch.tensor(self.X[idx], dtype=torch.float32), torch.tensor(self.y[idx], dtype=torch.long)\n",
    "\n",
    "\n",
    "# ----- 데이터 로드 및 전처리 함수 ----- #\n",
    "def load_and_prepare_data(sequence_size=21, validation_size=150, test_size=30, target_column=\"Close\", is_regression=False):\n",
    "    \"\"\"\n",
    "    BTC/KRW CSV 파일에서 데이터를 로드하고 전처리하는 함수.\n",
    "    sequence_size: 각 샘플당 사용할 시퀀스 길이\n",
    "    validation_size: 검증 데이터로 사용할 샘플 수\n",
    "    test_size: 테스트 데이터로 사용할 샘플 수\n",
    "    target_column: 상승/하락 판단 기준이 되는 컬럼 (기본값: \"Close\")\n",
    "    is_regression: 회귀 문제인지 여부(여기서는 분류용으로 False)\n",
    "    \"\"\"\n",
    "\n",
    "    # CSV 파일 로드 (실제 경로에 맞게 수정 필요)\n",
    "    df = pd.read_csv(\"BTC_KRW.csv\")\n",
    "\n",
    "    # 새로운 특성 추가: 다음날 Open가 (Next_Open), 5일 이동평균(moving_avg)\n",
    "    df['Next_Open'] = df['Open'].shift(-1)\n",
    "    df['moving_avg'] = df[target_column].rolling(window=5).mean()\n",
    "\n",
    "    # 이동평균 계산 등으로 생긴 NaN 제거\n",
    "    df.dropna(inplace=True)\n",
    "\n",
    "    # 사용 특성 컬럼\n",
    "    feature_columns = [\"Open\", \"High\", \"Low\", \"Close\", \"Volume\", \"Next_Open\", \"moving_avg\"]\n",
    "\n",
    "    # 정규화: (값 - 평균) / 표준편차\n",
    "    df[feature_columns] = (df[feature_columns] - df[feature_columns].mean()) / df[feature_columns].std()\n",
    "\n",
    "    # LSTM 입력용 시퀀스 데이터(X)와 해당 시점의 상승/하락 레이블(y) 생성\n",
    "    X, y = [], []\n",
    "    for i in range(len(df) - sequence_size):\n",
    "        # i부터 i+sequence_size까지를 하나의 시퀀스로\n",
    "        X.append(df[feature_columns].iloc[i:i + sequence_size].values)\n",
    "        # 다음 시점의 종가가 이전 시점보다 높으면 1(상승), 아니면 0(하락)\n",
    "        y.append(1 if df[target_column].iloc[i + sequence_size] > df[target_column].iloc[i + sequence_size - 1] else 0)\n",
    "\n",
    "    # 파이토치 텐서로 변환\n",
    "    X, y = torch.tensor(X, dtype=torch.float32), torch.tensor(y, dtype=torch.long)\n",
    "\n",
    "    # 훈련/검증/테스트 데이터 분할\n",
    "    train_size = len(X) - validation_size - test_size\n",
    "    X_train, X_val, X_test = X[:train_size], X[train_size:-test_size], X[-test_size:]\n",
    "    y_train, y_val, y_test = y[:train_size], y[train_size:-test_size], y[-test_size:]\n",
    "\n",
    "    # 테스트용 DataLoader 생성\n",
    "    test_loader = DataLoader(CryptoCurrencyDataset(X_test, y_test), batch_size=32, shuffle=False)\n",
    "\n",
    "    return test_loader, X_test, y_test\n",
    "\n",
    "\n",
    "# ----- 모델 정의 함수 ----- #\n",
    "def get_model(n_input=7, n_output=2, hidden_size=128, num_layers=2):\n",
    "    \"\"\"\n",
    "    LSTM 기반의 분류 모델을 생성하는 함수.\n",
    "    n_input: 입력 특성 수\n",
    "    n_output: 출력 클래스 수(상승/하락 이진분류이므로 2)\n",
    "    hidden_size: LSTM 은닉층 크기\n",
    "    num_layers: LSTM 레이어 수\n",
    "    \"\"\"\n",
    "    class MyModel(nn.Module):\n",
    "        def __init__(self, n_input, n_output, hidden_size, num_layers):\n",
    "            super().__init__()\n",
    "            # LSTM 레이어 정의\n",
    "            self.lstm = nn.LSTM(\n",
    "                input_size=n_input,\n",
    "                hidden_size=hidden_size,\n",
    "                num_layers=num_layers,\n",
    "                batch_first=True\n",
    "            )\n",
    "            # 완전 연결층 정의\n",
    "            self.fcn = nn.Linear(in_features=hidden_size, out_features=n_output)\n",
    "\n",
    "        def forward(self, x):\n",
    "            # LSTM 순전파\n",
    "            x, _ = self.lstm(x)\n",
    "            # 시퀀스의 마지막 타임스텝 출력만 사용\n",
    "            x = x[:, -1, :]\n",
    "            # 완전 연결층 통해 최종 출력\n",
    "            x = self.fcn(x)\n",
    "            return x\n",
    "\n",
    "    return MyModel(n_input=n_input, n_output=n_output, hidden_size=hidden_size, num_layers=num_layers)\n",
    "\n",
    "\n",
    "# ----- 모델 평가 함수 ----- #\n",
    "def evaluate_model(model, test_loader):\n",
    "    \"\"\"\n",
    "    테스트 데이터로 모델을 평가하는 함수.\n",
    "    정확도를 출력하고 반환.\n",
    "    \"\"\"\n",
    "    model.eval()\n",
    "    total_correct = 0\n",
    "    total_samples = 0\n",
    "\n",
    "    print(\"[TEST RESULTS]\")\n",
    "    with torch.no_grad():\n",
    "        for inputs, targets in test_loader:\n",
    "            # CPU 디바이스로 설정 (GPU 사용 X)\n",
    "            inputs, targets = inputs.to(torch.device(\"cpu\")), targets.to(torch.device(\"cpu\"))\n",
    "            outputs = model(inputs)\n",
    "\n",
    "            # 예측 클래스\n",
    "            predicted = torch.argmax(outputs, dim=1)\n",
    "            # 맞춘 개수 누적\n",
    "            total_correct += (predicted == targets).sum().item()\n",
    "            total_samples += targets.size(0)\n",
    "\n",
    "    accuracy = 100.0 * total_correct / total_samples\n",
    "    print(f\"Accuracy: {accuracy:.2f}%\")\n",
    "    return accuracy\n",
    "\n",
    "\n",
    "# ----- 예측 시각화 함수 ----- #\n",
    "def predict_all(model, X_test, y_test):\n",
    "    \"\"\"\n",
    "    테스트 셋 전체에 대해 모델의 예측 결과와 실제 라벨을 비교하고,\n",
    "    이를 시각화하는 함수.\n",
    "    \"\"\"\n",
    "    model.eval()\n",
    "    predictions = []\n",
    "    y_test_list = []\n",
    "\n",
    "    print(\"[PREDICTION VISUALIZATION]\")\n",
    "    with torch.no_grad():\n",
    "        for i in range(len(X_test)):\n",
    "            # 각 샘플을 (1, sequence, features) 형태로\n",
    "            input = X_test[i].unsqueeze(0)\n",
    "            # 모델 예측\n",
    "            prediction = torch.argmax(model(input), dim=1).item()\n",
    "            predictions.append(prediction)\n",
    "            y_test_list.append(y_test[i].item())\n",
    "\n",
    "    # 예측값과 실제값 비교 그래프\n",
    "    plt.figure(figsize=(12, 6))\n",
    "    plt.plot(predictions, label=\"Predicted\", color=\"blue\", alpha=0.7)\n",
    "    plt.plot(y_test_list, label=\"Actual\", color=\"green\", alpha=0.7)\n",
    "    plt.title(\"Comparison of Predicted vs Actual Labels\")\n",
    "    plt.xlabel(\"Sample Index\")\n",
    "    plt.ylabel(\"Label (0 or 1)\")\n",
    "    plt.legend()\n",
    "    plt.show()\n",
    "\n",
    "\n",
    "# ----- 메인 함수 (테스트 실행) ----- #\n",
    "def main():\n",
    "    # 설정값\n",
    "    config = {\n",
    "        \"sequence_size\": 21,\n",
    "        \"validation_size\": 150,\n",
    "        \"test_size\": 30,\n",
    "        \"hidden_size\": 128,\n",
    "        \"lstm_layers\": 2,\n",
    "        \"project_name\": \"lstm_classification_with_features\"\n",
    "    }\n",
    "\n",
    "    # WandB 초기화 (테스트 모드이므로 disabled)\n",
    "    wandb.init(\n",
    "        mode=\"disabled\",\n",
    "        project=config[\"project_name\"],\n",
    "        notes=\"btc_krw classification testing\",\n",
    "        tags=[\"lstm\", \"classification\", \"btc_krw\"],\n",
    "        name=datetime.now().strftime('%Y-%m-%d_%H-%M-%S'),\n",
    "        config=config\n",
    "    )\n",
    "\n",
    "    # 테스트 데이터 로드\n",
    "    test_loader, X_test, y_test = load_and_prepare_data(\n",
    "        sequence_size=config[\"sequence_size\"],\n",
    "        validation_size=config[\"validation_size\"],\n",
    "        test_size=config[\"test_size\"]\n",
    "    )\n",
    "\n",
    "    # 모델 생성\n",
    "    model = get_model(\n",
    "        n_input=7,      # 위에서 feature_columns가 7개이므로 7\n",
    "        n_output=2,     # 이진 분류\n",
    "        hidden_size=config[\"hidden_size\"],\n",
    "        num_layers=config[\"lstm_layers\"]\n",
    "    )\n",
    "\n",
    "    # 체크포인트 파일 경로\n",
    "    checkpoint_path = CHECKPOINT_FILE_PATH / \"best_model.pt\"\n",
    "    print(f\"MODEL FILE: {checkpoint_path}\")\n",
    "\n",
    "    # 체크포인트 로드 (CPU)\n",
    "    model.load_state_dict(torch.load(checkpoint_path, map_location=torch.device(\"cpu\")))\n",
    "    model.to(torch.device(\"cpu\"))\n",
    "\n",
    "    # 모델 평가\n",
    "    evaluate_model(model, test_loader)\n",
    "\n",
    "    # 예측 결과 시각화\n",
    "    predict_all(model, X_test, y_test)\n",
    "\n",
    "    # WandB 종료\n",
    "    wandb.finish()\n",
    "\n",
    "\n",
    "# 메인 함수 실행\n",
    "if __name__ == \"__main__\":\n",
    "    main()\n"
   ]
  },
  {
   "cell_type": "code",
   "execution_count": null,
   "id": "3f8515b4",
   "metadata": {},
   "outputs": [],
   "source": []
  },
  {
   "cell_type": "markdown",
   "id": "44550fd3",
   "metadata": {},
   "source": [
    "### 비교 해석"
   ]
  },
  {
   "cell_type": "code",
   "execution_count": null,
   "id": "ee5dc413",
   "metadata": {},
   "outputs": [],
   "source": [
    "Regression 코드:\n",
    "\n",
    "MSELoss를 사용하고, 모델 출력 값과 실제 값의 차이를 직접 계산합니다.\n",
    "테스트 시 output.item()으로 예측 값을 그대로 비교.\n",
    "시각화 시, 예측 값과 실제 값을 연속 그래프로 플롯.\n",
    "Classification 코드:\n",
    "\n",
    "CrossEntropyLoss를 사용하며, 예측 확률 분포에서 torch.argmax로 클래스 라벨을 선택합니다.\n",
    "테스트 시 torch.argmax(output)로 예측 클래스 라벨을 계산.\n",
    "시각화 시, 정확도와 클래스 별 분포를 시각화하거나 혼동행렬을 생성.\n",
    "따라서, 두 문제의 차이는 문제 정의, 출력 형태, 손실 함수, 평가 지표, 그리고 시각화 전략에서 비롯됩니다. 이를 염두에 두고 코드를 설계하면 두 문제를 적절히 처리할 수 있습니다."
   ]
  },
  {
   "cell_type": "markdown",
   "id": "55535c0f",
   "metadata": {},
   "source": [
    "### 고찰"
   ]
  },
  {
   "cell_type": "code",
   "execution_count": null,
   "id": "74de2ac5",
   "metadata": {},
   "outputs": [],
   "source": [
    "LSTM 모델의 한계 및 개선 방향\n",
    "\n",
    "단순 LSTM을 사용한 시계열 예측은 일정 수준의 성능을 제공하지만, 최근에는 Transformer 기반 모델, Temporal Fusion Transformer, N-BEATS 등 더 발전된 시계열 모델들이 등장하였다.\n",
    "코드 구조를 모듈화하고 확장성 있게 설계했기 때문에, 향후 LSTM 이외의 다른 아키텍처를 적용하는 실험을 쉽게 시도할 수 있다.\n",
    "하이퍼파라미터 중요성\n",
    "\n",
    "hidden_size, lstm_layers, dropout_rate, learning_rate, weight_decay 등의 하이퍼파라미터 변화를 통해 모델 성능이 크게 좌우됨을 확인했다.\n",
    "자동화된 실험 관리(WandB 연동)를 통해 하이퍼파라미터 스윕 및 최적화 전략을 체계적으로 수행할 수 있다.\n",
    "데이터 품질 및 전처리\n",
    "\n",
    "시계열 모델의 성능은 데이터 품질에 크게 의존한다.\n",
    "추후 이상값 제거, 더 긴 시계열 특징 반영, 외부 변수(거래량, 글로벌 시장 지표 등) 추가 등을 통해 모델 입력을 풍부하게 하여 성능 향상을 시도할 수 있다.\n",
    "데이터 정규화(y_normalizer)를 적절히 선택하는 것의 중요성을 인식하였으며, 이를 통해 예측값과 실제값 차이를 직관적으로 비교하기 더 쉬워졌다.\n",
    "모듈화와 재사용성\n",
    "\n",
    "모델 정의, 데이터로더, 학습 루프, 테스트 및 시각화 코드를 모듈화함으로써 재사용성과 유지보수성을 높였다.\n",
    "이는 추후 다른 금융 자산이나 다른 시계열 데이터셋으로 확장할 때 최소한의 코드 수정으로 동일한 파이프라인을 사용할 수 있게 한다.\n",
    "해석 가능성\n",
    "\n",
    "LSTM 모델 자체의 해석 가능성은 제한적이지만, 향후 Integrated Gradients나 Grad-CAM과 같은 기법을 적용해 입력 시계열 중 어느 부분이 예측에 기여하는지 해석해볼 수 있다.\n",
    "시계열 예측 결과를 시각화함으로써 모델이 어느 구간에서 예측 성능이 저하되는지 확인할 수 있으며, 이를 바탕으로 데이터 특성과 모델 개선 방향을 고민할 수 있다.\n",
    "이와 같이, 코드를 통해 시계열 데이터 예측 모델(LSTM 기반) 구현, 학습 및 평가를 진행하면서 다양한 기술적 사항과 개선 방향, 그리고 데이터 전처리 및 하이퍼파라미터 중요성에 대한 통찰을 얻게 되었다. 이를 토대로 향후 더 복잡하고 다양한 시나리오에 대한 모델링에 도전할 수 있을 것이다."
   ]
  },
  {
   "cell_type": "markdown",
   "id": "cc885ec6",
   "metadata": {},
   "source": [
    "### 숙제후기"
   ]
  },
  {
   "cell_type": "code",
   "execution_count": null,
   "id": "6bbac7bf",
   "metadata": {},
   "outputs": [],
   "source": [
    "이 과제를 통해 머신러닝 프로젝트의 모든 단계를 실습하며, \n",
    "모델 개발뿐만 아니라 데이터 전처리, 하이퍼파라미터 튜닝, \n",
    "성능 평가 및 실험 관리의 중요성을 배울 수 있었습니다. \n",
    "Regression과 Classification의 차이를 명확히 이해하고, \n",
    "이를 적절히 구현하는 방법을 익힌 것은 앞으로의 프로젝트에서 큰 자산이 될 것 같습니다."
   ]
  }
 ],
 "metadata": {
  "kernelspec": {
   "display_name": "PyTorch 2.3 (NGC 24.03/Python 3.10) on Backend.AI",
   "language": "python",
   "name": "python3"
  },
  "language_info": {
   "codemirror_mode": {
    "name": "ipython",
    "version": 3
   },
   "file_extension": ".py",
   "mimetype": "text/x-python",
   "name": "python",
   "nbconvert_exporter": "python",
   "pygments_lexer": "ipython3",
   "version": "3.10.12"
  }
 },
 "nbformat": 4,
 "nbformat_minor": 5
}
